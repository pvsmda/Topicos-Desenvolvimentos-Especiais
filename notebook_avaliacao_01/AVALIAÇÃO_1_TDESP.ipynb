{
 "cells": [
  {
   "cell_type": "markdown",
   "id": "661a32b4",
   "metadata": {},
   "source": [
    "<h1 align=center>AVALIAÇÃO 01</h1>"
   ]
  },
  {
   "cell_type": "markdown",
   "id": "328083f0",
   "metadata": {},
   "source": [
    "<h3 align=center>QUESTÃO DA PROVA</h3>"
   ]
  },
  {
   "cell_type": "markdown",
   "id": "9765795a",
   "metadata": {},
   "source": [
    "## Q.15) Peça ao usuário para inserir um número inteiro (n). Calcule e imprima todos os divisores desse número usando condicionais e estruturas de repetição."
   ]
  },
  {
   "cell_type": "code",
   "execution_count": 42,
   "id": "715d0ac1",
   "metadata": {},
   "outputs": [
    {
     "name": "stdout",
     "output_type": "stream",
     "text": [
      "Insira um número inteiro: 10\n",
      "divisores de: 10\n",
      "1\n",
      "2\n",
      "5\n",
      "10\n"
     ]
    }
   ],
   "source": [
    "n = int(input(\"Insira um número inteiro: \"))\n",
    "\n",
    "divisores = print(\"divisores de:\", n)\n",
    "\n",
    "for i in range (1, n + 1):\n",
    "    if n % i == 0:\n",
    "        print(i)"
   ]
  },
  {
   "cell_type": "markdown",
   "id": "76511321",
   "metadata": {},
   "source": [
    "<h3 align=center>COMENTÁRIOS SOBRE O CÓDIGO</h3>\n",
    "\n",
    "<p>\n",
    "Esse código solicita ao usuário que digite um número inteiro e, em seguida, exibe todos os divisores desse número na tela.\n",
    "\n",
    "Primeiramente, o programa solicita ao usuário que digite um número inteiro e armazena o valor digitado na variável \"n\" como um inteiro.\n",
    "\n",
    "Em seguida, o programa entra em um loop \"for\" que varre todos os números de 1 a \"n\" (inclusive) e verifica se cada um é um divisor de \"n\". Isso é feito verificando se o resto da divisão de \"n\" por \"i\" é zero (ou seja, se \"i\" é um divisor de \"n\").\n",
    "\n",
    "Se o resto da divisão for zero, significa que \"i\" é um divisor de \"n\", e o programa imprime o valor de \"i\" na tela. Assim, o programa exibe todos os divisores do número \"n\" na tela\n",
    "</p>"
   ]
  }
 ],
 "metadata": {
  "kernelspec": {
   "display_name": "Python 3 (ipykernel)",
   "language": "python",
   "name": "python3"
  },
  "language_info": {
   "codemirror_mode": {
    "name": "ipython",
    "version": 3
   },
   "file_extension": ".py",
   "mimetype": "text/x-python",
   "name": "python",
   "nbconvert_exporter": "python",
   "pygments_lexer": "ipython3",
   "version": "3.9.13"
  }
 },
 "nbformat": 4,
 "nbformat_minor": 5
}
