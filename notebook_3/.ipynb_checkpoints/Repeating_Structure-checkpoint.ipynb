{
 "cells": [
  {
   "cell_type": "markdown",
   "id": "66ad60b8",
   "metadata": {},
   "source": [
    "<h1 align=center>LISTA 03</h1>"
   ]
  },
  {
   "cell_type": "markdown",
   "id": "3f65af85",
   "metadata": {},
   "source": [
    "# 1) Faça um programa que peça uma nota, entre zero e dez. Mostre uma mensagem caso o valor seja inválido e continue pedindo até que o usuário informe um valor válido."
   ]
  },
  {
   "cell_type": "code",
   "execution_count": 8,
   "id": "981e2623",
   "metadata": {},
   "outputs": [
    {
     "name": "stdout",
     "output_type": "stream",
     "text": [
      "Digite uma nota entre 0 e 10: 10\n",
      "Valor inserido: 10.0\n"
     ]
    }
   ],
   "source": [
    "while True:\n",
    "    nota = float(input(\"Digite uma nota entre 0 e 10: \"))\n",
    "    if nota < 0 or nota > 10:\n",
    "        print(\"Valor inválido, tente novamente!!!\")\n",
    "    else:\n",
    "        break\n",
    "print(f'Valor inserido: {nota}')\n",
    "        "
   ]
  },
  {
   "cell_type": "markdown",
   "id": "558e292b",
   "metadata": {},
   "source": [
    "<h3 align=center>Explicação do código<h3>\n",
    "    <br>\n",
    "    <li>\n",
    "  O programa entra em um loop infinito usando o while True.\n",
    "    </li>\n",
    "    <li>\n",
    "   Em cada iteração, o usuário é solicitado a digitar uma nota usando input(). O valor inserido é convertido em um número de ponto flutuante usando float()\n",
    "    </li>\n",
    "    <li>\n",
    "    Se a nota inserida estiver fora do intervalo válido (0 a 10), o programa exibe uma mensagem de erro usando print() e retorna ao início do loop.\n",
    "    </li>\n",
    "    <li>\n",
    "    Se a nota inserida estiver dentro do intervalo válido, o programa usa a instrução break para sair do loop.\n",
    "    </li>\n",
    "    <li>\n",
    "    Finalmente, o programa exibe a mensagem \"Valor válido inserido\" juntamente com a nota inserida.\n",
    "    </li>"
   ]
  },
  {
   "cell_type": "markdown",
   "id": "6a31ea2a",
   "metadata": {},
   "source": [
    "# 2) Faça um programa que leia um nome de usuário e a sua senha e não aceite a senha igual ao nome do usuário, mostrando uma mensagem de erro e voltando a pedir as informações.\n",
    " "
   ]
  },
  {
   "cell_type": "code",
   "execution_count": 12,
   "id": "ae5e590f",
   "metadata": {},
   "outputs": [
    {
     "name": "stdout",
     "output_type": "stream",
     "text": [
      "Digite o nome de usuário: paulo\n",
      "Digite a senha: 123456\n",
      "Nome de usuário e senha cadastrados com sucesso!\n"
     ]
    }
   ],
   "source": [
    "while True:\n",
    "    nome_usuario = input(\"Digite o nome de usuário: \")\n",
    "    senha = input(\"Digite a senha: \")\n",
    "    \n",
    "    if senha == nome_usuario:\n",
    "        print(\"Erro: a senha não pode ser igual ao nome de usuário.\")\n",
    "    else:\n",
    "        print(\"Nome de usuário e senha cadastrados com sucesso!\")\n",
    "        break"
   ]
  },
  {
   "cell_type": "markdown",
   "id": "4f427103",
   "metadata": {},
   "source": [
    "<h3 align=center>Explicação do código<h3>\n",
    "    <br>\n",
    "    <li>\n",
    "  O programa entra em um loop infinito usando while True;\n",
    "    </li>\n",
    "    <li>\n",
    "  Em cada iteração, o usuário é solicitado a digitar o nome de usuário e a senha usando input();\n",
    "    </li>\n",
    "    <li>\n",
    "   Se a senha for igual ao nome de usuário, o programa exibe uma mensagem de erro usando print() e retorna ao início do loop para solicitar as informações novamente;\n",
    "    </li>\n",
    "    <li>\n",
    "    Se a senha for diferente do nome de usuário, o programa usa a instrução break para sair do loop.\n",
    "    </li>\n",
    "    <li>\n",
    "    Finalmente, o programa exibe a mensagem \"Usuário e senha cadastrados com sucesso\" para indicar que as informações foram inseridas corretamente.\n",
    "    </li>"
   ]
  },
  {
   "cell_type": "markdown",
   "id": "9b30c0cf",
   "metadata": {},
   "source": [
    "# 3)Faça um programa que leia e valide as seguintes informações:\n",
    "<br>\n",
    "<li>Nome: maior que 3 caracteres;</li>\n",
    "<li>Idade: entre 0 e 150;</li>\n",
    "<li>Salário: maior que zero;</li>\n",
    "<li>Sexo: 'f' ou 'm';</li>\n",
    "<li>Estado Civil: 's', 'c', 'v', 'd';</li>"
   ]
  },
  {
   "cell_type": "code",
   "execution_count": 1,
   "id": "dd2a57fe",
   "metadata": {},
   "outputs": [
    {
     "name": "stdout",
     "output_type": "stream",
     "text": [
      "Digite seu nome: Paulo\n",
      "Digite sua idade: 17\n",
      "Digite seu salário: 12000\n",
      "Digite seu sexo (f/m): m\n",
      "Digite seu estado civil (s/c/v/d): s\n",
      "Informações válidas: \n",
      "Nome: Paulo\n",
      "Idade: 17\n",
      "Salário: R$ 12000.00\n",
      "Sexo: m\n",
      "Estado Civil: s\n"
     ]
    }
   ],
   "source": [
    "nome = input(\"Digite seu nome: \")\n",
    "while len(nome) <= 3:\n",
    "    nome = input(\"Nome inválido. Digite um nome com mais de 3 caracteres: \")\n",
    "\n",
    "idade = int(input(\"Digite sua idade: \"))\n",
    "while idade < 0 or idade > 150:\n",
    "    idade = int(input(\"Idade inválida. Digite uma idade entre 0 e 150: \"))\n",
    "\n",
    "salario = float(input(\"Digite seu salário: \"))\n",
    "while salario <= 0:\n",
    "    salario = float(input(\"Salário inválido. Digite um salário maior que zero: \"))\n",
    "\n",
    "sexo = input(\"Digite seu sexo (f/m): \")\n",
    "while sexo.lower() != 'f' and sexo.lower() != 'm':\n",
    "    sexo = input(\"Sexo inválido. Digite 'f' para feminino ou 'm' para masculino: \")\n",
    "\n",
    "estado_civil = input(\"Digite seu estado civil (s/c/v/d): \")\n",
    "while estado_civil.lower() not in ['s', 'c', 'v', 'd']:\n",
    "    estado_civil = input(\"Estado civil inválido. Digite 's' para solteiro(a), 'c' para casado(a), 'v' para viúvo(a) ou 'd' para divorciado(a): \")\n",
    "\n",
    "print(\"Informações válidas: \")\n",
    "print(f\"Nome: {nome}\")\n",
    "print(f\"Idade: {idade}\")\n",
    "print(f\"Salário: R$ {salario:.2f}\")\n",
    "print(f\"Sexo: {sexo}\")\n",
    "\n",
    "print(f\"Estado Civil: {estado_civil}\")"
   ]
  },
  {
   "cell_type": "markdown",
   "id": "6f19e714",
   "metadata": {},
   "source": [
    "<h3 align=center>Explicação do código<h3>\n",
    "    <br>\n",
    "    <p>Neste programa, cada informação é lida do usuário através de uma função input(). Em seguida, é feita a validação usando um laço while que só é interrompido quando a informação é válida. Para o nome, é verificado o tamanho da string usando a função len(). Para a idade, é verificado se está dentro do intervalo permitido usando operadores de comparação. Para o salário, é verificado se é maior que zero. Para o sexo, é verificado se a entrada é igual a 'f' ou 'm'. E para o estado civil, é verificado se a entrada está contida na lista ['s', 'c', 'v', 'd'] usando o operador in. Por fim, as informações válidas são impressas na tela usando a função print().</p>\n",
    "\n"
   ]
  },
  {
   "cell_type": "markdown",
   "id": "e96498dc",
   "metadata": {},
   "source": [
    "# 4) Supondo que a população de um país A seja da ordem de 80000 habitantes com uma taxa anual de crescimento de 3% e que a população de B seja 200000 habitantes com uma taxa de crescimento de 1.5%. Faça um programa que calcule e escreva o número de anos necessários para que a população do país A ultrapasse ou iguale a população do país B, mantidas as taxas de crescimento."
   ]
  },
  {
   "cell_type": "code",
   "execution_count": 3,
   "id": "4d0a0a2f",
   "metadata": {},
   "outputs": [
    {
     "name": "stdout",
     "output_type": "stream",
     "text": [
      "Serão necessários 63 anos para que a população do país A ultrapasse ou iguale a população do país B.\n"
     ]
    }
   ],
   "source": [
    "populacao_a = 80000\n",
    "populacao_b = 200000\n",
    "taxa_crescimento_a = 0.03\n",
    "taxa_crescimento_b = 0.015\n",
    "\n",
    "anos = 0\n",
    "while populacao_a < populacao_b:\n",
    "    populacao_a += populacao_a * taxa_crescimento_a\n",
    "    populacao_b += populacao_b * taxa_crescimento_b\n",
    "    anos += 1\n",
    "\n",
    "print(f\"Serão necessários {anos} anos para que a população do país A ultrapasse ou iguale a população do país B.\")"
   ]
  },
  {
   "cell_type": "markdown",
   "id": "ce01bc5d",
   "metadata": {},
   "source": [
    "<h3 align=center>Explicação do código<h3>\n",
    "    <br>\n",
    "    <li>Neste programa, as variáveis populacao_a e populacao_b armazenam a população inicial dos países A e B, respectivamente, e as variáveis taxa_crescimento_a e taxa_crescimento_b armazenam as taxas de crescimento anual de cada país, em decimal. A variável anos é inicializada com zero e será usada para contar o número de anos necessários para a população do país A ultrapassar ou igualar a população do país B.</li>\n",
    "    <li>Em seguida, é iniciado um laço while que executa até que a população do país A ultrapasse ou iguale a população do país B. A cada iteração do laço, as populações dos dois países são atualizadas multiplicando-as pelas taxas de crescimento correspondentes somadas a 1. O contador de anos é incrementado a cada iteração.</li>\n",
    "    <li>Por fim, o número de anos necessários é impresso na tela usando a função print().</li>"
   ]
  },
  {
   "cell_type": "markdown",
   "id": "6bc82140",
   "metadata": {},
   "source": [
    "# 5) Altere o programa anterior permitindo ao usuário informar as populações e as taxas de crescimento iniciais. Valide a entrada e permita repetir a operação"
   ]
  },
  {
   "cell_type": "code",
   "execution_count": 4,
   "id": "b010c459",
   "metadata": {},
   "outputs": [
    {
     "name": "stdout",
     "output_type": "stream",
     "text": [
      "Digite a população inicial do país A: 100000000\n",
      "Digite a população inicial do país B: 200000000\n",
      "Digite a taxa de crescimento anual do país A (em %): 4.5\n",
      "Digite a taxa de crescimento anual do país B (em %): 2\n",
      "Levará 29 anos para a população do país A ultrapassar ou igualar a população do país B.\n",
      "Deseja calcular novamente? (s/n): n\n"
     ]
    }
   ],
   "source": [
    "while True:\n",
    "    populacao_a = int(input(\"Digite a população inicial do país A: \"))\n",
    "    while populacao_a <= 0:\n",
    "        populacao_a = int(input(\"População inválida. Digite um valor maior que zero: \"))\n",
    "\n",
    "    populacao_b = int(input(\"Digite a população inicial do país B: \"))\n",
    "    while populacao_b <= 0:\n",
    "        populacao_b = int(input(\"População inválida. Digite um valor maior que zero: \"))\n",
    "\n",
    "    taxa_crescimento_a = float(input(\"Digite a taxa de crescimento anual do país A (em %): \")) / 100\n",
    "    while taxa_crescimento_a < 0:\n",
    "        taxa_crescimento_a = float(input(\"Taxa de crescimento inválida. Digite um valor maior ou igual a zero: \")) / 100\n",
    "\n",
    "    taxa_crescimento_b = float(input(\"Digite a taxa de crescimento anual do país B (em %): \")) / 100\n",
    "    while taxa_crescimento_b < 0:\n",
    "        taxa_crescimento_b = float(input(\"Taxa de crescimento inválida. Digite um valor maior ou igual a zero: \")) / 100\n",
    "\n",
    "    anos = 0\n",
    "\n",
    "    while populacao_a < populacao_b:\n",
    "        populacao_a *= (1 + taxa_crescimento_a)\n",
    "        populacao_b *= (1 + taxa_crescimento_b)\n",
    "        anos += 1\n",
    "\n",
    "    print(f\"Levará {anos} anos para a população do país A ultrapassar ou igualar a população do país B.\")\n",
    "    \n",
    "    opcao = input(\"Deseja calcular novamente? (s/n): \")\n",
    "    if opcao.lower() != 's':\n",
    "        break"
   ]
  },
  {
   "cell_type": "markdown",
   "id": "5817474d",
   "metadata": {},
   "source": [
    "<h3 align=center>Explicação do código<h3>\n",
    "    <br>\n",
    "    <li>Neste programa, o laço while True é usado para permitir que o usuário repita a operação quantas vezes desejar. Em seguida, são lidas as populações iniciais dos países A e B e as taxas de crescimento anual correspondentes, sendo que a validação da entrada é feita usando laços while. Os valores de taxa de crescimento devem ser maiores ou iguais a zero.</li>\n",
    "    <li>Em seguida, é iniciado um laço while que executa até que a população do país A ultrapasse ou iguale a população do país B. A cada iteração do laço, as populações dos dois países são atualizadas multiplicando-as pelas taxas de crescimento correspondentes somadas a 1. O contador de anos é incrementado a cada iteração.</li>\n",
    "    <li>Por fim, o número de anos necessários é impresso na tela usando a função print(). O programa pergunta ao usuário se deseja calcular novamente e, se a resposta for diferente de 's', o laço while True é interrompido usando o comando break.</li>"
   ]
  },
  {
   "cell_type": "markdown",
   "id": "e9696d34",
   "metadata": {},
   "source": [
    "# 6) Faça um programa que imprima na tela os números de 1 a 20, um abaixo do outro. Depois modifique o programa para que ele mostre os números um ao lado do outro."
   ]
  },
  {
   "cell_type": "code",
   "execution_count": 5,
   "id": "8d3de2ac",
   "metadata": {},
   "outputs": [
    {
     "name": "stdout",
     "output_type": "stream",
     "text": [
      "1\n",
      "2\n",
      "3\n",
      "4\n",
      "5\n",
      "6\n",
      "7\n",
      "8\n",
      "9\n",
      "10\n",
      "11\n",
      "12\n",
      "13\n",
      "14\n",
      "15\n",
      "16\n",
      "17\n",
      "18\n",
      "19\n",
      "20\n",
      "1 2 3 4 5 6 7 8 9 10 11 12 13 14 15 16 17 18 19 20 "
     ]
    }
   ],
   "source": [
    "# Imprime os números um abaixo do outro\n",
    "for i in range(1, 21):\n",
    "    print(i)\n",
    "\n",
    "# Imprime os números um ao lado do outro\n",
    "for i in range(1, 21):\n",
    "    print(i, end=' ')"
   ]
  },
  {
   "cell_type": "markdown",
   "id": "20b98d36",
   "metadata": {},
   "source": [
    "<h3 align=center>Explicação do código<h3>\n",
    "    <br>\n",
    "    <li>No primeiro laço for, a função print() é usada para imprimir cada número de 1 a 20 em uma linha separada. Isso é feito usando a função range() que gera uma sequência de números de 1 a 20.</li>\n",
    "    <li>No segundo laço for, a função print() é usada para imprimir cada número de 1 a 20 um ao lado do outro na mesma linha. Isso é feito usando o parâmetro end que especifica o caractere que deve ser usado para separar as impressões de cada chamada da função print(). Neste caso, usamos um espaço em branco para separar os números.</li>"
   ]
  },
  {
   "cell_type": "markdown",
   "id": "81300da5",
   "metadata": {},
   "source": [
    "# 7) Faça um programa que leia 5 números e informe o maior número"
   ]
  },
  {
   "cell_type": "code",
   "execution_count": null,
   "id": "d4949408",
   "metadata": {},
   "outputs": [],
   "source": [
    "# Lê 5 números\n",
    "num1 = float(input(\"Digite o primeiro número: \"))\n",
    "num2 = float(input(\"Digite o segundo número: \"))\n",
    "num3 = float(input(\"Digite o terceiro número: \"))\n",
    "num4 = float(input(\"Digite o quarto número: \"))\n",
    "num5 = float(input(\"Digite o quinto número: \"))\n",
    "\n",
    "# Verifica o maior número\n",
    "maior = num1\n",
    "if num2 > maior:\n",
    "    maior = num2\n",
    "if num3 > maior:\n",
    "    maior = num3\n",
    "if num4 > maior:\n",
    "    maior = num4\n",
    "if num5 > maior:\n",
    "    maior = num5\n",
    "\n",
    "# Imprime o maior número\n",
    "print(\"O maior número é:\", maior)"
   ]
  },
  {
   "cell_type": "markdown",
   "id": "3c79b207",
   "metadata": {},
   "source": [
    "<h3 align=center>Explicação do código<h3>\n",
    "    <br>\n",
    "    <p>Neste programa, o usuário é solicitado a digitar 5 números. Em seguida, o programa verifica qual é o maior número usando uma série de condicionais if. O maior número é armazenado na variável maior. Finalmente, o programa imprime o maior número.</p>"
   ]
  },
  {
   "cell_type": "markdown",
   "id": "9adf8c24",
   "metadata": {},
   "source": [
    "# 8) Faça um programa que leia 5 números e informe a soma e a média dos números"
   ]
  },
  {
   "cell_type": "code",
   "execution_count": 7,
   "id": "824233db",
   "metadata": {},
   "outputs": [
    {
     "name": "stdout",
     "output_type": "stream",
     "text": [
      "Digite o primeiro número: 21\n",
      "Digite o segundo número: 012\n",
      "Digite o terceiro número: 1231\n",
      "Digite o quarto número: 34242432\n",
      "Digite o quinto número: 32321323134\n",
      "A soma dos números é: 32355566830.0\n",
      "A média dos números é: 6471113366.0\n"
     ]
    }
   ],
   "source": [
    "# Lê 5 números\n",
    "num1 = float(input(\"Digite o primeiro número: \"))\n",
    "num2 = float(input(\"Digite o segundo número: \"))\n",
    "num3 = float(input(\"Digite o terceiro número: \"))\n",
    "num4 = float(input(\"Digite o quarto número: \"))\n",
    "num5 = float(input(\"Digite o quinto número: \"))\n",
    "\n",
    "# Calcula a soma dos números\n",
    "soma = num1 + num2 + num3 + num4 + num5\n",
    "\n",
    "# Calcula a média dos números\n",
    "media = soma / 5\n",
    "\n",
    "# Imprime a soma e a média dos números\n",
    "print(\"A soma dos números é:\", soma)\n",
    "print(\"A média dos números é:\", media)"
   ]
  },
  {
   "cell_type": "markdown",
   "id": "0ec5f01f",
   "metadata": {},
   "source": [
    "<h3 align=center>Explicação do código<h3>\n",
    "    <br>\n",
    "    <p>Neste programa, o usuário é solicitado a digitar 5 números. Em seguida, o programa calcula a soma dos números armazenando o resultado na variável soma e calcula a média dos números armazenando o resultado na variável media. Finalmente, o programa imprime a soma e a média dos números.</p>"
   ]
  },
  {
   "cell_type": "markdown",
   "id": "48d14271",
   "metadata": {},
   "source": [
    "# 9) Faça um programa que imprima na tela apenas os números ímpares entre 1 e 50."
   ]
  },
  {
   "cell_type": "code",
   "execution_count": 8,
   "id": "2c8327b2",
   "metadata": {},
   "outputs": [
    {
     "name": "stdout",
     "output_type": "stream",
     "text": [
      "1\n",
      "3\n",
      "5\n",
      "7\n",
      "9\n",
      "11\n",
      "13\n",
      "15\n",
      "17\n",
      "19\n",
      "21\n",
      "23\n",
      "25\n",
      "27\n",
      "29\n",
      "31\n",
      "33\n",
      "35\n",
      "37\n",
      "39\n",
      "41\n",
      "43\n",
      "45\n",
      "47\n",
      "49\n"
     ]
    }
   ],
   "source": [
    "for i in range(1, 51, 2):\n",
    "    print(i)"
   ]
  },
  {
   "cell_type": "markdown",
   "id": "0fc013ad",
   "metadata": {},
   "source": [
    "<h3 align=center>Explicação do código<h3>\n",
    "    <br>\n",
    "    <p>Neste programa, o laço for é usado para percorrer os números de 1 a 50 de 2 em 2. Isso é feito usando a função range() que gera uma sequência de números de 1 a 50 com um intervalo de 2 entre eles. Em seguida, a função print() é usada para imprimir cada número ímpar. Como os números ímpares são aqueles que não são divisíveis por 2, percorrer a sequência de 2 em 2 garante que apenas os números ímpares serão impressos.</p>"
   ]
  },
  {
   "cell_type": "markdown",
   "id": "ebc2e7f2",
   "metadata": {},
   "source": [
    "# 10) Faça um programa que receba dois números inteiros e gere os números inteiros que estão no intervalo compreendido por eles."
   ]
  },
  {
   "cell_type": "code",
   "execution_count": 13,
   "id": "3c515bcf",
   "metadata": {},
   "outputs": [
    {
     "name": "stdout",
     "output_type": "stream",
     "text": [
      "Digite o primeiro número inteiro: 99\n",
      "Digite o segundo número inteiro: 110\n",
      "99\n",
      "100\n",
      "101\n",
      "102\n",
      "103\n",
      "104\n",
      "105\n",
      "106\n",
      "107\n",
      "108\n",
      "109\n",
      "110\n"
     ]
    }
   ],
   "source": [
    "num1 = int(input(\"Digite o primeiro número inteiro: \"))\n",
    "num2 = int(input(\"Digite o segundo número inteiro: \"))\n",
    "\n",
    "for i in range(num1, num2+1):\n",
    "    print(i)"
   ]
  },
  {
   "cell_type": "markdown",
   "id": "563dd280",
   "metadata": {},
   "source": [
    "<h3 align=center>Explicação do código<h3>\n",
    "    <br>\n",
    "    <p>Neste programa, o usuário é solicitado a digitar dois números inteiros. Em seguida, o laço for é usado para percorrer os números de num1 até num2. A função range() é usada para gerar uma sequência de números que começa em num1 e vai até num2, incluindo ambos os números. Por fim, a função print() é usada para imprimir cada número da sequência.</p>"
   ]
  },
  {
   "cell_type": "markdown",
   "id": "c34e65b8",
   "metadata": {},
   "source": [
    "# 11) Altere o programa anterior para mostrar no final a soma dos números"
   ]
  },
  {
   "cell_type": "code",
   "execution_count": 14,
   "id": "0c3b8179",
   "metadata": {},
   "outputs": [
    {
     "name": "stdout",
     "output_type": "stream",
     "text": [
      "Digite o primeiro número inteiro: 200\n",
      "Digite o segundo número inteiro: 205\n",
      "200\n",
      "201\n",
      "202\n",
      "203\n",
      "204\n",
      "205\n",
      "A soma dos números é: 1215\n"
     ]
    }
   ],
   "source": [
    "num1 = int(input(\"Digite o primeiro número inteiro: \"))\n",
    "num2 = int(input(\"Digite o segundo número inteiro: \"))\n",
    "\n",
    "soma = 0\n",
    "for i in range(num1, num2+1):\n",
    "    print(i)\n",
    "    soma += i\n",
    "\n",
    "print(\"A soma dos números é:\", soma)\n"
   ]
  },
  {
   "cell_type": "markdown",
   "id": "2cae0735",
   "metadata": {},
   "source": [
    "<h3 align=center>Explicação do código<h3>\n",
    "    <br>\n",
    "    <p>Neste programa, além de gerar os números inteiros entre num1 e num2, a variável soma é usada para acumular a soma dos números. A cada iteração do laço for, o número é somado à variável soma. Após o laço, a função print() é usada para imprimir a soma dos números gerados. </p>\n",
    "\n"
   ]
  },
  {
   "cell_type": "markdown",
   "id": "fd475554",
   "metadata": {},
   "source": [
    "# 12) Desenvolva um gerador de tabuada, capaz de gerar a tabuada de qualquer número inteiro entre 1 a 10. O usuário deve informar de qual numero ele deseja ver a tabuada. A saída deve ser conforme\n",
    "<h2>\n",
    "o exemplo abaixo:\n",
    "</h2>\n",
    "\n",
    "<img src=\"https://i.imgur.com/X3aT6ac.png\"/>"
   ]
  },
  {
   "cell_type": "code",
   "execution_count": 1,
   "id": "5513be8f",
   "metadata": {},
   "outputs": [
    {
     "name": "stdout",
     "output_type": "stream",
     "text": [
      "Digite um número inteiro de 1 a 10 para gerar a tabuada: 5\n",
      "Tabuada de 5:\n",
      "5 X 1 = 5\n",
      "5 X 2 = 10\n",
      "5 X 3 = 15\n",
      "5 X 4 = 20\n",
      "5 X 5 = 25\n",
      "5 X 6 = 30\n",
      "5 X 7 = 35\n",
      "5 X 8 = 40\n",
      "5 X 9 = 45\n",
      "5 X 10 = 50\n"
     ]
    }
   ],
   "source": [
    "numero = int(input(\"Digite um número inteiro de 1 a 10 para gerar a tabuada: \"))\n",
    "\n",
    "print(f\"Tabuada de {numero}:\")\n",
    "for i in range(1, 11):\n",
    "    resultado = numero * i\n",
    "    print(f\"{numero} X {i} = {resultado}\")"
   ]
  },
  {
   "cell_type": "markdown",
   "id": "6b60a391",
   "metadata": {},
   "source": [
    "<h3 align=center>Explicação do código<h3>\n",
    "  <br>\n",
    "  <ul>\n",
    "    <li>A primeira linha solicita ao usuário que digite um número inteiro entre 1 e 10 para gerar a tabuada</li>\n",
    "    <li>A segunda linha utiliza a função print para exibir a mensagem indicando qual é o número da tabuada que será gerada.</li>\n",
    "    <li>O loop for começa no número 1 e vai até o número 10, gerando a tabuada de 1 a 10.\n",
    "      Dentro do loop for, é calculado o resultado da multiplicação entre o número informado pelo usuário e o número do loop (i).</li>\n",
    "    <li>Dentro do loop for, é calculado o resultado da multiplicação entre o número informado pelo usuário e o número do loop (i).</li>\n",
    "  </ul>"
   ]
  },
  {
   "cell_type": "markdown",
   "id": "3cf35c08",
   "metadata": {},
   "source": [
    "# 13) Faça um programa que peça dois números, base e expoente, calcule e mostre o primeiro número elevado ao segundo número. Não utilize a função de potência da linguagem"
   ]
  },
  {
   "cell_type": "code",
   "execution_count": 2,
   "id": "f110fca3",
   "metadata": {},
   "outputs": [
    {
     "name": "stdout",
     "output_type": "stream",
     "text": [
      "Digite a base: 10\n",
      "Digite o expoente: 4\n",
      "10 elevado a 4 é igual a 10000\n"
     ]
    }
   ],
   "source": [
    "base = int(input(\"Digite a base: \"))\n",
    "expoente = int(input(\"Digite o expoente: \"))\n",
    "\n",
    "resultado = 1\n",
    "\n",
    "for i in range(expoente):\n",
    "    resultado *= base\n",
    "\n",
    "print(f\"{base} elevado a {expoente} é igual a {resultado}\")\n"
   ]
  },
  {
   "cell_type": "markdown",
   "id": "495403be",
   "metadata": {},
   "source": [
    "<h3 align=center>Explicação do código<h3>\n",
    "  <br>\n",
    "  <ul>\n",
    "    <li>Na primeira linha, o programa solicita que o usuário digite a base da potência.</li>\n",
    "    <li>Na segunda linha, o programa solicita que o usuário digite o expoente da potência.</li>\n",
    "    <li>Em seguida, a variável resultado é inicializada com o valor 1. Essa variável será utilizada para armazenar o resultado da potência.</li>\n",
    "    <li>O loop for começa no número 0 e vai até o expoente informado pelo usuário, executando o bloco de código dentro do loop a cada iteração.</li>\n",
    "    <li>Dentro do loop, a variável resultado é multiplicada pela base informada pelo usuário.</li>\n",
    "  </ul>"
   ]
  },
  {
   "cell_type": "markdown",
   "id": "975dcf29",
   "metadata": {},
   "source": [
    "# 14) Faça um programa que peça 10 números inteiros, calcule e mostre a quantidade de números pares e a quantidade de números impares."
   ]
  },
  {
   "cell_type": "code",
   "execution_count": 3,
   "id": "e13c24d6",
   "metadata": {},
   "outputs": [
    {
     "name": "stdout",
     "output_type": "stream",
     "text": [
      "Digite o 1º número inteiro: 20\n",
      "Digite o 2º número inteiro: 30\n",
      "Digite o 3º número inteiro: 91\n",
      "Digite o 4º número inteiro: 77\n",
      "Digite o 5º número inteiro: 33\n",
      "Digite o 6º número inteiro: 22\n",
      "Digite o 7º número inteiro: 8999\n",
      "Digite o 8º número inteiro: 2321\n",
      "Digite o 9º número inteiro: 01\n",
      "Digite o 10º número inteiro: 2\n",
      "Quantidade de números pares: 4\n",
      "Quantidade de números ímpares: 6\n"
     ]
    }
   ],
   "source": [
    "numeros_pares = 0\n",
    "numeros_impares = 0\n",
    "\n",
    "for i in range(10):\n",
    "    numero = int(input(f\"Digite o {i+1}º número inteiro: \"))\n",
    "    if numero % 2 == 0:\n",
    "        numeros_pares += 1\n",
    "    else:\n",
    "        numeros_impares += 1\n",
    "\n",
    "print(f\"Quantidade de números pares: {numeros_pares}\")\n",
    "print(f\"Quantidade de números ímpares: {numeros_impares}\")"
   ]
  },
  {
   "cell_type": "markdown",
   "id": "a1d955ea",
   "metadata": {},
   "source": [
    "<h3 align=center>Explicação do código<h3>\n",
    "  <br>\n",
    "  <ul>\n",
    "    <li>As variáveis numeros_pares e numeros_impares são inicializadas com o valor 0. Essas variáveis serão utilizadas para contar a quantidade de números pares e ímpares, respectivamente.</li>\n",
    "    <li>O loop for começa no número 0 e vai até o número 9, executando o bloco de código dentro do loop a cada iteração.<li>\n",
    "    <li>Dentro do loop, o programa solicita que o usuário digite um número inteiro e armazena esse número na variável numero.</li>\n",
    "    <li>Em seguida, o programa verifica se o número é par ou ímpar. Se o resto da divisão do número por 2 for igual a 0, o número é par e a variável numeros_pares é incrementada em 1. Caso contrário, o número é ímpar e a variável numeros_impares é incrementada em 1.</li>\n",
    "  </ul>"
   ]
  },
  {
   "cell_type": "markdown",
   "id": "538fb097",
   "metadata": {},
   "source": [
    "# 15) A série de Fibonacci é formada pela seqüência 1,1,2,3,5,8,13,21,34,55,... Faça um programa capaz de gerar a série até o n−ésimo termo."
   ]
  },
  {
   "cell_type": "code",
   "execution_count": 8,
   "id": "a6e528ca",
   "metadata": {},
   "outputs": [
    {
     "name": "stdout",
     "output_type": "stream",
     "text": [
      "Digite o valor de n: 15\n",
      "Série de Fibonacci até o 15-ésimo termo: [1, 1, 2, 3, 5, 8, 13, 21, 34, 55, 89, 144, 233, 377, 610]\n"
     ]
    }
   ],
   "source": [
    "n = int(input(\"Digite o valor de n: \"))\n",
    "\n",
    "fibonacci = [1, 1]\n",
    "\n",
    "for i in range(2, n):\n",
    "    proximo = fibonacci[i-1] + fibonacci[i-2]\n",
    "    fibonacci.append(proximo)\n",
    "\n",
    "print(f\"Série de Fibonacci até o {n}-ésimo termo: {fibonacci}\")"
   ]
  },
  {
   "cell_type": "markdown",
   "id": "c7988ed3",
   "metadata": {},
   "source": [
    "<h3 align=center>Explicação do código<h3>\n",
    "  <br>\n",
    "  <ul>\n",
    "    <li>Na primeira linha, o programa solicita que o usuário digite o valor de n, que representa o n-ésimo termo da série de Fibonacci.</li>\n",
    "    <li>A variável fibonacci é inicializada com os dois primeiros termos da série (1 e 1), que já são conhecidos.</li>\n",
    "    <li>O loop for começa no número 2 e vai até o número n-1, executando o bloco de código dentro do loop a cada iteração.</li>\n",
    "    <li>Dentro do loop, o programa calcula o próximo termo da série de Fibonacci somando os dois últimos termos da série (que estão armazenados nas posições i-1 e i-2 do vetor fibonacci) e armazena o resultado na variável proximo.</li>\n",
    "    <li>Em seguida, o próximo termo da série é adicionado ao final do vetor fibonacci utilizando o método append.</li>\n",
    "  </ul>"
   ]
  },
  {
   "cell_type": "markdown",
   "id": "9a737041",
   "metadata": {},
   "source": [
    "# 16) A série de Fibonacci é formada pela seqüência 0,1,1,2,3,5,8,13,21,34,55,... Faça um programa que gere a série até que o valor seja maior que 500."
   ]
  },
  {
   "cell_type": "code",
   "execution_count": 10,
   "id": "b20474ee",
   "metadata": {},
   "outputs": [
    {
     "name": "stdout",
     "output_type": "stream",
     "text": [
      "[0, 1, 1, 2, 3, 5, 8, 13, 21, 34, 55, 89, 144, 233, 377, 610]\n"
     ]
    }
   ],
   "source": [
    "fibonacci = [0, 1]\n",
    "\n",
    "while fibonacci[-1] <= 500:\n",
    "    next_term = fibonacci[-1] + fibonacci[-2]\n",
    "    fibonacci.append(next_term)\n",
    "    \n",
    "print(fibonacci)"
   ]
  },
  {
   "cell_type": "markdown",
   "id": "cc55ebc1",
   "metadata": {},
   "source": [
    "<h3 align=center>Explicação do código<h3>\n",
    "  <br>\n",
    "<p>\n",
    "  O programa começa inicializando as duas primeiras posições da série de Fibonacci (0 e 1) em uma lista chamada fibonacci. Em seguida, um loop while é usado para gerar os próximos termos da série até que o último valor seja maior que 500. A cada iteração do loop, o próximo termo é calculado como a soma dos dois últimos termos da lista fibonacci e adicionado à lista usando o método append(). Por fim, a lista completa é impressa na tela usando a função print().\n",
    "</p>"
   ]
  },
  {
   "cell_type": "markdown",
   "id": "5dae4963",
   "metadata": {},
   "source": [
    "# 17) Faça um programa que calcule o fatorial de um número inteiro fornecido pelo usuário "
   ]
  },
  {
   "cell_type": "code",
   "execution_count": 11,
   "id": "367e6067",
   "metadata": {},
   "outputs": [
    {
     "name": "stdout",
     "output_type": "stream",
     "text": [
      "Digite um número inteiro positivo: 10\n",
      "O fatorial de 10 é 3628800.\n"
     ]
    }
   ],
   "source": [
    "num = int(input(\"Digite um número inteiro positivo: \"))\n",
    "\n",
    "if num < 0:\n",
    "    print(\"O número deve ser positivo.\")\n",
    "else:\n",
    "    fatorial = 1\n",
    "    for i in range(1, num+1):\n",
    "        fatorial *= i\n",
    "    print(f\"O fatorial de {num} é {fatorial}.\")"
   ]
  },
  {
   "cell_type": "markdown",
   "id": "54f013e7",
   "metadata": {},
   "source": [
    "<h3 align=center>Explicação do código<h3>\n",
    "  <br>\n",
    "<p>\n",
    "  O programa começa solicitando um número inteiro positivo ao usuário usando a função input(). Em seguida, um if é usado para verificar se o número é positivo. Se o número não for positivo, o programa imprime uma mensagem de erro. Caso contrário, o programa inicializa a variável fatorial com 1 e calcula o fatorial do número usando um loop for. O loop percorre todos os números de 1 até o número fornecido pelo usuário e multiplica cada número pelo valor atual de fatorial. Por fim, o resultado é impresso na tela usando a função print().\n",
    "</p>"
   ]
  },
  {
   "cell_type": "markdown",
   "id": "d922cc32",
   "metadata": {},
   "source": [
    "# 18) . Faça um programa que, dado um conjunto de N números, determine o menor valor, o maior valor e a soma dos valores."
   ]
  },
  {
   "cell_type": "code",
   "execution_count": 12,
   "id": "105d402e",
   "metadata": {},
   "outputs": [
    {
     "name": "stdout",
     "output_type": "stream",
     "text": [
      "Digite um conjunto de números separados por espaço: 12 13 14 15\n",
      "O menor número é 12, o maior número é 15 e a soma dos números é 54.\n"
     ]
    }
   ],
   "source": [
    "numeros = input(\"Digite um conjunto de números separados por espaço: \")\n",
    "\n",
    "numeros = list(map(int, numeros.split()))\n",
    "\n",
    "menor = numeros[0]\n",
    "maior = numeros[0]\n",
    "soma = 0\n",
    "\n",
    "for numero in numeros:\n",
    "    if numero < menor:\n",
    "        menor = numero\n",
    "    if numero > maior:\n",
    "        maior = numero\n",
    "    soma += numero\n",
    "\n",
    "print(f\"O menor número é {menor}, o maior número é {maior} e a soma dos números é {soma}.\")"
   ]
  },
  {
   "cell_type": "markdown",
   "id": "e4035391",
   "metadata": {},
   "source": [
    "<h3 align=center>Explicação do código<h3>\n",
    "  <br>\n",
    "<p>\n",
    "  O programa começa solicitando um conjunto de números ao usuário usando a função input(). Em seguida, a string de números é convertida em uma lista de inteiros usando a função split() para separar os números e a função map() para converter cada número em inteiro.\n",
    "\n",
    "  As variáveis menor, maior e soma são inicializadas com o primeiro número da lista numeros. Um loop for é usado para percorrer todos os números da lista e atualizar as variáveis menor, maior e soma conforme necessário. A cada iteração do loop, o número atual é comparado com o valor atual de menor e maior e atualizado, se necessário. Além disso, o valor atual de numero é adicionado a soma.\n",
    "  \n",
    "  Por fim, o resultado é impresso na tela usando a função print()\n",
    "\n",
    "</p>"
   ]
  },
  {
   "cell_type": "markdown",
   "id": "a1fa9574",
   "metadata": {},
   "source": [
    "# 19) Altere o programa anterior para que ele aceite apenas números entre 0 e 1000"
   ]
  },
  {
   "cell_type": "code",
   "execution_count": 13,
   "id": "e9f18501",
   "metadata": {},
   "outputs": [
    {
     "name": "stdout",
     "output_type": "stream",
     "text": [
      "Digite um conjunto de números entre 0 e 1000, separados por espaço: 400 500 300 200\n",
      "O menor número é 200, o maior número é 500 e a soma dos números é 1400.\n"
     ]
    }
   ],
   "source": [
    "numeros = input(\"Digite um conjunto de números entre 0 e 1000, separados por espaço: \")\n",
    "\n",
    "numeros = list(map(int, numeros.split()))\n",
    "\n",
    "menor = 1000\n",
    "maior = 0\n",
    "soma = 0\n",
    "\n",
    "for numero in numeros:\n",
    "    if numero < 0 or numero > 1000:\n",
    "        print(f\"O número {numero} está fora do intervalo permitido.\")\n",
    "        continue\n",
    "    if numero < menor:\n",
    "        menor = numero\n",
    "    if numero > maior:\n",
    "        maior = numero\n",
    "    soma += numero\n",
    "    \n",
    "print(f\"O menor número é {menor}, o maior número é {maior} e a soma dos números é {soma}.\")"
   ]
  },
  {
   "cell_type": "markdown",
   "id": "4fd9dbde",
   "metadata": {},
   "source": [
    "<h3 align=center>Explicação do código<h3>\n",
    "  <br>\n",
    "<p>\n",
    "  O programa começa solicitando um conjunto de números entre 0 e 1000 ao usuário usando a função input(). Em seguida, a string de números é convertida em uma lista de inteiros usando a função split() para separar os números e a função map() para converter cada número em inteiro.\n",
    "\n",
    "  As variáveis menor, maior e soma são inicializadas com valores padrão que garantem que o primeiro número da lista seja atualizado corretamente. Um loop for é usado para percorrer todos os números da lista e atualizar as variáveis menor, maior e soma conforme necessário. A cada iteração do loop, o número atual é verificado para garantir que está dentro do intervalo permitido. Se o número estiver fora do intervalo, uma mensagem de erro é impressa e a iteração é pulada usando o comando continue. Caso contrário, o número é comparado com o valor atual de menor e maior e atualizado, se necessário. Além disso, o valor atual de numero é adicionado a soma.\n",
    "  \n",
    "  Por fim, o resultado é impresso na tela usando a função print().\n",
    "  \n",
    "</p>"
   ]
  },
  {
   "cell_type": "markdown",
   "id": "68c238b8",
   "metadata": {},
   "source": [
    "# 20) Altere o programa de cálculo do fatorial, permitindo ao usuário calcular o fatorial várias vezes e limitando o fatorial a números inteiros positivos e menores que 16."
   ]
  },
  {
   "cell_type": "code",
   "execution_count": 14,
   "id": "b6ef6a4c",
   "metadata": {},
   "outputs": [
    {
     "name": "stdout",
     "output_type": "stream",
     "text": [
      "Digite um número inteiro positivo menor que 16 para calcular o fatorial (ou digite 'sair' para encerrar): 12\n",
      "12! = 479001600\n",
      "Digite um número inteiro positivo menor que 16 para calcular o fatorial (ou digite 'sair' para encerrar): sair\n"
     ]
    }
   ],
   "source": [
    "while True:\n",
    "    \n",
    "    num = input(\"Digite um número inteiro positivo menor que 16 para calcular o fatorial (ou digite 'sair' para encerrar): \")\n",
    "\n",
    "    if num == 'sair':\n",
    "        break\n",
    "\n",
    "    num = int(num)\n",
    "\n",
    "    if num < 0 or num > 15:\n",
    "        print(\"O número deve ser um inteiro positivo menor que 16.\")\n",
    "        continue\n",
    "        \n",
    "    fatorial = 1\n",
    "    for i in range(1, num+1):\n",
    "        fatorial *= i\n",
    "\n",
    "    print(f\"{num}! = {fatorial}\")"
   ]
  },
  {
   "cell_type": "markdown",
   "id": "7489b70d",
   "metadata": {},
   "source": [
    "<h3 align=center>Explicação do código<h3>\n",
    "  <br>\n",
    "<p>\n",
    "  O programa começa com um loop while que permite ao usuário calcular o fatorial várias vezes. A cada iteração do loop, o programa solicita um número ao usuário usando a função input(). Se o usuário digitar 'sair', o loop é encerrado usando o comando break. Caso contrário, o número é convertido em inteiro usando a função int().\n",
    "\n",
    "  Em seguida, o programa verifica se o número está dentro do intervalo permitido (inteiro positivo menor que 16). Se o número estiver fora do intervalo, uma mensagem de erro é impressa e a iteração é pulada usando o comando continue.\n",
    "  \n",
    "  Caso o número esteja dentro do intervalo permitido, o programa calcula o fatorial usando um loop for. A cada iteração do loop, o programa multiplica o valor atual de fatorial pelo valor atual do índice i. Ao final do loop, o valor de fatorial é igual ao fatorial do número digitado.\n",
    "  \n",
    "  Por fim, o resultado é impresso na tela usando a função print(). O programa retorna ao início do loop while para permitir que o usuário calcule o fatorial novamente.\n",
    "  \n",
    "</p>"
   ]
  },
  {
   "cell_type": "markdown",
   "id": "4aa97d03",
   "metadata": {},
   "source": [
    "# 21) Faça um programa que peça um número inteiro e determine se ele é ou não um número primo. Um número primo é aquele que é divisível somente por ele mesmo e por 1.\n"
   ]
  },
  {
   "cell_type": "code",
   "execution_count": 16,
   "id": "5be9021d",
   "metadata": {},
   "outputs": [
    {
     "name": "stdout",
     "output_type": "stream",
     "text": [
      "Digite um número inteiro: 7\n",
      "7 é um número primo.\n"
     ]
    }
   ],
   "source": [
    "num = int(input(\"Digite um número inteiro: \"))\n",
    "\n",
    "if num == 1:\n",
    "    print(f\"{num} não é um número primo.\")\n",
    "    exit()\n",
    "if num > 1:\n",
    "    for i in range(2, int(num**0.5)+1):\n",
    "        if num % i == 0:\n",
    "            print(f\"{num} não é um número primo.\")\n",
    "            break\n",
    "    else:\n",
    "        print(f\"{num} é um número primo.\")\n",
    "else:\n",
    "    print(f\"{num} não é um número primo.\")"
   ]
  },
  {
   "cell_type": "markdown",
   "id": "ba3d754b",
   "metadata": {},
   "source": [
    "<h3 align=center>Explicação do código<h3>\n",
    "  <br>\n",
    "<p>\n",
    "  O programa começa solicitando um número inteiro ao usuário usando a função input() e convertendo o valor para inteiro usando a função int().\n",
    "\n",
    "  Em seguida, o programa verifica se o número é igual a 1, caso seja, o programa imprime que o número não é um número primo e encerra a execução usando o comando exit().\n",
    "  \n",
    "  Caso o número seja maior que 1, o programa usa um loop for para verificar se o número é divisível por algum número entre 2 e a raiz quadrada do número. Para calcular a raiz quadrada, o programa usa a expressão num**0.5.\n",
    "  \n",
    "  Se o número for divisível por algum número entre 2 e a raiz quadrada do número, o programa imprime que o número não é um número primo e encerra o loop usando o comando break.\n",
    "  \n",
    "  Se o loop chegar ao final sem encontrar um número pelo qual o número seja divisível, o programa imprime que o número é um número primo.\n",
    "  \n",
    "  Caso o número seja menor ou igual a 1, o programa também imprime que o número não é um número primo.  \n",
    "</p>"
   ]
  },
  {
   "cell_type": "markdown",
   "id": "8bd2b369",
   "metadata": {},
   "source": [
    "# 22) Altere o programa de cálculo dos números primos, informando, caso o número não seja primo, por quais número ele é divisível."
   ]
  },
  {
   "cell_type": "code",
   "execution_count": 17,
   "id": "08983b93",
   "metadata": {},
   "outputs": [
    {
     "name": "stdout",
     "output_type": "stream",
     "text": [
      "Digite um número inteiro: 12\n",
      "12 não é um número primo.\n",
      "Ele é divisível por: 2, 3.\n"
     ]
    }
   ],
   "source": [
    "num = int(input(\"Digite um número inteiro: \"))\n",
    "\n",
    "if num == 1:\n",
    "    print(f\"{num} não é um número primo.\")\n",
    "    exit()\n",
    "\n",
    "if num > 1:\n",
    "    divisores = []\n",
    "    for i in range(2, int(num**0.5)+1):\n",
    "        if num % i == 0:\n",
    "            divisores.append(i)\n",
    "\n",
    "    if len(divisores) == 0:\n",
    "        print(f\"{num} é um número primo.\")\n",
    "    else:\n",
    "        print(f\"{num} não é um número primo.\")\n",
    "        print(f\"Ele é divisível por: {', '.join(map(str,divisores))}.\")\n",
    "else:\n",
    "    print(f\"{num} não é um número primo.\")"
   ]
  },
  {
   "cell_type": "markdown",
   "id": "65742cf7",
   "metadata": {},
   "source": [
    "<h3 align=center>Explicação do código<h3>\n",
    "  <br>\n",
    "<p>\n",
    "  O programa começa solicitando um número inteiro ao usuário usando a função input() e convertendo o valor para inteiro usando a função int().\n",
    "\n",
    "  Em seguida, o programa verifica se o número é igual a 1, caso seja, o programa imprime que o número não é um número primo e encerra a execução usando o comando exit().\n",
    "  \n",
    "  Caso o número seja maior que 1, o programa usa um loop for para verificar se o número é divisível por algum número entre 2 e a raiz quadrada do número. Para calcular a raiz quadrada, o programa usa a expressão num**0.5.\n",
    "  \n",
    "  Se o número for divisível por algum número entre 2 e a raiz quadrada do número, o programa adiciona o divisor à lista divisores.\n",
    "  \n",
    "  Se a lista divisores estiver vazia, o programa imprime que o número é um número primo. Caso contrário, o programa imprime que o número não é um número primo e imprime a lista divisores.\n",
    "  \n",
    "  Caso o número seja menor ou igual a 1, o programa também imprime que o número não é um número primo.  \n",
    "</p>"
   ]
  },
  {
   "cell_type": "markdown",
   "id": "06fe8eb3",
   "metadata": {},
   "source": [
    "# 23) Faça um programa que mostre todos os primos entre 1 e N sendo N um número inteiro fornecido pelo usuário. O programa deverá mostrar também o número de divisões que ele executou para encontrar os números primos. Serão avaliados o funcionamento, o estilo e o número de testes (divisões) executados"
   ]
  },
  {
   "cell_type": "code",
   "execution_count": 25,
   "id": "3bb3aac8",
   "metadata": {},
   "outputs": [
    {
     "name": "stdout",
     "output_type": "stream",
     "text": [
      "Digite um número inteiro: 11\n",
      "Os números primos entre 1 e 11 são: 2, 3, 5, 7, 11\n",
      "O número de divisões executadas foi: 4\n"
     ]
    }
   ],
   "source": [
    "n = int(input(\"Digite um número inteiro: \"))\n",
    "\n",
    "primos = []\n",
    "\n",
    "for num in range(1, n+1):\n",
    "    if num == 1:\n",
    "        continue\n",
    "\n",
    "    divisores = []\n",
    "    for i in range(2, int(num**0.5)+1):\n",
    "        if num % i == 0:\n",
    "            divisores.append(i)\n",
    "    \n",
    "    if len(divisores) == 0:\n",
    "        primos.append(num)\n",
    "\n",
    "print(f\"Os números primos entre 1 e {n} são: {', '.join(map(str, primos))}\")\n",
    "\n",
    "num_divisoes = sum([len(list(range(2, int(num**0.5)+1))) for num in primos])\n",
    "print(f\"O número de divisões executadas foi: {num_divisoes}\")"
   ]
  },
  {
   "cell_type": "markdown",
   "id": "9849bef2",
   "metadata": {},
   "source": [
    "<h3 align=center>Explicação do código<h3>\n",
    "  <br>\n",
    "<p>\n",
    "  O programa começa solicitando um número inteiro N ao usuário usando a função input() e convertendo o valor para inteiro usando a função int().\n",
    "\n",
    "  Em seguida, o programa cria uma lista vazia primos para armazenar os números primos encontrados.\n",
    "  \n",
    "  O programa usa um loop for para verificar se os números entre 1 e N são primos. Para cada número, o programa verifica se ele é igual a 1. Se for, pula para o próximo número usando o comando continue. Se não for, o programa verifica se o número é primo usando um loop for semelhante ao utilizado no programa anterior.\n",
    "  \n",
    "  Se o número for primo, o programa adiciona o número à lista primos.\n",
    "  \n",
    "  Após verificar todos os números entre 1 e N, o programa imprime a lista primos usando a função join() para concatenar os números como uma string separada por vírgulas.\n",
    "  \n",
    "  Por fim, o programa calcula o número de divisões que foram executadas para encontrar os números primos. O programa calcula o número de divisões para cada número primo usando a expressão len(list(range(2, int(num**0.5)+1))) e, em seguida, soma o número de divisões para todos os números primos encontrados. O programa imprime o número de divisões usando a função sum().\n",
    "  \n",
    "  Esse programa executa um número menor de divisões do que o programa anterior que verifica se cada número individualmente é primo ou não. Isso ocorre porque o programa anterior executa divisões para todos os números, enquanto este programa só executa divisões para os números que são potencialmente primos.  \n",
    "</p>"
   ]
  },
  {
   "cell_type": "markdown",
   "id": "04041936",
   "metadata": {},
   "source": [
    "# 24) Faça um programa que calcule o mostre a média aritmética de N notas."
   ]
  },
  {
   "cell_type": "code",
   "execution_count": 27,
   "id": "f7faa8f7",
   "metadata": {},
   "outputs": [
    {
     "name": "stdout",
     "output_type": "stream",
     "text": [
      "Digite o número de notas: 4\n",
      "Digite a nota 1: 10\n",
      "Digite a nota 2: 9\n",
      "Digite a nota 3: 5\n",
      "Digite a nota 4: 7\n",
      "A média aritmética das 4 notas é: 7.75\n"
     ]
    }
   ],
   "source": [
    "n = int(input(\"Digite o número de notas: \"))\n",
    "\n",
    "soma = 0\n",
    "\n",
    "for i in range(n):\n",
    "    nota = float(input(f\"Digite a nota {i+1}: \"))\n",
    "    soma += nota\n",
    "\n",
    "media = soma / n\n",
    "\n",
    "print(f\"A média aritmética das {n} notas é: {media:.2f}\")"
   ]
  },
  {
   "cell_type": "markdown",
   "id": "04315a0d",
   "metadata": {},
   "source": [
    "<h3 align=center>Explicação do código<h3>\n",
    "  <br>\n",
    "<p>\n",
    "  O programa começa solicitando ao usuário o número N de notas usando a função input() e convertendo o valor para inteiro usando a função int().\n",
    "\n",
    "  O programa inicializa a variável soma com zero e usa um loop for para solicitar cada nota ao usuário usando a função input() e convertendo o valor para float usando a função float(). A cada nota digitada, o programa soma o valor à variável soma.\n",
    "  \n",
    "  Após obter todas as notas, o programa calcula a média aritmética dividindo a variável soma pelo número de notas.\n",
    "  \n",
    "  Por fim, o programa mostra a média aritmética das notas usando a função print() e formatando o valor com duas casas decimais usando a expressão :.2f.  \n",
    "</p>"
   ]
  },
  {
   "cell_type": "markdown",
   "id": "785ad05d",
   "metadata": {},
   "source": [
    "# 25) Faça um programa que peça para n pessoas a sua idade, ao final o programa devera verificar se a média de idade da turma varia entre 0 e 25,26 e 60 e maior que 60; e então, dizer se a turma é jovem, adulta ou idosa, conforme a média calculada."
   ]
  },
  {
   "cell_type": "code",
   "execution_count": 28,
   "id": "6b258a39",
   "metadata": {},
   "outputs": [
    {
     "name": "stdout",
     "output_type": "stream",
     "text": [
      "Digite o número de pessoas: 4\n",
      "Digite a idade da pessoa 1: 20\n",
      "Digite a idade da pessoa 2: 40\n",
      "Digite a idade da pessoa 3: 32\n",
      "Digite a idade da pessoa 4: 22\n",
      "A média de idade da turma é: 28.50\n",
      "A turma é classificada como adulta\n"
     ]
    }
   ],
   "source": [
    "n = int(input(\"Digite o número de pessoas: \"))\n",
    "\n",
    "soma_idade = 0\n",
    "\n",
    "for i in range(n):\n",
    "    idade = int(input(f\"Digite a idade da pessoa {i+1}: \"))\n",
    "    soma_idade += idade\n",
    "\n",
    "media_idade = soma_idade / n\n",
    "\n",
    "if media_idade <= 25:\n",
    "    faixa_etaria = \"jovem\"\n",
    "elif media_idade <= 60:\n",
    "    faixa_etaria = \"adulta\"\n",
    "else:\n",
    "    faixa_etaria = \"idosa\"\n",
    "\n",
    "print(f\"A média de idade da turma é: {media_idade:.2f}\")\n",
    "print(f\"A turma é classificada como {faixa_etaria}\")"
   ]
  },
  {
   "cell_type": "markdown",
   "id": "b3e40db1",
   "metadata": {},
   "source": [
    "<h3 align=center>Explicação do código<h3>\n",
    "  <br>\n",
    "<p>\n",
    "  O programa começa solicitando ao usuário o número N de pessoas usando a função input() e convertendo o valor para inteiro usando a função int().\n",
    "\n",
    "  O programa inicializa a variável soma_idade com zero e usa um loop for para solicitar a idade de cada pessoa ao usuário usando a função input() e convertendo o valor para inteiro usando a função int(). A cada idade digitada, o programa soma o valor à variável soma_idade.\n",
    "  \n",
    "  Após obter todas as idades, o programa calcula a média de idade da turma dividindo a variável soma_idade pelo número de pessoas.\n",
    "  \n",
    "  Em seguida, o programa verifica em qual faixa etária a turma se enquadra usando uma estrutura condicional if. Se a média de idade for menor ou igual a 25, a turma é classificada como \"jovem\". Se a média de idade for menor ou igual a 60, a turma é classificada como \"adulta\". Caso contrário, a turma é classificada como \"idosa\".\n",
    "  \n",
    "  Por fim, o programa mostra a média de idade da turma e a faixa etária correspondente usando a função print() e formatando o valor da média de idade com duas casas decimais usando a expressão :.2f.  \n",
    "</p>"
   ]
  },
  {
   "cell_type": "markdown",
   "id": "dc81090a",
   "metadata": {},
   "source": [
    "# 26) Numa eleição existem três candidatos. Faça um programa que peça o número total de eleitores. Peça para cada eleitor votar e ao final mostrar o número de votos de cada candidato."
   ]
  },
  {
   "cell_type": "code",
   "execution_count": 34,
   "id": "5eb90103",
   "metadata": {},
   "outputs": [
    {
     "name": "stdout",
     "output_type": "stream",
     "text": [
      "Digite o número total de eleitores: 6\n",
      "Eleitor 1:\n",
      "1 - Candidato 1\n",
      "2 - Candidato 2\n",
      "3 - Candidato 3\n",
      "Digite o número do candidato escolhido: 1\n",
      "Eleitor 2:\n",
      "1 - Candidato 1\n",
      "2 - Candidato 2\n",
      "3 - Candidato 3\n",
      "Digite o número do candidato escolhido: 1\n",
      "Eleitor 3:\n",
      "1 - Candidato 1\n",
      "2 - Candidato 2\n",
      "3 - Candidato 3\n",
      "Digite o número do candidato escolhido: 2\n",
      "Eleitor 4:\n",
      "1 - Candidato 1\n",
      "2 - Candidato 2\n",
      "3 - Candidato 3\n",
      "Digite o número do candidato escolhido: 2\n",
      "Eleitor 5:\n",
      "1 - Candidato 1\n",
      "2 - Candidato 2\n",
      "3 - Candidato 3\n",
      "Digite o número do candidato escolhido: 3\n",
      "Eleitor 6:\n",
      "1 - Candidato 1\n",
      "2 - Candidato 2\n",
      "3 - Candidato 3\n",
      "Digite o número do candidato escolhido: 3\n",
      "Resultado final:\n",
      "Candidato 1: 2 votos\n",
      "Candidato 2: 2 votos\n",
      "Candidato 3: 2 votos\n"
     ]
    }
   ],
   "source": [
    "total_eleitores = int(input(\"Digite o número total de eleitores: \"))\n",
    "\n",
    "votos_candidato1 = 0\n",
    "votos_candidato2 = 0\n",
    "votos_candidato3 = 0\n",
    "\n",
    "for i in range(total_eleitores):\n",
    "    print(f\"Eleitor {i+1}:\")\n",
    "    print(\"1 - Candidato 1\")\n",
    "    print(\"2 - Candidato 2\")\n",
    "    print(\"3 - Candidato 3\")\n",
    "    voto = int(input(\"Digite o número do candidato escolhido: \"))\n",
    "    \n",
    "    if voto == 1:\n",
    "        votos_candidato1 += 1\n",
    "    elif voto == 2:\n",
    "        votos_candidato2 += 1\n",
    "    elif voto == 3:\n",
    "        votos_candidato3 += 1\n",
    "    else:\n",
    "        print(\"Voto inválido. Tente novamente.\")\n",
    "        continue\n",
    "\n",
    "print(f\"Resultado final:\")\n",
    "print(f\"Candidato 1: {votos_candidato1} votos\")\n",
    "print(f\"Candidato 2: {votos_candidato2} votos\")\n",
    "print(f\"Candidato 3: {votos_candidato3} votos\")"
   ]
  },
  {
   "cell_type": "markdown",
   "id": "9da0d53e",
   "metadata": {},
   "source": [
    "<h3 align=center>Explicação do código<h3>\n",
    "  <br>\n",
    "<p>\n",
    "  O programa começa solicitando ao usuário o número total de eleitores usando a função input() e convertendo o valor para inteiro usando a função int().\n",
    "\n",
    "  O programa inicializa as variáveis de contagem de votos para cada candidato com zero e usa um loop for para permitir que cada eleitor vote. Dentro do loop, o programa mostra as opções de candidatos disponíveis para o eleitor usando a função print(). O programa solicita ao eleitor que digite o número do candidato escolhido usando a função input() e convertendo o valor para inteiro usando a função int().\n",
    "  \n",
    "  Em seguida, o programa verifica em qual candidato foi votado usando uma estrutura condicional if. Se o voto for para o candidato 1, o programa incrementa a variável de contagem votos_candidato1. Se o voto for para o candidato 2, o programa incrementa a variável de contagem votos_candidato2. Se o voto for para o candidato 3, o programa incrementa a variável de contagem votos_candidato3. Caso contrário, o programa mostra uma mensagem de erro e usa a palavra-chave continue para pular para a próxima iteração do loop sem incrementar nenhuma variável de contagem.\n",
    "  \n",
    "  Após todos os eleitores votarem, o programa mostra o número de votos de cada candidato usando a função print() e formatando o valor das variáveis de contagem correspondentes usando as expressões {votos_candidato1}, {votos_candidato2} e {votos_candidato3}.  \n",
    "</p>"
   ]
  },
  {
   "cell_type": "markdown",
   "id": "9cf0f4cd",
   "metadata": {},
   "source": [
    "# 27) Faça um programa que calcule o número médio de alunos por turma. Para isto, peça a quantidade de turmas e a quantidade de alunos para cada turma. As turmas não podem ter mais de 40 alunos."
   ]
  },
  {
   "cell_type": "code",
   "execution_count": 35,
   "id": "73620513",
   "metadata": {},
   "outputs": [
    {
     "name": "stdout",
     "output_type": "stream",
     "text": [
      "Digite o número de turmas: 3\n",
      "Digite a quantidade de alunos da turma 1: 40\n",
      "Digite a quantidade de alunos da turma 2: 30\n",
      "Digite a quantidade de alunos da turma 3: 28\n",
      "A média de alunos por turma é de 32.67.\n"
     ]
    }
   ],
   "source": [
    "num_turmas = int(input(\"Digite o número de turmas: \"))\n",
    "total_alunos = 0\n",
    "\n",
    "for i in range(num_turmas):\n",
    "    while True:\n",
    "        num_alunos = int(input(f\"Digite a quantidade de alunos da turma {i+1}: \"))\n",
    "        if num_alunos > 0 and num_alunos <= 40:\n",
    "            break\n",
    "        else:\n",
    "            print(\"A quantidade de alunos deve ser maior que 0 e menor ou igual a 40.\")\n",
    "    total_alunos += num_alunos\n",
    "\n",
    "media_alunos = total_alunos / num_turmas\n",
    "\n",
    "print(f\"A média de alunos por turma é de {media_alunos:.2f}.\")"
   ]
  },
  {
   "cell_type": "markdown",
   "id": "29c5c64e",
   "metadata": {},
   "source": [
    "<h3 align=center>Explicação do código<h3>\n",
    "  <br>\n",
    "<p>\n",
    "  O programa começa solicitando ao usuário o número de turmas. Em seguida, é feito um loop para cada turma, no qual é solicitada a quantidade de alunos. Note que há um loop while True que só é interrompido quando o usuário digitar um valor válido para a quantidade de alunos, ou seja, um valor maior que 0 e menor ou igual a 40. Caso contrário, é exibida uma mensagem de erro e o loop continua.\n",
    "\n",
    "  Ao final do loop, a quantidade de alunos da turma é somada ao total de alunos. Depois que todos os loops das turmas terminam, é calculada a média de alunos por turma e exibida ao usuário com duas casas decimais de precisão, utilizando a formatação de string com o método format().  \n",
    "</p>"
   ]
  },
  {
   "cell_type": "markdown",
   "id": "4b2b72d0",
   "metadata": {},
   "source": [
    "# 28) Faça um programa que calcule o valor total investido por um colecionador em sua coleção de CDs e o valor médio gasto em cada um deles. O usuário deverá informar a quantidade de CDs e o valor para em cada um."
   ]
  },
  {
   "cell_type": "code",
   "execution_count": 38,
   "id": "df1f9d58",
   "metadata": {},
   "outputs": [
    {
     "name": "stdout",
     "output_type": "stream",
     "text": [
      "Digite a quantidade de CDs: 5\n",
      "Digite o valor do CD 1: R$10\n",
      "Digite o valor do CD 2: R$100\n",
      "Digite o valor do CD 3: R$2000\n",
      "Digite o valor do CD 4: R$4000\n",
      "Digite o valor do CD 5: R$20000\n",
      "O total investido na coleção de CDs é de R$26110.00.\n",
      "A média gasta em cada CD é de R$5222.00.\n"
     ]
    }
   ],
   "source": [
    "num_cds = int(input(\"Digite a quantidade de CDs: \"))\n",
    "total_investido = 0\n",
    "\n",
    "for i in range(num_cds):\n",
    "    while True:\n",
    "        valor_cd = float(input(f\"Digite o valor do CD {i+1}: R$\"))\n",
    "        if valor_cd > 0:\n",
    "            break\n",
    "        else:\n",
    "            print(\"O valor deve ser maior que 0.\")\n",
    "    total_investido += valor_cd\n",
    "\n",
    "media_gasto = total_investido / num_cds\n",
    "\n",
    "print(f\"O total investido na coleção de CDs é de R${total_investido:.2f}.\")\n",
    "print(f\"A média gasta em cada CD é de R${media_gasto:.2f}.\")"
   ]
  },
  {
   "cell_type": "markdown",
   "id": "85a4d776",
   "metadata": {},
   "source": [
    "<h3 align=center>Explicação do código<h3>\n",
    "  <br>\n",
    "<p>\n",
    "  O programa começa solicitando ao usuário a quantidade de CDs que ele tem na coleção. Em seguida, é feito um loop para cada CD, no qual é solicitado o valor pago pelo CD. Note que há um loop while True que só é interrompido quando o usuário digitar um valor válido para o valor do CD, ou seja, um valor maior que 0. Caso contrário, é exibida uma mensagem de erro e o loop continua.\n",
    "\n",
    "  Ao final do loop, o valor do CD é somado ao total investido na coleção. Depois que todos os loops dos CDs terminam, é calculada a média gasta em cada CD e exibida ao usuário com duas casas decimais de precisão, utilizando a formatação de string com o método format(). Além disso, é exibido também o valor total investido na coleção, também com duas casas decimais de precisão.  \n",
    "</p>"
   ]
  },
  {
   "cell_type": "markdown",
   "id": "91955a92",
   "metadata": {},
   "source": [
    "# 29) O Sr. Manoel Joaquim possui uma grande loja de artigos de R$ 1,99, com cerca de 10 caixas. Para agilizar o cálculo de quanto cada cliente deve pagar ele desenvolveu um tabela que contém o número de itens que o cliente comprou e ao lado o valor da conta. Desta forma a atendente do caixa precisa apenas contar quantos itens o cliente está levando e olhar na tabela de preços. Você foi contratado para desenvolver o programa que monta esta tabela de preços, que conterá os preços de 1 até 50 produtos, conforme o exemplo abaixo :\n",
    "\n",
    "<img src =\"https://i.imgur.com/hAhWGwB.png\">"
   ]
  },
  {
   "cell_type": "code",
   "execution_count": 1,
   "id": "cc23970c",
   "metadata": {},
   "outputs": [
    {
     "name": "stdout",
     "output_type": "stream",
     "text": [
      "1 - R$ 1.99\n",
      "2 - R$ 3.98\n",
      "3 - R$ 5.97\n",
      "4 - R$ 7.96\n",
      "5 - R$ 9.95\n",
      "6 - R$ 11.94\n",
      "7 - R$ 13.93\n",
      "8 - R$ 15.92\n",
      "9 - R$ 17.91\n",
      "10 - R$ 19.90\n",
      "11 - R$ 21.89\n",
      "12 - R$ 23.88\n",
      "13 - R$ 25.87\n",
      "14 - R$ 27.86\n",
      "15 - R$ 29.85\n",
      "16 - R$ 31.84\n",
      "17 - R$ 33.83\n",
      "18 - R$ 35.82\n",
      "19 - R$ 37.81\n",
      "20 - R$ 39.80\n",
      "21 - R$ 41.79\n",
      "22 - R$ 43.78\n",
      "23 - R$ 45.77\n",
      "24 - R$ 47.76\n",
      "25 - R$ 49.75\n",
      "26 - R$ 51.74\n",
      "27 - R$ 53.73\n",
      "28 - R$ 55.72\n",
      "29 - R$ 57.71\n",
      "30 - R$ 59.70\n",
      "31 - R$ 61.69\n",
      "32 - R$ 63.68\n",
      "33 - R$ 65.67\n",
      "34 - R$ 67.66\n",
      "35 - R$ 69.65\n",
      "36 - R$ 71.64\n",
      "37 - R$ 73.63\n",
      "38 - R$ 75.62\n",
      "39 - R$ 77.61\n",
      "40 - R$ 79.60\n",
      "41 - R$ 81.59\n",
      "42 - R$ 83.58\n",
      "43 - R$ 85.57\n",
      "44 - R$ 87.56\n",
      "45 - R$ 89.55\n",
      "46 - R$ 91.54\n",
      "47 - R$ 93.53\n",
      "48 - R$ 95.52\n",
      "49 - R$ 97.51\n",
      "50 - R$ 99.50\n"
     ]
    }
   ],
   "source": [
    "def calcular_valor_compra(qtd_itens):\n",
    "    valor_unitario = 1.99\n",
    "    if qtd_itens <= 0 or qtd_itens > 50:\n",
    "        return None # retorna None se a quantidade de itens for inválida\n",
    "    elif qtd_itens == 1:\n",
    "        return valor_unitario\n",
    "    else:\n",
    "        return qtd_itens * valor_unitario\n",
    "\n",
    "for i in range(1, 51):\n",
    "    valor = calcular_valor_compra(i)\n",
    "    print(f\"{i} - R$ {valor:.2f}\")"
   ]
  },
  {
   "cell_type": "markdown",
   "id": "c13adcd9",
   "metadata": {},
   "source": [
    "<h3 align=center>Explicação do código<h3>\n",
    "  <br>\n",
    "<p>\n",
    "  Neste exemplo, a função calcular_valor_compra recebe como argumento a quantidade de itens que o cliente comprou. Ela verifica se a quantidade é válida (entre 1 e 50) e calcula o valor total da compra com base no valor unitário de cada produto (R$ 1,99).\n",
    "\n",
    "  Em seguida, é feito um loop que imprime na tela a tabela de preços, usando a função calcular_valor_compra para obter o valor total da compra para cada quantidade de itens. A expressão \"{valor:.2f}\" formata o valor em formato de número decimal com duas casas decimais após a vírgula.  \n",
    "</p>"
   ]
  },
  {
   "cell_type": "markdown",
   "id": "7d10bce6",
   "metadata": {},
   "source": [
    "# 30) 0. O Sr. Manoel Joaquim acaba de adquirir uma panificadora e pretende implantar a metodologia da tabelinha, que já é um sucesso na sua loja de 1,99. Você foi contratado para desenvolver o programa que monta a tabela de preços de pães, de 1 até 50 pães, a partir do preço do pão informado pelo usuário, conforme o exemplo abaixo:\n",
    "\n",
    "<img src =\"https://i.imgur.com/Uw5qyw7.png\">"
   ]
  },
  {
   "cell_type": "code",
   "execution_count": null,
   "id": "8c71137f",
   "metadata": {},
   "outputs": [],
   "source": [
    "def calcular_valor_compra(qtd_paes, preco_pao):\n",
    "    if qtd_paes <= 0 or qtd_paes > 50 or preco_pao <= 0:\n",
    "        return None # retorna None se a quantidade de pães ou o preço for inválido\n",
    "    else:\n",
    "        valor_total = qtd_paes * preco_pao\n",
    "        return valor_total\n",
    "\n",
    "# Programa principal\n",
    "preco_pao = float(input(\"Digite o preço do pão: R$ \"))\n",
    "print(\"Panificadora Pão de Ontem - Tabela de preços\")\n",
    "for i in range(1, 51):\n",
    "    valor = calcular_valor_compra(i, preco_pao)\n",
    "    if valor is not None:\n",
    "        print(f\"{i} - R$ {valor:.2f}\")\n",
    "    else:\n",
    "        print(f\"{i} - Preço ou quantidade inválidos\")"
   ]
  },
  {
   "cell_type": "markdown",
   "id": "1289e97f",
   "metadata": {},
   "source": [
    "<h3 align=center>Explicação do código<h3>\n",
    "  <br>\n",
    "<p>\n",
    "  Neste exemplo, a função calcular_valor_compra recebe como argumentos a quantidade de pães e o preço do pão informado pelo usuário. Ela verifica se os valores são válidos (quantidade entre 1 e 50 e preço maior que zero) e calcula o valor total da compra, multiplicando a quantidade de pães pelo preço unitário.\n",
    "\n",
    "  Em seguida, é solicitado que o usuário informe o preço do pão. Depois disso, é feito um loop que imprime na tela a tabela de preços, usando a função calcular_valor_compra para obter o valor total da compra para cada quantidade de pães. Se o valor retornado pela função for inválido, a mensagem \"Preço ou quantidade inválidos\" é exibida na tela.  \n",
    "</p>"
   ]
  },
  {
   "cell_type": "markdown",
   "id": "4324bf66",
   "metadata": {},
   "source": [
    "# 31) . O Sr. Manoel Joaquim expandiu seus negócios para além dos negócios de 1,99 e agora possui uma loja de conveniências. Faça um programa que implemente uma caixa registradora rudimentar. O programa deverá receber um número desconhecido de valores referentes aos preços das mercadorias. Um valor zero deve ser informado pelo operador para indicar o final da compra. O programa deve então mostrar o total da compra e perguntar o valor em dinheiro que o cliente forneceu, para então calcular e mostrar o valor do troco. Após esta operação, o programa deverá voltar ao ponto inicial, para registrar a próxima compra. A saída deve ser conforme o exemplo abaixo:\n",
    "\n",
    "<img src=\"https://i.imgur.com/nRUrpL5.png\">"
   ]
  },
  {
   "cell_type": "code",
   "execution_count": null,
   "id": "89a8b0a6",
   "metadata": {},
   "outputs": [
    {
     "name": "stdout",
     "output_type": "stream",
     "text": [
      "Lojas Tabajara\n",
      "Produto 1: R$ 10\n",
      "Produto 2: R$ 20\n",
      "Produto 3: R$ 30\n",
      "Produto 4: R$ 40\n",
      "Produto 5: R$ 50\n",
      "Produto 6: R$ 0\n",
      "Total: R$ 150.00\n",
      "Dinheiro: R$ 20\n",
      "Troco: R$ -130.0\n",
      "Lojas Tabajara\n",
      "Produto 1: R$ 50\n",
      "Produto 2: R$ 50\n",
      "Produto 3: R$ 50\n",
      "Produto 4: R$ 10\n",
      "Produto 5: R$ 40\n",
      "Produto 6: R$ 0\n",
      "Total: R$ 200.00\n",
      "Dinheiro: R$ 500\n",
      "Troco: R$ 300.0\n",
      "Lojas Tabajara\n"
     ]
    }
   ],
   "source": [
    "while True:\n",
    "    print(\"Lojas Tabajara\")\n",
    "    total = 0\n",
    "    contador = 1\n",
    "    while True:\n",
    "        preco = float(input(f\"Produto {contador}: R$ \"))\n",
    "        if preco == 0:\n",
    "            break\n",
    "        total += preco\n",
    "        contador += 1\n",
    "    print(f\"Total: R$ {total:.2f}\")\n",
    "    dinheiro = float(input(\"Dinheiro: R$ \"))\n",
    "    troco = dinheiro - total\n",
    "    print(f\"Troco: R$ {troco}\")"
   ]
  },
  {
   "cell_type": "markdown",
   "id": "cf597b5d",
   "metadata": {},
   "source": [
    "<h3 align=center>Explicação do código<h3>\n",
    "  <br>\n",
    "<p>\n",
    "  Neste exemplo, o programa principal contém um loop principal que executa indefinidamente (já que não sabemos quantas compras o operador irá fazer). Dentro desse loop, é exibido o cabeçalho da loja e inicializada a variável total com zero.\n",
    "\n",
    "  Em seguida, é feito um loop interno que pede ao operador para informar os preços das mercadorias. Cada valor informado é somado à variável total. Quando o operador informa um valor zero, o loop é encerrado.\n",
    "  \n",
    "  Depois disso, o programa exibe o total da compra e pede ao operador que informe o valor em dinheiro que ele forneceu. O valor do troco é calculado e exibido na tela. Em seguida, o loop principal recomeça, permitindo que o operador registre uma nova compra.  \n",
    "</p>"
   ]
  },
  {
   "cell_type": "markdown",
   "id": "20d49c05",
   "metadata": {},
   "source": [
    "# 32) Faça um programa que calcule o fatorial de um número inteiro fornecido pelo usuário. Ex.:\n",
    "\n",
    "<img src=\"https://i.imgur.com/fxf9MWr.png\">"
   ]
  },
  {
   "cell_type": "code",
   "execution_count": 4,
   "id": "95c933ed",
   "metadata": {},
   "outputs": [
    {
     "name": "stdout",
     "output_type": "stream",
     "text": [
      "Fatorial de: 9\n",
      "9! = 9 . 8 . 7 . 6 . 5 . 4 . 3 . 2 . 1 = 362880\n"
     ]
    }
   ],
   "source": [
    "numero = int(input(\"Fatorial de: \"))\n",
    "fatorial = 1\n",
    "\n",
    "print(f\"{numero}! = \", end=\"\")\n",
    "for i in range(numero, 0, -1):\n",
    "    fatorial *= i\n",
    "    if i > 1:\n",
    "        print(f\"{i} . \", end=\"\")\n",
    "    else:\n",
    "        print(f\"{i} = \", end=\"\")\n",
    "print(f\"{fatorial}\")"
   ]
  },
  {
   "cell_type": "markdown",
   "id": "9db44bdc",
   "metadata": {},
   "source": [
    "<h3 align=center>Explicação do código<h3>\n",
    "  <br>\n",
    "<p>\n",
    "  Neste exemplo, o programa pede ao usuário que informe o número inteiro cujo fatorial ele deseja calcular. Em seguida, a variável fatorial é inicializada com 1.\n",
    "\n",
    "  O loop começa com o número informado pelo usuário e decrementa até chegar a 1. Em cada iteração, o valor de fatorial é multiplicado pelo valor atual do contador do loop (i).\n",
    "  \n",
    "  Dentro do loop, também há um bloco if que verifica se o contador é maior do que 1. Se for, significa que ainda não chegamos ao fim da expressão que exibirá o fatorial, então imprimimos o valor atual do contador seguido de um ponto. Se não, significa que estamos no final da expressão e imprimimos apenas o valor atual do contador seguido do sinal de igual.\n",
    "  \n",
    "  Por fim, imprimimos o valor de fatorial, que é o resultado do cálculo.  \n",
    "</p>"
   ]
  },
  {
   "cell_type": "markdown",
   "id": "0f75dd82",
   "metadata": {},
   "source": [
    "# 33) O Departamento Estadual de Meteorologia lhe contratou para desenvolver um programa que leia as um conjunto indeterminado de temperaturas, e informe ao final a menor e a maior temperaturas informadas, bem como a média das temperaturas."
   ]
  },
  {
   "cell_type": "code",
   "execution_count": 6,
   "id": "ff407713",
   "metadata": {},
   "outputs": [
    {
     "name": "stdout",
     "output_type": "stream",
     "text": [
      "Informe uma temperatura (ou 'q' para sair): 40\n",
      "Informe uma temperatura (ou 'q' para sair): 35\n",
      "Informe uma temperatura (ou 'q' para sair): 29\n",
      "Informe uma temperatura (ou 'q' para sair): 31\n",
      "Informe uma temperatura (ou 'q' para sair): q\n",
      "Menor temperatura: 29.0\n",
      "Maior temperatura: 40.0\n",
      "Média das temperaturas: 33.75\n"
     ]
    }
   ],
   "source": [
    "temperaturas = []\n",
    "while True:\n",
    "    temperatura = input(\"Informe uma temperatura (ou 'q' para sair): \")\n",
    "    if temperatura == 'q':\n",
    "        break\n",
    "    else:\n",
    "        temperaturas.append(float(temperatura))\n",
    "\n",
    "if len(temperaturas) > 0:\n",
    "    menor = min(temperaturas)\n",
    "    maior = max(temperaturas)\n",
    "    media = sum(temperaturas) / len(temperaturas)\n",
    "    print(f\"Menor temperatura: {menor}\")\n",
    "    print(f\"Maior temperatura: {maior}\")\n",
    "    print(f\"Média das temperaturas: {media:.2f}\")\n",
    "else:\n",
    "    print(\"Nenhuma temperatura informada.\")"
   ]
  },
  {
   "cell_type": "markdown",
   "id": "a8a0257a",
   "metadata": {},
   "source": [
    "<h3 align=center>Explicação do código<h3>\n",
    "  <br>\n",
    "<p>\n",
    "  Neste exemplo, o programa utiliza um loop while True para permitir que o usuário informe as temperaturas. O loop é interrompido quando o usuário digita a letra 'q'. Caso contrário, a temperatura informada é adicionada à lista temperaturas.\n",
    "\n",
    "  Em seguida, verificamos se há pelo menos uma temperatura na lista. Se houver, utilizamos as funções min(), max() e sum() para encontrar a menor temperatura, a maior temperatura e a soma de todas as temperaturas, respectivamente. A média é calculada dividindo-se a soma pelo número de temperaturas na lista.\n",
    "  \n",
    "  Por fim, as informações são exibidas na tela utilizando as funções print(). Note que utilizamos o formato .2f para exibir a média com duas casas decimais.  \n",
    "</p>"
   ]
  },
  {
   "cell_type": "markdown",
   "id": "8062360b",
   "metadata": {},
   "source": [
    "# 34) . Os números primos possuem várias aplicações dentro da Computação, por exemplo na Criptografia. Um número primo é aquele que é divisível apenas por um e por ele mesmo. Faça um programa que peça um número inteiro e determine se ele é ou não um número primo."
   ]
  },
  {
   "cell_type": "code",
   "execution_count": 8,
   "id": "b01d49c6",
   "metadata": {},
   "outputs": [
    {
     "name": "stdout",
     "output_type": "stream",
     "text": [
      "Digite um número inteiro: 37\n",
      "37 é um número primo\n"
     ]
    }
   ],
   "source": [
    "import math\n",
    "\n",
    "num = int(input(\"Digite um número inteiro: \"))\n",
    "\n",
    "eh_primo = True\n",
    "for i in range(2, int(math.sqrt(num))+1):\n",
    "    if num % i == 0:\n",
    "        eh_primo = False\n",
    "        break\n",
    "\n",
    "if eh_primo:\n",
    "    print(f\"{num} é um número primo\")\n",
    "else:\n",
    "    print(f\"{num} não é um número primo\")"
   ]
  },
  {
   "cell_type": "markdown",
   "id": "97929b0a",
   "metadata": {},
   "source": [
    "<h3 align=center>Explicação do código<h3>\n",
    "  <br>\n",
    "<p>\n",
    "  Primeiro, o programa lê um número inteiro digitado pelo usuário.\n",
    "  Depois, o programa testa se o número é primo, usando um laço for que varia de 2 até a raiz quadrada do número (arredondada para baixo com a função math.floor), e testando se o número é divisível por cada um dos valores nesse intervalo. Se for encontrado algum divisor, o laço é interrompido e a variável eh_primo recebe o valor False.\n",
    "  Por fim, o programa imprime se o número é primo ou não, com base no valor da variável eh_primo.  \n",
    "</p>"
   ]
  },
  {
   "cell_type": "markdown",
   "id": "b4ea7034",
   "metadata": {},
   "source": [
    "# 35) Encontrar números primos é uma tarefa difícil. Faça um programa que gera uma lista dos números primos existentes entre 1 e um número inteiro informado pelo usuário."
   ]
  },
  {
   "cell_type": "code",
   "execution_count": 10,
   "id": "a181d580",
   "metadata": {},
   "outputs": [
    {
     "name": "stdout",
     "output_type": "stream",
     "text": [
      "Digite um número inteiro: 30\n",
      "Números primos entre 1 e 30 :\n",
      "[2, 3, 5, 7, 11, 13, 17, 19, 23, 29]\n"
     ]
    }
   ],
   "source": [
    "def encontrar_primos(num):\n",
    "    primos = []\n",
    "    numeros = list(range(2, num+1))\n",
    "\n",
    "    while numeros:\n",
    "        primo = numeros[0]\n",
    "        primos.append(primo)\n",
    "        numeros = [n for n in numeros if n % primo != 0]\n",
    "\n",
    "    return primos\n",
    "\n",
    "\n",
    "num = int(input(\"Digite um número inteiro: \"))\n",
    "lista_primos = encontrar_primos(num)\n",
    "print(\"Números primos entre 1 e\", num, \":\")\n",
    "print(lista_primos)"
   ]
  },
  {
   "cell_type": "markdown",
   "id": "579ce8e4",
   "metadata": {},
   "source": [
    "<h3 align=center>Explicação do código<h3>\n",
    "  <br>\n",
    "<p>\n",
    "  Para gerar a lista de números primos entre 1 e um número inteiro informado pelo usuário, podemos usar o método da \"peneira de Eratóstenes\". Esse método consiste em criar uma lista de números de 2 até o número informado pelo usuário e, em seguida, eliminar os números que não são primos.\n",
    "\n",
    "  Para isso, podemos criar uma lista com os números de 2 até o número informado pelo usuário e, em seguida, percorrer essa lista, eliminando os números que não são primos. Para cada número da lista, verificamos se ele é divisível por algum número anterior a ele. Se for divisível, eliminamos esse número da lista. Se não for divisível, marcamos ele como um número primo e mantemos ele na lista.\n",
    "  \n",
    "  Por fim, a lista resultante conterá apenas os números primos entre 1 e o número informado pelo usuário. Podemos então exibir essa lista na tela.  \n",
    "</p>"
   ]
  },
  {
   "cell_type": "markdown",
   "id": "0ae2852e",
   "metadata": {},
   "source": [
    "# 36) Desenvolva um programa que faça a tabuada de um número qualquer inteiro que será digitado pelo usuário, mas a tabuada não deve necessariamente iniciar em 1 e terminar em 10, o valor inicial e final devem ser informados também pelo usuário, conforme exemplo abaixo: \n",
    "\n",
    "<img src='https://i.imgur.com/Djh3naE.png'>"
   ]
  },
  {
   "cell_type": "code",
   "execution_count": 11,
   "id": "1add452c",
   "metadata": {},
   "outputs": [
    {
     "name": "stdout",
     "output_type": "stream",
     "text": [
      "Montar a tabuada de: 10\n",
      "Começar por: 1\n",
      "Terminar em: 9\n",
      "Vou montar a tabuada de 10 começando em 1 e terminando em 9:\n",
      "10 X 1 = 10\n",
      "10 X 2 = 20\n",
      "10 X 3 = 30\n",
      "10 X 4 = 40\n",
      "10 X 5 = 50\n",
      "10 X 6 = 60\n",
      "10 X 7 = 70\n",
      "10 X 8 = 80\n",
      "10 X 9 = 90\n"
     ]
    }
   ],
   "source": [
    "num = int(input(\"Montar a tabuada de: \"))\n",
    "inicio = int(input(\"Começar por: \"))\n",
    "fim = int(input(\"Terminar em: \"))\n",
    "\n",
    "if fim < inicio:\n",
    "    print(\"Valor final menor que o inicial. Tente novamente!\")\n",
    "else:\n",
    "    print(f\"Vou montar a tabuada de {num} começando em {inicio} e terminando em {fim}:\")\n",
    "    for i in range(inicio, fim+1):\n",
    "        print(f\"{num} X {i} = {num*i}\")"
   ]
  },
  {
   "cell_type": "markdown",
   "id": "87c17aff",
   "metadata": {},
   "source": [
    "<h3 align=center>Explicação do código<h3>\n",
    "  <br>\n",
    "<p>\n",
    "  O usuário insere o número que deseja saber a tabuada (variável num), o valor inicial (variável inicio) e o valor final (variável fim).\n",
    "  O programa verifica se o valor final é menor que o inicial. Caso seja, imprime uma mensagem de erro e encerra o programa.\n",
    "  Caso contrário, o programa inicia um loop utilizando a função range do Python, que vai do valor inicial até o valor final (incluso). Para cada número no intervalo, é impressa a multiplicação do número escolhido pelo usuário com o número do intervalo.\n",
    "  O resultado é uma tabela com a tabuada do número escolhido pelo usuário, começando pelo valor inicial e indo até o valor final.  \n",
    "</p>"
   ]
  },
  {
   "cell_type": "markdown",
   "id": "de929c99",
   "metadata": {},
   "source": [
    "# 37) Uma academia deseja fazer um senso entre seus clientes para descobrir o mais alto, o mais baixo, a mais gordo e o mais magro, para isto você deve fazer um programa que pergunte a cada um dos clientes da academia seu código, sua altura e seu peso. O final da digitação de dados deve ser dada quando o usuário digitar 0 (zero) no campo código. Ao encerrar o programa também deve ser informados os códigos e valores do clente mais alto, do mais baixo, do mais gordo e do mais magro, além da média das alturas e dos pesos dos clientes"
   ]
  },
  {
   "cell_type": "code",
   "execution_count": 14,
   "id": "67930c5c",
   "metadata": {},
   "outputs": [
    {
     "name": "stdout",
     "output_type": "stream",
     "text": [
      "Digite o código do cliente (ou 0 para encerrar): 1\n",
      "Digite a altura do cliente em metros: 1.87\n",
      "Digite o peso do cliente em quilogramas: 99\n",
      "Digite o código do cliente (ou 0 para encerrar): 2\n",
      "Digite a altura do cliente em metros: 1.60\n",
      "Digite o peso do cliente em quilogramas: 60\n",
      "Digite o código do cliente (ou 0 para encerrar): 0\n",
      "Cliente mais alto:\n",
      "Código: 1\n",
      "Altura: 1.87 m\n",
      "Cliente mais baixo:\n",
      "Código: 2\n",
      "Altura: 1.6 m\n",
      "Cliente mais gordo:\n",
      "Código: 1\n",
      "Peso: 99.0 kg\n",
      "Cliente mais magro:\n",
      "Código: 2\n",
      "Peso: 60.0 kg\n",
      "Média das alturas dos clientes: 1.735 m\n",
      "Média dos pesos dos clientes: 79.5 kg\n"
     ]
    }
   ],
   "source": [
    "codigo = int(input(\"Digite o código do cliente (ou 0 para encerrar): \"))\n",
    "altura = float(input(\"Digite a altura do cliente em metros: \"))\n",
    "peso = float(input(\"Digite o peso do cliente em quilogramas: \"))\n",
    "\n",
    "codigo_alto = codigo_baixo = codigo_gordo = codigo_magro = codigo\n",
    "altura_alto = altura_baixo = altura\n",
    "peso_gordo = peso_magro = peso\n",
    "soma_altura = altura\n",
    "soma_peso = peso\n",
    "qtd_clientes = 1\n",
    "\n",
    "while codigo != 0:\n",
    "    if altura > altura_alto:\n",
    "        altura_alto = altura\n",
    "        codigo_alto = codigo\n",
    "    if altura < altura_baixo:\n",
    "        altura_baixo = altura\n",
    "        codigo_baixo = codigo\n",
    "    if peso > peso_gordo:\n",
    "        peso_gordo = peso\n",
    "        codigo_gordo = codigo\n",
    "    if peso < peso_magro:\n",
    "        peso_magro = peso\n",
    "        codigo_magro = codigo\n",
    "\n",
    "    codigo = int(input(\"Digite o código do cliente (ou 0 para encerrar): \"))\n",
    "    if codigo == 0:\n",
    "        break\n",
    "    altura = float(input(\"Digite a altura do cliente em metros: \"))\n",
    "    peso = float(input(\"Digite o peso do cliente em quilogramas: \"))\n",
    "\n",
    "    soma_altura += altura\n",
    "    soma_peso += peso\n",
    "    qtd_clientes += 1\n",
    "\n",
    "media_altura = soma_altura / qtd_clientes\n",
    "media_peso = soma_peso / qtd_clientes\n",
    "\n",
    "print(\"Cliente mais alto:\")\n",
    "print(\"Código:\", codigo_alto)\n",
    "print(\"Altura:\", altura_alto, \"m\")\n",
    "\n",
    "print(\"Cliente mais baixo:\")\n",
    "print(\"Código:\", codigo_baixo)\n",
    "print(\"Altura:\", altura_baixo, \"m\")\n",
    "\n",
    "print(\"Cliente mais gordo:\")\n",
    "print(\"Código:\", codigo_gordo)\n",
    "print(\"Peso:\", peso_gordo, \"kg\")\n",
    "\n",
    "print(\"Cliente mais magro:\")\n",
    "print(\"Código:\", codigo_magro)\n",
    "print(\"Peso:\", peso_magro, \"kg\")\n",
    "\n",
    "print(\"Média das alturas dos clientes:\", media_altura, \"m\")\n",
    "print(\"Média dos pesos dos clientes:\", media_peso, \"kg\")"
   ]
  },
  {
   "cell_type": "markdown",
   "id": "ab33cc54",
   "metadata": {},
   "source": [
    "<h3 align=center>Explicação do código<h3>\n",
    "  <br>\n",
    "<p>\n",
    "  Nesse programa, usamos uma estrutura de repetição while para ler as informações dos clientes. Enquanto o código do cliente lido for diferente de zero, vamos armazenando as informações do cliente mais alto, mais baixo, mais gordo e mais magro e acumulando as alturas e os pesos dos clientes para calcular a média no final. Quando o código lido for zero, interrompemos a leitura e imprimimos as informações solicitadas.  \n",
    "</p>"
   ]
  },
  {
   "cell_type": "markdown",
   "id": "e6ce8a66",
   "metadata": {},
   "source": [
    "## 38) Um funcionário de uma empresa recebe aumento salarial anualmente: Sabe-se que:\n",
    "\n",
    "<ul>\n",
    "  <li>Esse funcionário foi contratado em 1995, com salário inicial de R$ 1.000,00;</li>\n",
    "  <li>Em 1996 recebeu aumento de 1,5% sobre seu salário inicial;</li>\n",
    "  <li>. A partir de 1997 (inclusive), os aumentos salariais sempre correspondem ao dobro do\n",
    "    percentual do ano anterior. Faça um programa que determine o salário atual desse\n",
    "    funcionário. Após concluir isto, altere o programa permitindo que o usuário digite o salário\n",
    "    inicial do funcionário</li>\n",
    "</ul>"
   ]
  },
  {
   "cell_type": "code",
   "execution_count": 30,
   "id": "9226ac36",
   "metadata": {},
   "outputs": [
    {
     "name": "stdout",
     "output_type": "stream",
     "text": [
      "Digite o salário inicial do funcionário: R$1000.0\n",
      "Aumento em 1997: 3.00%\n",
      "Aumento em 1998: 6.00%\n",
      "Aumento em 1999: 12.00%\n",
      "Aumento em 2000: 24.00%\n",
      "Aumento em 2001: 48.00%\n",
      "Aumento em 2002: 96.00%\n",
      "Aumento em 2003: 192.00%\n",
      "Aumento em 2004: 384.00%\n",
      "Aumento em 2005: 768.00%\n",
      "Aumento em 2006: 1536.00%\n",
      "Aumento em 2007: 3072.00%\n",
      "Aumento em 2008: 6144.00%\n",
      "Aumento em 2009: 12288.00%\n",
      "Aumento em 2010: 24576.00%\n",
      "Aumento em 2011: 49152.00%\n",
      "Aumento em 2012: 98304.00%\n",
      "Aumento em 2013: 196608.00%\n",
      "Aumento em 2014: 393216.00%\n",
      "Aumento em 2015: 786432.00%\n",
      "Aumento em 2016: 1572864.00%\n",
      "Aumento em 2017: 3145728.00%\n",
      "Aumento em 2018: 6291456.00%\n",
      "Aumento em 2019: 12582912.00%\n",
      "Aumento em 2020: 25165824.00%\n",
      "Aumento em 2021: 50331648.00%\n",
      "Aumento em 2022: 100663296.00%\n",
      "Salário atual do funcionário: R$7991153224284124308525120353457584705599324422584199349980608069632.00\n"
     ]
    }
   ],
   "source": [
    "# Salário inicial do funcionário\n",
    "salario_inicial = float(input(\"Digite o salário inicial do funcionário: R$\"))\n",
    "\n",
    "# Ano de contratação\n",
    "ano = 1995\n",
    "\n",
    "# Percentual de aumento inicial\n",
    "percentual_aumento = 1.5\n",
    "\n",
    "# Salário atual\n",
    "salario_atual = salario_inicial\n",
    "\n",
    "# Loop para calcular o salário atual a partir de 1996\n",
    "while ano < 2022:\n",
    "    salario_atual *= (1 + percentual_aumento/100)  # Calcula o novo salário\n",
    "    percentual_aumento *= 2  # Atualiza o percentual de aumento para o próximo ano\n",
    "    ano += 1  # Atualiza o ano\n",
    "    \n",
    "    if ano >= 1997:  # Condição para exibir o percentual de aumento a partir de 1997\n",
    "        print(f\"Aumento em {ano}: {percentual_aumento/2:.2f}%\")\n",
    "\n",
    "# Exibe o salário atual do funcionário\n",
    "print(f\"Salário atual do funcionário: R${salario_atual:.2f}\")"
   ]
  },
  {
   "cell_type": "markdown",
   "id": "96f76137",
   "metadata": {},
   "source": [
    "<h3 align=center>Explicação do código<h3>\n",
    "  <br>\n",
    "<p>\n",
    "  Com essa implementação, é possível calcular o salário atual do funcionário a partir do salário inicial fornecido pelo usuário. O programa também exibe o percentual de aumento salarial a partir de 1997 e, ao final, exibe o salário atual do funcionário.  \n",
    "</p>"
   ]
  },
  {
   "cell_type": "markdown",
   "id": "af6e356d",
   "metadata": {},
   "source": [
    "# 39) Faça um programa que leia dez conjuntos de dois valores, o primeiro representando o número do aluno e o segundo representando a sua altura em centímetros. Encontre o aluno mais alto e o mais baixo. Mostre o número do aluno mais alto e o número do aluno mais baixo, junto com suas alturas "
   ]
  },
  {
   "cell_type": "code",
   "execution_count": 31,
   "id": "60748313",
   "metadata": {},
   "outputs": [
    {
     "name": "stdout",
     "output_type": "stream",
     "text": [
      "Digite o número do 1º aluno: 1\n",
      "Digite a altura do 1º aluno (em cm): 190\n",
      "Digite o número do 2º aluno: 2\n",
      "Digite a altura do 2º aluno (em cm): 180\n",
      "Digite o número do 3º aluno: 0\n",
      "Digite a altura do 3º aluno (em cm): 180\n",
      "Digite o número do 4º aluno: 5\n",
      "Digite a altura do 4º aluno (em cm): 192\n",
      "Digite o número do 5º aluno: 4\n",
      "Digite a altura do 5º aluno (em cm): 191\n",
      "Digite o número do 6º aluno: 7\n",
      "Digite a altura do 6º aluno (em cm): 189\n",
      "Digite o número do 7º aluno: 2\n",
      "Digite a altura do 7º aluno (em cm): 198\n",
      "Digite o número do 8º aluno: 92\n",
      "Digite a altura do 8º aluno (em cm): 199\n",
      "Digite o número do 9º aluno: 10\n",
      "Digite a altura do 9º aluno (em cm): 200\n",
      "Digite o número do 10º aluno: 20\n",
      "Digite a altura do 10º aluno (em cm): 210\n",
      "O aluno mais alto é o de número 20 com 210cm de altura.\n",
      "O aluno mais baixo é o de número 2 com 180cm de altura.\n"
     ]
    }
   ],
   "source": [
    "num_mais_alto = num_mais_baixo = 0\n",
    "alt_mais_alto = alt_mais_baixo = 0\n",
    "\n",
    "for i in range(1, 11):\n",
    "    num = int(input(f\"Digite o número do {i}º aluno: \"))\n",
    "    alt = int(input(f\"Digite a altura do {i}º aluno (em cm): \"))\n",
    "\n",
    "    if alt > alt_mais_alto:\n",
    "        alt_mais_alto = alt\n",
    "        num_mais_alto = num\n",
    "    if i == 1 or alt < alt_mais_baixo:\n",
    "        alt_mais_baixo = alt\n",
    "        num_mais_baixo = num\n",
    "\n",
    "print(f\"O aluno mais alto é o de número {num_mais_alto} com {alt_mais_alto}cm de altura.\")\n",
    "print(f\"O aluno mais baixo é o de número {num_mais_baixo} com {alt_mais_baixo}cm de altura.\")"
   ]
  },
  {
   "cell_type": "markdown",
   "id": "7f60fabd",
   "metadata": {},
   "source": [
    "<h3 align=center>Explicação do código<h3>\n",
    "  <br>\n",
    "<p>\n",
    "  O programa lê as informações de cada um dos 10 alunos em um loop for e compara a altura de cada um deles com as alturas do aluno mais alto e do aluno mais baixo encontrados até então. Ao final, exibe o número e a altura do aluno mais alto e do aluno mais baixo encontrados.\n",
    "</p>"
   ]
  },
  {
   "cell_type": "markdown",
   "id": "11051cd7",
   "metadata": {},
   "source": [
    "# 40) Foi feita uma estatística em cinco cidades brasileiras para coletar dados sobre acidentes de trânsito. Foram obtidos os seguintes dados:\n",
    "\n",
    "<ul>\n",
    "      <li>\n",
    "        a: Código da cidade;\n",
    "      </li>\n",
    "      <li>\n",
    "        b. Número de veículos de passeio (em 1999);\n",
    "      </li>\n",
    "      <li>\n",
    "        c. Número de acidentes de trânsito com vítimas (em 1999). Deseja-se saber:\n",
    "      </li>\n",
    "      <li>\n",
    "        d. Qual o maior e menor índice de acidentes de transito e a que cidade pertence;\n",
    "      </li>\n",
    "      <li>\n",
    "        e. Qual a média de veículos nas cinco cidades juntas;\n",
    "      </li>\n",
    "      <li>\n",
    "        f. Qual a média de acidentes de trânsito nas cidades com menos de 2.000 veículos de\n",
    "        passeio\n",
    "      </li>\n",
    "    </ul>"
   ]
  },
  {
   "cell_type": "code",
   "execution_count": 32,
   "id": "54fa30e1",
   "metadata": {},
   "outputs": [
    {
     "name": "stdout",
     "output_type": "stream",
     "text": [
      "Digite o código da cidade: 2\n",
      "Digite o número de veículos de passeio (em 1999): 1000\n",
      "Digite o número de acidentes de trânsito com vítimas (em 1999): 20\n",
      "Digite o código da cidade: 3\n",
      "Digite o número de veículos de passeio (em 1999): 100000000\n",
      "Digite o número de acidentes de trânsito com vítimas (em 1999): 2000\n",
      "Digite o código da cidade: 4\n",
      "Digite o número de veículos de passeio (em 1999): 10000000000000\n",
      "Digite o número de acidentes de trânsito com vítimas (em 1999): 500000\n",
      "Digite o código da cidade: 5\n",
      "Digite o número de veículos de passeio (em 1999): 1992392930239023\n",
      "Digite o número de acidentes de trânsito com vítimas (em 1999): 34567890\n",
      "Digite o código da cidade: 6\n",
      "Digite o número de veículos de passeio (em 1999): 87876543234567890\n",
      "Digite o número de acidentes de trânsito com vítimas (em 1999): 9876543\n",
      "Maior índice de acidentes de trânsito: 34567890 na cidade 5\n",
      "Menor índice de acidentes de trânsito: 20 na cidade 2\n",
      "Média de veículos nas cinco cidades juntas: 1.7975787252961582e+16\n",
      "Média de acidentes de trânsito nas cidades com menos de 2.000 veículos de passeio: 20.0\n"
     ]
    }
   ],
   "source": [
    "cidades = []\n",
    "veiculos = []\n",
    "acidentes = []\n",
    "\n",
    "for i in range(5):\n",
    "    cidade = int(input(\"Digite o código da cidade: \"))\n",
    "    cidades.append(cidade)\n",
    "    veiculo = int(input(\"Digite o número de veículos de passeio (em 1999): \"))\n",
    "    veiculos.append(veiculo)\n",
    "    acidente = int(input(\"Digite o número de acidentes de trânsito com vítimas (em 1999): \"))\n",
    "    acidentes.append(acidente)\n",
    "\n",
    "# Maior e menor índice de acidentes de trânsito\n",
    "maior_indice = max(acidentes)\n",
    "menor_indice = min(acidentes)\n",
    "indice_maior = acidentes.index(maior_indice)\n",
    "indice_menor = acidentes.index(menor_indice)\n",
    "cidade_maior = cidades[indice_maior]\n",
    "cidade_menor = cidades[indice_menor]\n",
    "\n",
    "print(\"Maior índice de acidentes de trânsito:\", maior_indice, \"na cidade\", cidade_maior)\n",
    "print(\"Menor índice de acidentes de trânsito:\", menor_indice, \"na cidade\", cidade_menor)\n",
    "\n",
    "# Média de veículos nas cinco cidades juntas\n",
    "media_veiculos = sum(veiculos) / len(veiculos)\n",
    "print(\"Média de veículos nas cinco cidades juntas:\", media_veiculos)\n",
    "\n",
    "# Média de acidentes de trânsito nas cidades com menos de 2.000 veículos de passeio\n",
    "cidades_menos_veiculos = [cidades[i] for i in range(len(veiculos)) if veiculos[i] < 2000]\n",
    "acidentes_menos_veiculos = [acidentes[i] for i in range(len(veiculos)) if veiculos[i] < 2000]\n",
    "if len(acidentes_menos_veiculos) > 0:\n",
    "    media_acidentes_menos_veiculos = sum(acidentes_menos_veiculos) / len(acidentes_menos_veiculos)\n",
    "    print(\"Média de acidentes de trânsito nas cidades com menos de 2.000 veículos de passeio:\",\n",
    "          media_acidentes_menos_veiculos)\n",
    "else:\n",
    "    print(\"Não há cidades com menos de 2.000 veículos de passeio\")"
   ]
  },
  {
   "cell_type": "markdown",
   "id": "f9525805",
   "metadata": {},
   "source": [
    "<h3 align=center>Explicação do código<h3>\n",
    "    <br>\n",
    "    <p>\n",
    "      Este programa lê os dados das cinco cidades e armazena-os em três listas diferentes: cidades, veiculos e acidentes. Em seguida, calcula a maior e a menor quantidade de acidentes de trânsito com vítimas e a que cidade pertencem. Também calcula a média de veículos nas cinco cidades juntas e a média de acidentes de trânsito nas cidades com menos de 2.000 veículos de passeio.\n",
    "    </p>"
   ]
  },
  {
   "cell_type": "markdown",
   "id": "4b87b6fc",
   "metadata": {},
   "source": [
    "# 41)Faça um programa que receba o valor de uma dívida e mostre uma tabela com os seguintes dados: valor da dívida, valor dos juros, quantidade de parcelas e valor da parcela.\n",
    "\n",
    "<h3 align=center>Os juros e a quantidade de parcelas seguem a tabela abaixo:</h3>\n",
    "\n",
    "<img src='https://i.imgur.com/EEiU7S5.png'>\n"
   ]
  },
  {
   "cell_type": "code",
   "execution_count": 5,
   "id": "a543a3c3",
   "metadata": {},
   "outputs": [
    {
     "name": "stdout",
     "output_type": "stream",
     "text": [
      "Digite o valor da dívida: R$ 12\n",
      "Valor da Dívida | Valor dos Juros | Quantidade de Parcelas | Valor da Parcela\n",
      "R$ 12.00 | R$ 0.00 | 1x | R$ 12.00\n",
      "R$ 13.20 | R$ 1.20 | 3x | R$ 4.40\n",
      "R$ 13.80 | R$ 1.80 | 6x | R$ 2.30\n",
      "R$ 14.40 | R$ 2.40 | 9x | R$ 1.60\n",
      "R$ 15.00 | R$ 3.00 | 12x | R$ 1.25\n"
     ]
    }
   ],
   "source": [
    "valor_divida = float(input(\"Digite o valor da dívida: R$ \"))\n",
    "\n",
    "tabela_juros = {\n",
    "    1: 0,\n",
    "    3: 0.1,\n",
    "    6: 0.15,\n",
    "    9: 0.2,\n",
    "    12: 0.25\n",
    "}\n",
    "\n",
    "print(\"Valor da Dívida | Valor dos Juros | Quantidade de Parcelas | Valor da Parcela\")\n",
    "\n",
    "for parcelas, juros in tabela_juros.items():\n",
    "    valor_juros = valor_divida * juros\n",
    "    valor_divida_com_juros = valor_divida + valor_juros\n",
    "    valor_parcela = valor_divida_com_juros / parcelas\n",
    "    print(f\"R$ {valor_divida_com_juros:.2f} | R$ {valor_juros:.2f} | {parcelas}x | R$ {valor_parcela:.2f}\")"
   ]
  },
  {
   "cell_type": "markdown",
   "id": "fb0488e4",
   "metadata": {},
   "source": [
    "<h3 align=center>Explicação do código<h3>\n",
    "    <br>\n",
    "    <p>\n",
    "      Primeiramente, o programa pede ao usuário que informe o valor da dívida, que é armazenado na variável valor_divida.\n",
    "      Em seguida, é criado um dicionário tabela_juros com as informações sobre os juros e quantidade de parcelas, conforme solicitado.    \n",
    "      Utilizando um laço de repetição for, o programa percorre o dicionário tabela_juros e calcula o valor dos juros, o valor da dívida com juros, o valor da parcela e imprime esses valores formatados na tabela.\n",
    "      Os valores numéricos são formatados com duas casas decimais utilizando a função :.2f do Python.\n",
    "      O resultado é apresentado na tela para o usuário.\n",
    "    </p>\n"
   ]
  },
  {
   "cell_type": "markdown",
   "id": "28d66890",
   "metadata": {},
   "source": [
    "# 42) Faça um programa que leia uma quantidade indeterminada de números positivos e conte quantos deles estão nos seguintes intervalos: [0-25], [26-50], [51-75] e [76-100]. A entrada de dados deverá terminar quando for lido um número negativo."
   ]
  },
  {
   "cell_type": "code",
   "execution_count": 7,
   "id": "f966d258",
   "metadata": {},
   "outputs": [
    {
     "name": "stdout",
     "output_type": "stream",
     "text": [
      "Digite um número positivo (ou negativo para sair): 24\n",
      "Digite um número positivo (ou negativo para sair): 200\n",
      "Digite um número positivo (ou negativo para sair): 26\n",
      "Digite um número positivo (ou negativo para sair): 66\n",
      "Digite um número positivo (ou negativo para sair): 91\n",
      "Digite um número positivo (ou negativo para sair): -5\n",
      "Quantidade de números no intervalo [0-25]: 1\n",
      "Quantidade de números no intervalo [26-50]: 1\n",
      "Quantidade de números no intervalo [51-75]: 1\n",
      "Quantidade de números no intervalo [76-100]: 1\n"
     ]
    }
   ],
   "source": [
    "intervalo_0_25 = 0\n",
    "intervalo_26_50 = 0\n",
    "intervalo_51_75 = 0\n",
    "intervalo_76_100 = 0\n",
    "\n",
    "while True:\n",
    "    numero = int(input(\"Digite um número positivo (ou negativo para sair): \"))\n",
    "    \n",
    "    if numero < 0:\n",
    "        break\n",
    "        \n",
    "    if numero >= 0 and numero <= 25:\n",
    "        intervalo_0_25 += 1\n",
    "    elif numero >= 26 and numero <= 50:\n",
    "        intervalo_26_50 += 1\n",
    "    elif numero >= 51 and numero <= 75:\n",
    "        intervalo_51_75 += 1\n",
    "    elif numero >= 76 and numero <= 100:\n",
    "        intervalo_76_100 += 1\n",
    "\n",
    "print(f\"Quantidade de números no intervalo [0-25]: {intervalo_0_25}\")\n",
    "print(f\"Quantidade de números no intervalo [26-50]: {intervalo_26_50}\")\n",
    "print(f\"Quantidade de números no intervalo [51-75]: {intervalo_51_75}\")\n",
    "print(f\"Quantidade de números no intervalo [76-100]: {intervalo_76_100}\")"
   ]
  },
  {
   "cell_type": "markdown",
   "id": "f0a318ac",
   "metadata": {},
   "source": [
    "<h3 align=center>Explicação do código<h3>\n",
    "    <br>\n",
    "    <p>\n",
    "      O programa inicializa as variáveis intervalo_0_25, intervalo_26_50, intervalo_51_75 e intervalo_76_100 com zero para contar quantos números estão em cada intervalo.\n",
    "      Em seguida, o programa entra em um loop infinito para ler os números. Quando um número negativo for lido, o loop é interrompido com o comando break.\n",
    "      Dentro do loop, o programa verifica em qual intervalo o número lido se encontra e incrementa o contador correspondente.\n",
    "      Após sair do loop, o programa imprime na tela a quantidade de números em cada intervalo.\n",
    "    </p>\n"
   ]
  },
  {
   "cell_type": "markdown",
   "id": "1c3c19f6",
   "metadata": {},
   "source": [
    "# 43) O cardápio de uma lanchonete é o seguinte:\n",
    "\n",
    "<img src=\"https://i.imgur.com/xoSets3.png\">\n",
    "\n",
    "<h2 align=center>Faça um programa que leia o código dos itens pedidos e as quantidades desejadas.\n",
    "Calcule e mostre o valor a ser pago por item (preço * quantidade) e o total geral do pedido.\n",
    "Considere que o cliente deve informar quando o pedido deve ser encerrado.</h2>"
   ]
  },
  {
   "cell_type": "code",
   "execution_count": 8,
   "id": "d902320d",
   "metadata": {},
   "outputs": [
    {
     "name": "stdout",
     "output_type": "stream",
     "text": [
      "Digite o código do item (ou -1 para encerrar): 100\n",
      "Digite a quantidade desejada: 3\n",
      "3x Cachorro Quente: R$ 3.60\n",
      "Digite o código do item (ou -1 para encerrar): 102\n",
      "Digite a quantidade desejada: 6\n",
      "6x Bauru com ovo: R$ 9.00\n",
      "Digite o código do item (ou -1 para encerrar): -1\n",
      "Total do pedido: R$ 12.60\n"
     ]
    }
   ],
   "source": [
    "cardapio = {\n",
    "    100: {'especificacao': 'Cachorro Quente', 'preco': 1.2},\n",
    "    101: {'especificacao': 'Bauru Simples', 'preco': 1.3},\n",
    "    102: {'especificacao': 'Bauru com ovo', 'preco': 1.5},\n",
    "    103: {'especificacao': 'Hambúrguer', 'preco': 1.2},\n",
    "    104: {'especificacao': 'Cheeseburguer', 'preco': 1.3},\n",
    "    105: {'especificacao': 'Refrigerante', 'preco': 1.0},\n",
    "}\n",
    "\n",
    "total_pedido = 0\n",
    "\n",
    "while True:\n",
    "    codigo = int(input(\"Digite o código do item (ou -1 para encerrar): \"))\n",
    "    \n",
    "    if codigo == -1:\n",
    "        break\n",
    "    \n",
    "    if codigo not in cardapio:\n",
    "        print(\"Código inválido.\")\n",
    "        continue\n",
    "    \n",
    "    quantidade = int(input(\"Digite a quantidade desejada: \"))\n",
    "    \n",
    "    preco_item = cardapio[codigo]['preco'] * quantidade\n",
    "    total_pedido += preco_item\n",
    "    \n",
    "    print(f\"{quantidade}x {cardapio[codigo]['especificacao']}: R$ {preco_item:.2f}\")\n",
    "    \n",
    "print(f\"Total do pedido: R$ {total_pedido:.2f}\")"
   ]
  },
  {
   "cell_type": "markdown",
   "id": "fd7b9e0d",
   "metadata": {},
   "source": [
    "<h3 align=center>Explicação do código<h3>\n",
    "    <br>\n",
    "    <p>\n",
    "      O programa utiliza um dicionário chamado cardapio para armazenar as especificações e preços dos itens do cardápio.\n",
    "      O programa entra em um loop para ler os pedidos. Quando o usuário digita -1 como código de item, o loop é interrompido com o comando break.\n",
    "      Dentro do loop, o programa verifica se o código de item é válido, ou seja, se está presente no dicionário cardapio. Se não estiver, imprime uma mensagem de erro e continua o loop com o comando continue.\n",
    "      O programa lê a quantidade desejada e calcula o preço do item multiplicando o preço unitário pela quantidade. O preço do item é adicionado ao total do pedido.\n",
    "      Após calcular o preço do item, o programa imprime na tela a quantidade, a especificação e o preço do item.\n",
    "      Após sair do loop, o programa imprime o total do pedido.\n",
    "    </p>"
   ]
  },
  {
   "cell_type": "markdown",
   "id": "4be8e723",
   "metadata": {},
   "source": [
    "# 44) Em uma eleição presidencial existem quatro candidatos. Os votos são informados por meio de código. Os códigos utilizados são:\n",
    "<img src=\"https://i.imgur.com/AgfngYQ.png\">\n",
    "\n",
    "<h1 align=center>Faça um programa que calcule e mostre:</h1>\n",
    "\n",
    "   <ul align=center>\n",
    "      <li>\n",
    "        O total de votos para cada candidato;\n",
    "      </li>\n",
    "      <li>\n",
    "        O total de votos nulos;\n",
    "      </li>\n",
    "      <li>\n",
    "        O total de votos em branco;\n",
    "      </li>\n",
    "      <li>\n",
    "        A percentagem de votos nulos sobre o total de votos;\n",
    "      </li>\n",
    "      <li>\n",
    "        A percentagem de votos em branco sobre o total de votos. Para finalizar o conjunto de\n",
    "        votos tem-se o valor zero\n",
    "      </li>\n",
    "    </ul>"
   ]
  },
  {
   "cell_type": "code",
   "execution_count": 13,
   "id": "d2d0d891",
   "metadata": {},
   "outputs": [
    {
     "name": "stdout",
     "output_type": "stream",
     "text": [
      "Digite o código do candidato (ou 0 para sair): 1\n",
      "Digite o código do candidato (ou 0 para sair): 2\n",
      "Digite o código do candidato (ou 0 para sair): 3\n",
      "Digite o código do candidato (ou 0 para sair): 4\n",
      "Digite o código do candidato (ou 0 para sair): 6\n",
      "Digite o código do candidato (ou 0 para sair): 1\n",
      "Digite o código do candidato (ou 0 para sair): 2\n",
      "Digite o código do candidato (ou 0 para sair): 4\n",
      "Digite o código do candidato (ou 0 para sair): 0\n",
      "Resultados da eleição:\n",
      "-----------------------\n",
      "Total de votos: 8\n",
      "Votos por candidato:\n",
      "Candidato 1: 2\n",
      "Candidato 2: 2\n",
      "Candidato 3: 1\n",
      "Candidato 4: 2\n",
      "Votos nulos: 0\n",
      "Votos em branco: 1\n",
      "Percentual de votos nulos: 0.00%\n",
      "Percentual de votos em branco: 12.50%\n"
     ]
    }
   ],
   "source": [
    "# Inicializa a lista de contagem de votos de cada candidato\n",
    "votos_candidatos = [0, 0, 0, 0]\n",
    "\n",
    "# Inicializa as variáveis de contagem de votos nulos e em branco\n",
    "votos_nulos = 0\n",
    "votos_em_branco = 0\n",
    "\n",
    "# Loop para ler os votos do usuário\n",
    "while True:\n",
    "    voto = int(input(\"Digite o código do candidato (ou 0 para sair): \"))\n",
    "    \n",
    "    if voto == 0:\n",
    "        break\n",
    "    \n",
    "    # Verifica se o voto é para algum candidato\n",
    "    if voto >= 1 and voto <= 4:\n",
    "        votos_candidatos[voto - 1] += 1\n",
    "    \n",
    "    # Verifica se o voto é nulo\n",
    "    elif voto == 5:\n",
    "        votos_nulos += 1\n",
    "    \n",
    "    # Verifica se o voto é em branco\n",
    "    elif voto == 6:\n",
    "        votos_em_branco += 1\n",
    "\n",
    "total_votos = sum(votos_candidatos) + votos_nulos + votos_em_branco\n",
    "\n",
    "# Mostra os resultados\n",
    "print(\"Resultados da eleição:\")\n",
    "print(\"-----------------------\")\n",
    "print(\"Total de votos:\", total_votos)\n",
    "print(\"Votos por candidato:\")\n",
    "print(\"Candidato 1:\", votos_candidatos[0])\n",
    "print(\"Candidato 2:\", votos_candidatos[1])\n",
    "print(\"Candidato 3:\", votos_candidatos[2])\n",
    "print(\"Candidato 4:\", votos_candidatos[3])\n",
    "print(\"Votos nulos:\", votos_nulos)\n",
    "print(\"Votos em branco:\", votos_em_branco)\n",
    "print(\"Percentual de votos nulos: {:.2f}%\".format(votos_nulos / total_votos * 100))\n",
    "print(\"Percentual de votos em branco: {:.2f}%\".format(votos_em_branco / total_votos * 100))"
   ]
  },
  {
   "cell_type": "markdown",
   "id": "6f28619b",
   "metadata": {},
   "source": [
    "<h3 align=center>Explicação do código<h3>\n",
    "    <br>\n",
    "    <p>\n",
    "      utilizei a função sum para calcular a soma dos elementos da lista votos_candidatos. Também utilizei a função format para formatar as percentagens com duas casas decimais.\n",
    "    </p>"
   ]
  },
  {
   "cell_type": "markdown",
   "id": "63682632",
   "metadata": {},
   "source": [
    "# 45) . Desenvolver um programa para verificar a nota do aluno em uma prova com 10 questões, o programa deve perguntar ao aluno a resposta de cada questão e ao final comparar com o gabarito da prova e assim calcular o total de acertos e a nota (atribuir 1 ponto por resposta certa). Após cada aluno utilizar o sistema deve ser feita uma pergunta se outro aluno vai utilizar o sistema. Após todos os alunos terem respondido informar:\n",
    "\n",
    "<ul>\n",
    " <li>\n",
    "        Maior e Menor Acerto;\n",
    "      </li>\n",
    "      <li>\n",
    "        Total de Alunos que utilizaram o sistema;\n",
    "      </li>\n",
    "      <li>\n",
    "        A Média das Notas da Turma.\n",
    "      </li>\n",
    "</ul>\n",
    "\n",
    "<img src=\"https://i.imgur.com/fudzVi8.png\">\n",
    "\n",
    "<h2 align=center>Após concluir isto você poderia incrementar o programa permitindo que o professor digite\n",
    "o gabarito da prova antes dos alunos usarem o programa.</h2>"
   ]
  },
  {
   "cell_type": "code",
   "execution_count": 24,
   "id": "0b18eb5b",
   "metadata": {},
   "outputs": [
    {
     "name": "stdout",
     "output_type": "stream",
     "text": [
      "Resposta da questão 1: A\n",
      "Resposta da questão 2: B\n",
      "Resposta da questão 3: C\n",
      "Resposta da questão 4: D\n",
      "Resposta da questão 5: E\n",
      "Resposta da questão 6: E\n",
      "Resposta da questão 7: D\n",
      "Resposta da questão 8: C\n",
      "Resposta da questão 9: A\n",
      "Resposta da questão 10: B\n",
      "Você acertou 8 questões. Sua nota é 8.\n",
      "Deseja inserir as respostas de outro aluno? (S/N) N\n",
      "Maior acerto: 8\n",
      "Menor acerto: 8\n",
      "Total de alunos que utilizaram o sistema: 1\n",
      "Média das notas da turma: 8.00\n",
      "Gabarito da prova:\n",
      "01 - A\n",
      "02 - B\n",
      "03 - C\n",
      "04 - D\n",
      "05 - E\n",
      "06 - E\n",
      "07 - D\n",
      "08 - C\n",
      "09 - B\n",
      "10 - A\n"
     ]
    }
   ],
   "source": [
    "# Definição do gabarito da prova\n",
    "gabarito = ['A', 'B', 'C', 'D', 'E', 'E', 'D', 'C', 'B', 'A']\n",
    "\n",
    "# Variáveis para cálculo de estatísticas\n",
    "maior_acerto = 0\n",
    "menor_acerto = 10\n",
    "soma_notas = 0\n",
    "total_alunos = 0\n",
    "\n",
    "continuar = True\n",
    "while continuar:\n",
    "    # Leitura das respostas do aluno\n",
    "    respostas = []\n",
    "    for i in range(10):\n",
    "        resposta = input(f'Resposta da questão {i+1}: ')\n",
    "        respostas.append(resposta.upper())\n",
    "    \n",
    "    # Comparação com o gabarito\n",
    "    acertos = 0\n",
    "    for i in range(10):\n",
    "        if respostas[i] == gabarito[i]:\n",
    "            acertos += 1\n",
    "    \n",
    "    # Atualização das estatísticas\n",
    "    if acertos > maior_acerto:\n",
    "        maior_acerto = acertos\n",
    "    if acertos < menor_acerto:\n",
    "        menor_acerto = acertos\n",
    "    soma_notas += acertos\n",
    "    total_alunos += 1\n",
    "    \n",
    "    # Exibição do resultado para o aluno\n",
    "    print(f'Você acertou {acertos} questões. Sua nota é {acertos}.')\n",
    "    \n",
    "    # Verificação se deseja continuar\n",
    "    resposta = input('Deseja inserir as respostas de outro aluno? (S/N) ')\n",
    "    if resposta.upper() == 'N':\n",
    "        continuar = False\n",
    "\n",
    "# Exibição das estatísticas\n",
    "print(f'Maior acerto: {maior_acerto}')\n",
    "print(f'Menor acerto: {menor_acerto}')\n",
    "print(f'Total de alunos que utilizaram o sistema: {total_alunos}')\n",
    "if total_alunos > 0:\n",
    "    media_notas = soma_notas / total_alunos\n",
    "    print(f'Média das notas da turma: {media_notas:.2f}')\n",
    "print('Gabarito da prova:')\n",
    "for i in range(10):\n",
    "    print(f'{i+1:02} - {gabarito[i]}')"
   ]
  },
  {
   "cell_type": "markdown",
   "id": "94bd29c2",
   "metadata": {},
   "source": [
    "<h3 align=center>Explicação do código<h3>\n",
    "    <br>\n",
    "    <p>\n",
    "      No código acima, o gabarito da prova é definido na primeira linha do programa, utilizando uma lista com as respostas de cada questão. A seguir, é iniciado um loop while que será executado enquanto o usuário desejar inserir as respostas de novos alunos. Dentro do loop, é feita a leitura das respostas do aluno e a comparação com o gabarito utilizando um loop for. A variável acertos armazena a quantidade de respostas corretas do aluno, que é exibida juntamente com a nota final.\n",
    "      Após a consulta de todas as notas, as estatísticas são exibidas utilizando as variáveis maior_acerto, menor_acerto, soma_notas e total_alunos. A variável media_notas é calculada utilizando a média aritmética simples das notas dos alunos, caso haja pelo menos um aluno que utilizou o sistema.\n",
    "    </p>\n"
   ]
  },
  {
   "cell_type": "markdown",
   "id": "a798e355",
   "metadata": {},
   "source": [
    "# 46) Em uma competição de salto em distância cada atleta tem direito a cinco saltos. No final da série de saltos de cada atleta, o melhor e o pior resultados são eliminados. O seu resultado fica sendo a média dos três valores restantes. Você deve fazer um programa que receba o nome e as cinco distâncias alcançadas pelo atleta em seus saltos e depois informe a média dos saltos conforme a descrição acima informada (retirar o melhor e o pior salto e depois calcular a média). Faça uso de uma lista para armazenar os saltos. Os saltos são informados na ordem da execução, portanto não são ordenados. O programa deve ser encerrado quando não for informado o nome do atleta. A saída do programa deve ser conforme o exemplo abaixo:\n",
    "\n",
    "<img src=\"https://i.imgur.com/CYiJWfZ.png\">"
   ]
  },
  {
   "cell_type": "code",
   "execution_count": 27,
   "id": "34db0cc9",
   "metadata": {},
   "outputs": [
    {
     "name": "stdout",
     "output_type": "stream",
     "text": [
      "Digite o nome do atleta: paulo\n",
      "Digite a distância do 1º salto: 8\n",
      "Digite a distância do 2º salto: 6.7\n",
      "Digite a distância do 3º salto: 5.3\n",
      "Digite a distância do 4º salto: 7.1\n",
      "Digite a distância do 5º salto: 6.7\n",
      "Digite o nome do atleta: teste\n",
      "Digite a distância do 1º salto: 6.7\n",
      "Digite a distância do 2º salto: 6.5\n",
      "Digite a distância do 3º salto: 6.1\n",
      "Digite a distância do 4º salto: 9.1\n",
      "Digite a distância do 5º salto: 5.2\n",
      "Digite o nome do atleta: \n",
      "Resultado final:\n",
      "paulo: 6.83 m\n",
      "teste: 6.43 m\n"
     ]
    }
   ],
   "source": [
    "saltos = []\n",
    "while True:\n",
    "    nome = input(\"Digite o nome do atleta: \")\n",
    "    if nome == \"\":\n",
    "        break\n",
    "    saltos_atleta = []\n",
    "    for i in range(5):\n",
    "        salto = float(input(f\"Digite a distância do {i+1}º salto: \"))\n",
    "        saltos_atleta.append(salto)\n",
    "    saltos_atleta.sort()\n",
    "    melhor_salto = saltos_atleta[4]\n",
    "    pior_salto = saltos_atleta[0]\n",
    "    saltos_atleta.remove(melhor_salto)\n",
    "    saltos_atleta.remove(pior_salto)\n",
    "    media_saltos = sum(saltos_atleta) / 3\n",
    "    saltos.append((nome, media_saltos))\n",
    "    \n",
    "print(\"Resultado final:\")\n",
    "for nome, media in saltos:\n",
    "    print(f\"{nome}: {media:.2f} m\")"
   ]
  },
  {
   "cell_type": "markdown",
   "id": "2cb33999",
   "metadata": {},
   "source": [
    "<h3 align=center>Explicação do código<h3>\n",
    "    <br>\n",
    "    <p>\n",
    "      Este programa solicita ao usuário o nome do atleta e as distâncias alcançadas em cada um dos seus cinco saltos. Em seguida, calcula a média dos três saltos restantes após eliminar o melhor e o pior resultado e armazena o resultado na lista saltos. O programa encerra quando o usuário não informa o nome do atleta. Por fim, o programa exibe o resultado final com o nome do atleta e a média dos seus saltos\n",
    "    </p>"
   ]
  },
  {
   "cell_type": "markdown",
   "id": "56a6e696",
   "metadata": {},
   "source": [
    "# 60) Em uma competição de ginástica, cada atleta recebe votos de sete jurados. A melhor e a pior nota são eliminadas. A sua nota fica sendo a média dos votos restantes. Você deve fazer um programa que receba o nome do ginasta e as notas dos sete jurados alcançadas pelo atleta em sua apresentação e depois informe a sua média, conforme a descrição acima informada (retirar o melhor e o pior salto e depois calcular a média com as notas restantes). As notas não são informados ordenadas. Um exemplo de saída do programa deve ser conforme o exemplo abaixo:\n",
    "\n",
    "<img src=\"https://i.imgur.com/2zKcRVm.png\">\n"
   ]
  },
  {
   "cell_type": "code",
   "execution_count": 28,
   "id": "ab9a4190",
   "metadata": {},
   "outputs": [
    {
     "name": "stdout",
     "output_type": "stream",
     "text": [
      "Digite o nome do ginasta (ou 'fim' para sair): paulo\n",
      "Digite a nota 1: 9\n",
      "Digite a nota 2: 7.76\n",
      "Digite a nota 3: 8\n",
      "Digite a nota 4: 6.2\n",
      "Digite a nota 5: 7.4\n",
      "Digite a nota 6: 9\n",
      "Digite a nota 7: 10\n",
      "\n",
      "Resultado final:\n",
      "Atleta: paulo\n",
      "Melhor nota: 9.0\n",
      "Pior nota: 7.4\n",
      "Média: 8.23\n",
      "\n",
      "Digite o nome do ginasta (ou 'fim' para sair): fim\n"
     ]
    }
   ],
   "source": [
    "while True:\n",
    "    nome = input(\"Digite o nome do ginasta (ou 'fim' para sair): \")\n",
    "    if nome.lower() == \"fim\":\n",
    "        break\n",
    "    \n",
    "    notas = []\n",
    "    for i in range(7):\n",
    "        nota = float(input(f\"Digite a nota {i+1}: \"))\n",
    "        notas.append(nota)\n",
    "    \n",
    "    notas.sort() # Ordena as notas\n",
    "    notas = notas[1:6] # Remove a melhor e a pior nota\n",
    "    media = sum(notas) / 5\n",
    "    \n",
    "    print(f\"\\nResultado final:\")\n",
    "    print(f\"Atleta: {nome}\")\n",
    "    print(f\"Melhor nota: {max(notas)}\")\n",
    "    print(f\"Pior nota: {min(notas)}\")\n",
    "    print(f\"Média: {media:.2f}\\n\")"
   ]
  },
  {
   "cell_type": "markdown",
   "id": "93f4a5a6",
   "metadata": {},
   "source": [
    "<h3 align=center>Explicação do código<h3>\n",
    "    <br>\n",
    "    <p>\n",
    "      Inicia um loop infinito para permitir o usuário digitar informações de vários ginastas.\n",
    "      Pede para o usuário digitar o nome do ginasta. Se o nome for \"fim\", sai do loop e encerra o programa.\n",
    "      Cria uma lista vazia para armazenar as notas.\n",
    "      Usa um loop para pedir para o usuário digitar as notas de cada jurado e armazená-las na lista de notas.\n",
    "      Ordena a lista de notas em ordem crescente.\n",
    "      Remove a melhor e a pior nota da lista usando o slice notas[1:6], que pega os elementos de índice 1 a 5 da lista (ou seja, remove o primeiro e o último elemento).\n",
    "      Calcula a média das notas restantes usando a função sum para somar os elementos da lista e o operador / para dividir pelo número de elementos (5).\n",
    "      Imprime o resultado final com o nome do ginasta, a melhor nota, a pior nota e a média, formatando os números com duas casas decimais usando :.2f.\n",
    "    </p>\n"
   ]
  },
  {
   "cell_type": "markdown",
   "id": "49f6ad6b",
   "metadata": {},
   "source": [
    "# 74) Faça um programa que peça um numero inteiro positivo e em seguida mostre este numero invertido\n",
    "\n",
    "<h5>Exemplo:</h5>\n",
    "\n",
    "<img src='https://i.imgur.com/GrLI3Yt.png'>"
   ]
  },
  {
   "cell_type": "code",
   "execution_count": 31,
   "id": "cda22b83",
   "metadata": {},
   "outputs": [
    {
     "name": "stdout",
     "output_type": "stream",
     "text": [
      "Digite um número inteiro positivo: 123456789\n",
      "O número invertido é: 987654321\n"
     ]
    }
   ],
   "source": [
    "num = int(input(\"Digite um número inteiro positivo: \"))\n",
    "num_invertido = 0\n",
    "\n",
    "while num > 0:\n",
    "    ultimo_digito = num % 10\n",
    "    num_invertido = num_invertido * 10 + ultimo_digito\n",
    "    num //= 10\n",
    "\n",
    "print(f\"O número invertido é: {num_invertido}\")"
   ]
  },
  {
   "cell_type": "markdown",
   "id": "7f4adc0f",
   "metadata": {},
   "source": [
    "<h3 align=center>Explicação do código<h3>\n",
    "    <br>\n",
    "    <p>\n",
    "      O programa começa lendo um número inteiro positivo do usuário. Em seguida, ele entra em um laço while que executa até que o número se torne zero. A cada iteração do laço, o programa obtém o último dígito do número original usando a operação módulo (%) e adiciona esse dígito ao número invertido multiplicando por 10 e somando o último dígito. Em seguida, o último dígito é removido do número original usando a divisão inteira (//). Após todas as iterações, o programa imprime o número invertido.\n",
    "    </p>"
   ]
  },
  {
   "cell_type": "markdown",
   "id": "16baf440",
   "metadata": {},
   "source": [
    "# 75) Faça um programa que mostre os n termos da Série a seguir:\n",
    "\n",
    "<img src=\"https://i.imgur.com/YxntgaX.png\">\n",
    "\n",
    "<h3 align=center>Imprima no final a soma da série.</h3>"
   ]
  },
  {
   "cell_type": "code",
   "execution_count": 32,
   "id": "633cb04e",
   "metadata": {},
   "outputs": [
    {
     "name": "stdout",
     "output_type": "stream",
     "text": [
      "Digite a quantidade de termos da série: 5\n",
      "1/1\n",
      "2/3\n",
      "3/5\n",
      "4/7\n",
      "5/9\n",
      "A soma da série é: 3.393650793650793\n"
     ]
    }
   ],
   "source": [
    "n = int(input(\"Digite a quantidade de termos da série: \"))\n",
    "soma = 0\n",
    "m = 1\n",
    "\n",
    "for i in range(1, n+1):\n",
    "    soma += i/m\n",
    "    m += 2\n",
    "    print(\"{}/{}\".format(i, m-2))\n",
    "\n",
    "print(\"A soma da série é:\", soma)"
   ]
  },
  {
   "cell_type": "markdown",
   "id": "fa348b7e",
   "metadata": {},
   "source": [
    "<h3 align=center>Explicação do código<h3>\n",
    "    <br>\n",
    "    <p>\n",
    "      Pedimos ao usuário que digite a quantidade de termos da série e armazenamos o valor na variável n.\n",
    "      Inicializamos a variável soma com zero e a variável m com 1, pois o primeiro denominador é 1.\n",
    "      Utilizamos um loop for para percorrer os n termos da série, adicionando cada termo à variável soma.\n",
    "      A cada iteração do loop, incrementamos o valor de m em 2, pois o denominador é sempre ímpar.\n",
    "      Imprimimos na tela cada termo da série usando a formatação de string {}/{}, onde o primeiro valor é o numerador e o segundo valor é o denominador.\n",
    "      Por fim, imprimimos na tela a soma dos termos da série.\n",
    "    </p>"
   ]
  },
  {
   "cell_type": "markdown",
   "id": "0418a282",
   "metadata": {},
   "source": [
    "# 76) Sendo H= 1 + 1/2 + 1/3 + 1/4 + ... + 1/N, Faça um programa que calcule o valor de H com N termos."
   ]
  },
  {
   "cell_type": "code",
   "execution_count": 33,
   "id": "cf4b1154",
   "metadata": {},
   "outputs": [
    {
     "name": "stdout",
     "output_type": "stream",
     "text": [
      "Digite o valor de N: 5\n",
      "O valor de H é: 2.283333333333333\n"
     ]
    }
   ],
   "source": [
    "N = int(input(\"Digite o valor de N: \"))\n",
    "\n",
    "H = 0  # inicializa a variável H com zero\n",
    "\n",
    "for i in range(1, N+1):\n",
    "    H += 1/i  # soma o valor de 1/i a H\n",
    "\n",
    "print(\"O valor de H é:\", H)"
   ]
  },
  {
   "cell_type": "markdown",
   "id": "5908fcfa",
   "metadata": {},
   "source": [
    "<h3 align=center>Explicação do código<h3>\n",
    "    <br>\n",
    "    <p>\n",
    "      Explicando o código: primeiro o usuário digita o valor de N, que é convertido para inteiro com a função int(). Em seguida, a variável H é inicializada com zero. O loop for percorre os valores de 1 até N (inclusive), e a cada iteração, o valor de 1/i é adicionado a H com o operador +=. Por fim, o programa imprime o valor final de H.\n",
    "    </p>"
   ]
  },
  {
   "cell_type": "markdown",
   "id": "169bef13",
   "metadata": {},
   "source": [
    "# 77) Faça um programa que mostre os n termos da Série a seguir:\n",
    "\n",
    "<img src=\"https://i.imgur.com/6aN116u.png\">\n",
    "\n",
    "<h4 align=center>Imprima no final a soma da série.</h4>"
   ]
  },
  {
   "cell_type": "code",
   "execution_count": 34,
   "id": "a3a67c2e",
   "metadata": {},
   "outputs": [
    {
     "name": "stdout",
     "output_type": "stream",
     "text": [
      "Digite a quantidade de termos da série: 7\n",
      "Série: 1/1 + 2/3 + 3/5 + 4/7 + 5/9 + 6/11 + 7/13\n",
      "Soma da série: 2.52\n"
     ]
    }
   ],
   "source": [
    "n = int(input(\"Digite a quantidade de termos da série: \"))\n",
    "\n",
    "soma = 0\n",
    "denominador = 1\n",
    "\n",
    "for i in range(n):\n",
    "    soma += i/denominador\n",
    "    denominador += 2\n",
    "\n",
    "print(\"Série: \", end=\"\")\n",
    "for i in range(n-1):\n",
    "    print(\"{}/{} + \".format(i+1, 2*i+1), end=\"\")\n",
    "print(\"{}/{}\".format(n, 2*n-1))\n",
    "\n",
    "print(\"Soma da série: {:.2f}\".format(soma))"
   ]
  },
  {
   "cell_type": "markdown",
   "id": "cef9644d",
   "metadata": {},
   "source": [
    "<h3 align=center>Explicação do código<h3>\n",
    "    <br>\n",
    "    <p>\n",
    "      Primeiramente, o usuário é solicitado a digitar a quantidade de termos da série, que é armazenada na variável n.\n",
    "      Em seguida, são iniciadas as variáveis soma e denominador com valor zero e um, respectivamente.\n",
    "      O loop for é utilizado para somar cada termo da série. Em cada iteração, o valor de i é utilizado para representar o numerador do termo atual e o valor de denominador é utilizado para representar o denominador.\n",
    "      Após a soma de cada termo, o valor de denominador é incrementado em dois, já que a série tem um denominador que aumenta de dois em dois.\n",
    "      Após a soma de todos os termos, é exibida a série utilizando um segundo loop for. Neste loop, é utilizado o valor de i para representar o numerador de cada termo e 2*i+1 para representar o denominador.\n",
    "      Por fim, é exibido o resultado da soma da série com duas casas decimais utilizando o método format.\n",
    "    </p>"
   ]
  }
 ],
 "metadata": {
  "kernelspec": {
   "display_name": "Python 3 (ipykernel)",
   "language": "python",
   "name": "python3"
  },
  "language_info": {
   "codemirror_mode": {
    "name": "ipython",
    "version": 3
   },
   "file_extension": ".py",
   "mimetype": "text/x-python",
   "name": "python",
   "nbconvert_exporter": "python",
   "pygments_lexer": "ipython3",
   "version": "3.9.13"
  }
 },
 "nbformat": 4,
 "nbformat_minor": 5
}
