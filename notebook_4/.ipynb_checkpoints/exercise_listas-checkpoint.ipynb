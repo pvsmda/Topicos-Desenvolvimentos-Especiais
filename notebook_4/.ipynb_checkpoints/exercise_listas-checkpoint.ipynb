{
 "cells": [
  {
   "cell_type": "markdown",
   "id": "9a3ac779",
   "metadata": {},
   "source": [
    "## 1) Faça um Programa que leia um vetor de 5 números inteiros e mostre-os."
   ]
  },
  {
   "cell_type": "code",
   "execution_count": 5,
   "id": "75020890",
   "metadata": {},
   "outputs": [
    {
     "name": "stdout",
     "output_type": "stream",
     "text": [
      "Digite o 1º número: 1\n",
      "Digite o 2º número: 2\n",
      "Digite o 3º número: 3\n",
      "Digite o 4º número: 4\n",
      "Digite o 5º número: 5\n",
      "Os números digitados foram:\n",
      "1\n",
      "2\n",
      "3\n",
      "4\n",
      "5\n"
     ]
    }
   ],
   "source": [
    "lista = []  # cria um vetor vazio\n",
    "for i in range(5):\n",
    "    numero = int(input(f\"Digite o {i+1}º número: \"))\n",
    "    vetor.append(numero)  # adiciona o número ao vetor\n",
    "\n",
    "print(\"Os números digitados foram:\")\n",
    "for numero in lista:\n",
    "    print(numero)"
   ]
  },
  {
   "cell_type": "markdown",
   "id": "a0938b09",
   "metadata": {},
   "source": [
    "<h1 align=center>Explicação</h1>"
   ]
  },
  {
   "cell_type": "markdown",
   "id": "60937aec",
   "metadata": {},
   "source": [
    "<p>\n",
    "A primeira linha cria um vetor vazio chamado lista. <br>\n",
    "    <br>\n",
    "O loop for itera cinco vezes, pedindo ao usuário que digite um número inteiro em cada iteração. O input retorna uma string, que é convertida em um inteiro usando a função int. <br>\n",
    "    <br>\n",
    "O número digitado é adicionado ao vetor usando o método append. <br>\n",
    "    <br>\n",
    "Depois que os cinco números são lidos e adicionados ao vetor, outro loop for é usado para imprimir cada número na tela, um por linha. <br>\n",
    "    <br>\n",
    "Note que o f antes da string de formatação permite que o valor da variável i seja interpolado diretamente na string usando a sintaxe {i}.\n",
    "</p>"
   ]
  },
  {
   "cell_type": "markdown",
   "id": "a66a45fa",
   "metadata": {},
   "source": [
    "## 2) Faça um Programa que leia um vetor de 10 números reais e mostre-os na ordem inversa"
   ]
  },
  {
   "cell_type": "code",
   "execution_count": 6,
   "id": "347f970f",
   "metadata": {},
   "outputs": [
    {
     "name": "stdout",
     "output_type": "stream",
     "text": [
      "Digite o 1º número: 1\n",
      "Digite o 2º número: 2\n",
      "Digite o 3º número: 3\n",
      "Digite o 4º número: 4\n",
      "Digite o 5º número: 5\n",
      "Digite o 6º número: 6\n",
      "Digite o 7º número: 7\n",
      "Digite o 8º número: 8\n",
      "Digite o 9º número: 9\n",
      "Digite o 10º número: 10\n",
      "Os números digitados, em ordem inversa, são:\n",
      "10.0\n",
      "9.0\n",
      "8.0\n",
      "7.0\n",
      "6.0\n",
      "5.0\n",
      "4.0\n",
      "3.0\n",
      "2.0\n",
      "1.0\n"
     ]
    }
   ],
   "source": [
    "vetor = []  # cria um vetor vazio\n",
    "for i in range(10):\n",
    "    numero = float(input(f\"Digite o {i+1}º número: \"))\n",
    "    vetor.append(numero)  # adiciona o número ao vetor\n",
    "\n",
    "print(\"Os números digitados, em ordem inversa, são:\")\n",
    "for numero in reversed(vetor):\n",
    "    print(numero)"
   ]
  },
  {
   "cell_type": "markdown",
   "id": "50eec826",
   "metadata": {},
   "source": [
    "<h1 align=center>Explicação</h1>"
   ]
  },
  {
   "cell_type": "markdown",
   "id": "f01dd37b",
   "metadata": {},
   "source": [
    "<p>\n",
    "A primeira linha cria um vetor vazio chamado vetor. <br>\n",
    "    <br>\n",
    "O loop for itera dez vezes, pedindo ao usuário que digite um número real em cada iteração. O input retorna uma string, que é convertida em um número real usando a função float <br>\n",
    "    <br>\n",
    "O número digitado é adicionado ao vetor usando o método append. <br>\n",
    "    <br>\n",
    "Depois que os dez números são lidos e adicionados ao vetor, outro loop for é usado para imprimir cada número na ordem inversa, um por linha. A função reversed é usada para iterar sobre os elementos do vetor na ordem inversa.. <br>\n",
    "    <br>\n",
    "</p>"
   ]
  },
  {
   "cell_type": "markdown",
   "id": "ef525408",
   "metadata": {},
   "source": [
    "## 3) Faça um Programa que leia 4 notas, mostre as notas e a média na tela"
   ]
  },
  {
   "cell_type": "code",
   "execution_count": 7,
   "id": "929a4db6",
   "metadata": {},
   "outputs": [
    {
     "name": "stdout",
     "output_type": "stream",
     "text": [
      "Digite a 1ª nota: 10\n",
      "Digite a 2ª nota: 5\n",
      "Digite a 3ª nota: 10\n",
      "Digite a 4ª nota: 9\n",
      "Notas:  [10.0, 5.0, 10.0, 9.0]\n",
      "Média:  8.5\n"
     ]
    }
   ],
   "source": [
    "notas = []  # cria uma lista vazia para armazenar as notas\n",
    "for i in range(4):\n",
    "    nota = float(input(f\"Digite a {i+1}ª nota: \"))\n",
    "    notas.append(nota)\n",
    "\n",
    "media = sum(notas) / len(notas)  # calcula a média das notas\n",
    "\n",
    "print(\"Notas: \", notas)\n",
    "print(\"Média: \", media)"
   ]
  },
  {
   "cell_type": "markdown",
   "id": "38bda401",
   "metadata": {},
   "source": [
    "<h1 align=center>Explicação</h1>"
   ]
  },
  {
   "cell_type": "markdown",
   "id": "03a223b2",
   "metadata": {},
   "source": [
    "<p>\n",
    "A primeira linha cria uma lista vazia chamada notas.<br>\n",
    "    <br>\n",
    "O loop for itera quatro vezes, pedindo ao usuário que digite uma nota em cada iteração. O input retorna uma string, que é convertida em um número real usando a função float. <br>\n",
    "    <br>\n",
    "A nota digitada é adicionada à lista notas usando o método append. <br>\n",
    "    <br>\n",
    "Depois que as quatro notas são lidas e adicionadas à lista, a média é calculada somando todas as notas com a função sum e dividindo pelo número de notas com o operador de divisão (/) <br>\n",
    "    <br>\n",
    "    Por fim, as notas são impressas na tela usando a função print, juntamente com a média.\n",
    "</p>"
   ]
  },
  {
   "cell_type": "markdown",
   "id": "ddfe72d3",
   "metadata": {},
   "source": [
    "## 4) Faça um Programa que leia um vetor de 10 caracteres, e diga quantas consoantes foram lidas. Imprima as consoantes"
   ]
  },
  {
   "cell_type": "code",
   "execution_count": 8,
   "id": "734217a1",
   "metadata": {},
   "outputs": [
    {
     "name": "stdout",
     "output_type": "stream",
     "text": [
      "Digite o 1º caractere: a\n",
      "Digite o 2º caractere: b\n",
      "Digite o 3º caractere: o\n",
      "Digite o 4º caractere: b\n",
      "Digite o 5º caractere: o\n",
      "Digite o 6º caractere: r\n",
      "Digite o 7º caractere: a\n",
      "Digite o 8º caractere: z\n",
      "Digite o 9º caractere: i\n",
      "Digite o 10º caractere: n\n",
      "Foram lidas 5 consoantes.\n",
      "As consoantes são: b b r z n "
     ]
    }
   ],
   "source": [
    "vogais = ['a', 'e', 'i', 'o', 'u']\n",
    "vetor = []  # cria um vetor vazio para armazenar os caracteres\n",
    "num_consoantes = 0  # inicializa o contador de consoantes\n",
    "\n",
    "for i in range(10):\n",
    "    caractere = input(f\"Digite o {i+1}º caractere: \")\n",
    "    vetor.append(caractere.lower())  # adiciona o caractere ao vetor em letra minúscula\n",
    "\n",
    "    if not caractere.lower() in vogais and caractere.isalpha():\n",
    "        num_consoantes += 1\n",
    "\n",
    "print(\"Foram lidas\", num_consoantes, \"consoantes.\")\n",
    "print(\"As consoantes são: \", end='')\n",
    "for caractere in vetor:\n",
    "    if not caractere.lower() in vogais and caractere.isalpha():\n",
    "        print(caractere, end=' ')"
   ]
  },
  {
   "cell_type": "markdown",
   "id": "f98da341",
   "metadata": {},
   "source": [
    "<h1 align=center>Explicação</h1>"
   ]
  },
  {
   "cell_type": "markdown",
   "id": "feae68cb",
   "metadata": {},
   "source": [
    "<p>\n",
    "A primeira linha cria uma lista chamada vogais que contém as vogais em minúsculo.<br>\n",
    "    <br>\n",
    "Em seguida, um vetor vazio é criado para armazenar os caracteres digitados e o contador de consoantes é inicializado em zero. <br>\n",
    "    <br>\n",
    "O loop for itera dez vezes, pedindo ao usuário que digite um caractere em cada iteração. <br>\n",
    "    <br>\n",
    "Cada caractere digitado é adicionado ao vetor em letra minúscula usando o método append, para que seja mais fácil compará-lo com as vogais mais tarde. <br>\n",
    "    <br>\n",
    "    Se o caractere não estiver na lista de vogais e for uma letra do alfabeto, ele é contado como uma consoante, incrementando o contador num_consoantes. <br>\n",
    "    <br>\n",
    "    Depois que os dez caracteres são lidos e adicionados ao vetor, o número total de consoantes é impresso na tela, seguido pelos caracteres consoantes em ordem de entrada.\n",
    "</p>"
   ]
  },
  {
   "cell_type": "markdown",
   "id": "7d8fdb5b",
   "metadata": {},
   "source": [
    "## 5) Faça um Programa que leia 20 números inteiros e armazene-os num vetor. Armazene os números pares no vetor PAR e os números IMPARES no vetor impar. Imprima os três vetores.\n"
   ]
  },
  {
   "cell_type": "code",
   "execution_count": 12,
   "id": "902bfbbd",
   "metadata": {
    "scrolled": false
   },
   "outputs": [
    {
     "name": "stdout",
     "output_type": "stream",
     "text": [
      "Digite o 1º número: 1\n",
      "Digite o 2º número: 2\n",
      "Digite o 3º número: 3\n",
      "Digite o 4º número: 4\n",
      "Digite o 5º número: 5\n",
      "Digite o 6º número: 6\n",
      "Digite o 7º número: 7\n",
      "Digite o 8º número: 8\n",
      "Digite o 9º número: 9\n",
      "Digite o 10º número: 10\n",
      "Digite o 11º número: 11\n",
      "Digite o 12º número: 12\n",
      "Digite o 13º número: 13\n",
      "Digite o 14º número: 14\n",
      "Digite o 15º número: 15\n",
      "Digite o 16º número: 16\n",
      "Digite o 17º número: 17\n",
      "Digite o 18º número: 18\n",
      "Digite o 19º número: 19\n",
      "Digite o 20º número: 20\n",
      "Vetor completo: [1, 2, 3, 4, 5, 6, 7, 8, 9, 10, 11, 12, 13, 14, 15, 16, 17, 18, 19, 20]\n",
      "Números pares: [2, 4, 6, 8, 10, 12, 14, 16, 18, 20]\n",
      "Números ímpares: [1, 3, 5, 7, 9, 11, 13, 15, 17, 19]\n"
     ]
    }
   ],
   "source": [
    "vetor = []\n",
    "pares = []\n",
    "impares = []\n",
    "\n",
    "for i in range(20):\n",
    "    num = int(input(f\"Digite o {i+1}º número: \"))\n",
    "    vetor.append(num)\n",
    "\n",
    "    if num % 2 == 0:\n",
    "        pares.append(num)\n",
    "    else:\n",
    "        impares.append(num)\n",
    "\n",
    "print(\"Vetor completo:\", vetor)\n",
    "print(\"Números pares:\", pares)\n",
    "print(\"Números ímpares:\", impares)"
   ]
  },
  {
   "cell_type": "markdown",
   "id": "aefcc75c",
   "metadata": {},
   "source": [
    "<h1 align=center>Explicação</h1>"
   ]
  },
  {
   "cell_type": "markdown",
   "id": "ab457676",
   "metadata": {},
   "source": [
    "<p>\n",
    "Um vetor vazio é criado para armazenar os números inteiros digitados pelo usuário, e dois vetores adicionais são criados para armazenar os números pares e ímpares, respectivamente..<br>\n",
    "    <br>\n",
    "Em seguida, um vetor vazio é criado para armazenar os caracteres digitados e o contador de consoantes é inicializado em zero. <br>\n",
    "    <br>\n",
    "O loop for itera vinte vezes, pedindo ao usuário que digite um número inteiro em cada iteração. <br>\n",
    "    <br>\n",
    "Cada número digitado é adicionado ao vetor usando o método append. <br>\n",
    "    <br>\n",
    "   Se o número for divisível por 2 (ou seja, se for par), ele é adicionado ao vetor pares. Caso contrário, é adicionado ao vetor impares. <br>\n",
    "    <br>\n",
    "   Depois que os vinte números são lidos e separados em vetores de pares e ímpares, os três vetores são impressos na tela usando a função print\n",
    "</p>"
   ]
  },
  {
   "cell_type": "markdown",
   "id": "bfe3e344",
   "metadata": {},
   "source": [
    "## 6) Faça um Programa que peça as quatro notas de 10 alunos, calcule e armazene num vetor a média de cada aluno, imprima o número de alunos com média maior ou igual a 7.0."
   ]
  },
  {
   "cell_type": "code",
   "execution_count": null,
   "id": "aee2e011",
   "metadata": {
    "scrolled": true
   },
   "outputs": [],
   "source": [
    "# medias = []\n",
    "\n",
    "for i in range(10):\n",
    "    notas = []\n",
    "    for j in range(4):\n",
    "        nota = float(input(f\"Digite a {j+1}ª nota do aluno {i+1}: \"))\n",
    "        notas.append(nota)\n",
    "    media = sum(notas) / len(notas)\n",
    "    medias.append(media)\n",
    "\n",
    "print(\"Médias dos alunos:\", medias)\n",
    "\n",
    "num_alunos_aprovados = 0\n",
    "for media in medias:\n",
    "    if media >= 7.0:\n",
    "        num_alunos_aprovados += 1\n",
    "\n",
    "print(\"Número de alunos com média maior ou igual a 7.0:\", num_alunos_aprovados)\n"
   ]
  },
  {
   "cell_type": "markdown",
   "id": "621d08ac",
   "metadata": {},
   "source": [
    "<h1 align=\"center\">Explicação</h1>"
   ]
  },
  {
   "cell_type": "markdown",
   "id": "71432f19",
   "metadata": {},
   "source": [
    "Um vetor vazio é criado para armazenar as médias dos alunos.\n",
    "O loop for itera dez vezes, pedindo as quatro notas de cada aluno.\n",
    "As notas são armazenadas em uma lista chamada notas.\n",
    "A média do aluno é calculada dividindo a soma das notas pela quantidade de notas, e é armazenada na lista medias.\n",
    "Depois que as notas de todos os alunos são lidas e suas médias calculadas, o número de alunos com média maior ou igual a 7.0 é calculado contando quantas médias na lista medias são maiores ou iguais a 7.0.\n",
    "O resultado é impresso na tela usando a função print."
   ]
  },
  {
   "cell_type": "markdown",
   "id": "fe62355a",
   "metadata": {},
   "source": [
    "## 7) Faça um Programa que leia um vetor de 5 números inteiros, mostre a soma, a multiplicação e os números"
   ]
  },
  {
   "cell_type": "code",
   "execution_count": 22,
   "id": "1f230210",
   "metadata": {},
   "outputs": [
    {
     "name": "stdout",
     "output_type": "stream",
     "text": [
      "Digite o 1º número: 12\n",
      "Digite o 2º número: 20\n",
      "Digite o 3º número: 30\n",
      "Digite o 4º número: 242\n",
      "Digite o 5º número: 55\n",
      "Números digitados: [12, 20, 30, 242, 55]\n",
      "Soma: 359\n",
      "Multiplicação: 95832000\n"
     ]
    }
   ],
   "source": [
    "numeros = []\n",
    "\n",
    "for i in range(5):\n",
    "    num = int(input(f\"Digite o {i+1}º número: \"))\n",
    "    numeros.append(num)\n",
    "\n",
    "soma = sum(numeros)\n",
    "multiplicacao = 1\n",
    "for num in numeros:\n",
    "    multiplicacao *= num\n",
    "\n",
    "print(\"Números digitados:\", numeros)\n",
    "print(\"Soma:\", soma)\n",
    "print(\"Multiplicação:\", multiplicacao)"
   ]
  },
  {
   "cell_type": "markdown",
   "id": "8d95f4d7",
   "metadata": {},
   "source": [
    "<h1 align=center>Explicação</h1>"
   ]
  },
  {
   "cell_type": "markdown",
   "id": "2ab4c715",
   "metadata": {},
   "source": [
    "Um vetor vazio chamado numeros é criado para armazenar os números inteiros.\n",
    "O loop for itera cinco vezes, pedindo ao usuário que digite um número inteiro em cada iteração.\n",
    "Cada número digitado é adicionado ao vetor usando o método append.\n",
    "A soma de todos os números no vetor é calculada usando a função sum.\n",
    "A multiplicação de todos os números no vetor é calculada usando um loop for que itera por todos os números no vetor e acumula o produto em uma variável chamada multiplicacao.\n",
    "Os números digitados, a soma e a multiplicação são impressos na tela usando a função print."
   ]
  },
  {
   "cell_type": "markdown",
   "id": "9b19807c",
   "metadata": {},
   "source": [
    "## 8) Faça um Programa que peça a idade e a altura de 5 pessoas, armazene cada informação no seu respectivo vetor. Imprima a idade e a altura na ordem inversa a ordem lida."
   ]
  },
  {
   "cell_type": "code",
   "execution_count": null,
   "id": "86ea4a35",
   "metadata": {
    "scrolled": true
   },
   "outputs": [],
   "source": [
    "idades = []\n",
    "alturas = []\n",
    "\n",
    "for i in range(5):\n",
    "    idade = int(input(f\"Digite a idade da {i+1}ª pessoa: \"))\n",
    "    altura = float(input(f\"Digite a altura da {i+1}ª pessoa (em metros): \"))\n",
    "    idades.append(idade)\n",
    "    alturas.append(altura)\n",
    "\n",
    "print(\"Idades em ordem inversa:\")\n",
    "for idade in reversed(idades):\n",
    "    print(idade)\n",
    "\n",
    "print(\"Alturas em ordem inversa:\")\n",
    "for altura in reversed(alturas):\n",
    "    print(altura)"
   ]
  },
  {
   "cell_type": "markdown",
   "id": "a35df1bc",
   "metadata": {},
   "source": [
    "<h1 align=center>Explicação</h1>"
   ]
  },
  {
   "cell_type": "markdown",
   "id": "c686373d",
   "metadata": {},
   "source": [
    "Dois vetores vazios são criados: idades e alturas.\n",
    "O loop for itera cinco vezes, pedindo ao usuário que digite a idade e a altura de cada pessoa.\n",
    "Cada idade e altura digitada é adicionada ao vetor correspondente usando o método append.\n",
    "As idades são impressas na ordem inversa usando o comando reversed para inverter a ordem dos elementos no vetor e um loop for para iterar pelos elementos na nova ordem.\n",
    "As alturas são impressas na ordem inversa da mesma maneira que as idades."
   ]
  },
  {
   "cell_type": "markdown",
   "id": "c603412f",
   "metadata": {},
   "source": [
    "## 9) Faça um Programa que leia um vetor A com 10 números inteiros, calcule e mostre a soma dos quadrados dos elementos do vetor.\n"
   ]
  },
  {
   "cell_type": "code",
   "execution_count": 25,
   "id": "fcafe124",
   "metadata": {},
   "outputs": [
    {
     "name": "stdout",
     "output_type": "stream",
     "text": [
      "Digite o 1º número: 1\n",
      "Digite o 2º número: 2\n",
      "Digite o 3º número: 3\n",
      "Digite o 4º número: 4\n",
      "Digite o 5º número: 5\n",
      "Digite o 6º número: 6\n",
      "Digite o 7º número: 7\n",
      "Digite o 8º número: 8\n",
      "Digite o 9º número: 9\n",
      "Digite o 10º número: 10\n",
      "Vetor A: [1, 2, 3, 4, 5, 6, 7, 8, 9, 10]\n",
      "Soma dos quadrados: 385\n"
     ]
    }
   ],
   "source": [
    "vetor_a = []\n",
    "\n",
    "for i in range(10):\n",
    "    num = int(input(f\"Digite o {i+1}º número: \"))\n",
    "    vetor_a.append(num)\n",
    "\n",
    "soma_quadrados = sum([num**2 for num in vetor_a])\n",
    "\n",
    "print(\"Vetor A:\", vetor_a)\n",
    "print(\"Soma dos quadrados:\", soma_quadrados)"
   ]
  },
  {
   "cell_type": "markdown",
   "id": "9bc6528b",
   "metadata": {},
   "source": [
    "<h1 align=center>Explicação</h1>"
   ]
  },
  {
   "cell_type": "markdown",
   "id": "2a6c764f",
   "metadata": {},
   "source": [
    "Um vetor vazio chamado vetor_a é criado para armazenar os números inteiros.\n",
    "O loop for itera dez vezes, pedindo ao usuário que digite um número inteiro em cada iteração.\n",
    "Cada número digitado é adicionado ao vetor usando o método append.\n",
    "A soma dos quadrados de todos os números no vetor é calculada usando uma compreensão de lista e a função sum. A compreensão de lista cria uma nova lista contendo o quadrado de cada número no vetor original, e a função sum soma todos os elementos da lista resultante.\n",
    "O vetor A e a soma dos quadrados são impressos na tela usando a função print."
   ]
  },
  {
   "cell_type": "markdown",
   "id": "bf6cc0b3",
   "metadata": {},
   "source": [
    "## 10) Faça um Programa que leia dois vetores com 10 elementos cada. Gere um terceiro vetor de 20 elementos, cujos valores deverão ser compostos pelos elementos intercalados dos dois outros vetores."
   ]
  },
  {
   "cell_type": "code",
   "execution_count": null,
   "id": "60265095",
   "metadata": {},
   "outputs": [],
   "source": [
    "vetor_a = []\n",
    "vetor_b = []\n",
    "vetor_c = []\n",
    "\n",
    "# Lê os elementos do primeiro vetor\n",
    "for i in range(10):\n",
    "    num = int(input(f\"Digite o {i+1}º número do primeiro vetor: \"))\n",
    "    vetor_a.append(num)\n",
    "\n",
    "# Lê os elementos do segundo vetor\n",
    "for i in range(10):\n",
    "    num = int(input(f\"Digite o {i+1}º número do segundo vetor: \"))\n",
    "    vetor_b.append(num)\n",
    "\n",
    "# Interpola os elementos dos vetores A e B em um novo vetor C\n",
    "for i in range(10):\n",
    "    vetor_c.append(vetor_a[i])\n",
    "    vetor_c.append(vetor_b[i])\n",
    "\n",
    "# Exibe o vetor resultante\n",
    "print(\"Vetor A:\", vetor_a)\n",
    "print(\"Vetor B:\", vetor_b)\n",
    "print(\"Vetor C:\", vetor_c)"
   ]
  },
  {
   "cell_type": "markdown",
   "id": "0c85d273",
   "metadata": {},
   "source": [
    "<h1 align=center>Explicação</h1>"
   ]
  },
  {
   "cell_type": "markdown",
   "id": "7eda1466",
   "metadata": {},
   "source": [
    "Dois vetores vazios chamados vetor_a e vetor_b são criados para armazenar os elementos dos dois primeiros vetores, e um terceiro vetor vazio chamado vetor_c é criado para armazenar o resultado final.\n",
    "O loop for itera dez vezes, pedindo ao usuário que digite um número inteiro para cada elemento do primeiro vetor usando a função input, e adicionando cada número ao vetor A usando o método append.\n",
    "O mesmo processo é repetido para o segundo vetor B.\n",
    "Um novo loop for itera dez vezes, adicionando o elemento i do vetor A seguido pelo elemento i do vetor B ao vetor C em cada iteração, usando o método append.\n",
    "O vetor A, o vetor B e o vetor C são exibidos na tela usando a função print."
   ]
  },
  {
   "cell_type": "markdown",
   "id": "745b983c",
   "metadata": {},
   "source": [
    "## 11) Altere o programa anterior, intercalando 3 vetores de 10 elementos cada."
   ]
  },
  {
   "cell_type": "code",
   "execution_count": null,
   "id": "35a5dfc1",
   "metadata": {
    "scrolled": true
   },
   "outputs": [],
   "source": [
    "vetor1 = []\n",
    "vetor2 = []\n",
    "vetor3 = []\n",
    "vetor_intercalado = []\n",
    "\n",
    "print(\"Digite os elementos do primeiro vetor:\")\n",
    "for i in range(10):\n",
    "    elemento = int(input())\n",
    "    vetor1.append(elemento)\n",
    "\n",
    "print(\"Digite os elementos do segundo vetor:\")\n",
    "for i in range(10):\n",
    "    elemento = int(input())\n",
    "    vetor2.append(elemento)\n",
    "\n",
    "print(\"Digite os elementos do terceiro vetor:\")\n",
    "for i in range(10):\n",
    "    elemento = int(input())\n",
    "    vetor3.append(elemento)\n",
    "\n",
    "for i in range(10):\n",
    "    vetor_intercalado.append(vetor1[i])\n",
    "    vetor_intercalado.append(vetor2[i])\n",
    "    vetor_intercalado.append(vetor3[i])\n",
    "\n",
    "print(\"Vetor intercalado:\")\n",
    "print(vetor_intercalado)"
   ]
  },
  {
   "cell_type": "markdown",
   "id": "ce09ddd8",
   "metadata": {},
   "source": [
    "<h1 align=center\n",
    "   >Explicação</h1>"
   ]
  },
  {
   "cell_type": "markdown",
   "id": "7481deac",
   "metadata": {},
   "source": [
    "O programa funciona de forma semelhante ao anterior, mas agora ele lê três vetores de 10 elementos cada e gera um quarto vetor de 30 elementos, intercalando os elementos dos três primeiros vetores.\n",
    "\n",
    "Primeiro, o programa cria três listas vazias, vetor1, vetor2 e vetor3, para armazenar os elementos dos três vetores lidos do usuário. Em seguida, o programa usa três loops for para solicitar que o usuário digite os elementos de cada vetor.\n",
    "\n",
    "Depois disso, o programa cria uma quarta lista vazia, vetor_intercalado, para armazenar os elementos intercalados dos três primeiros vetores. O programa utiliza um quarto loop for para iterar sobre os elementos dos três primeiros vetores e adicioná-los em ordem alternada na quarta lista.\n",
    "\n",
    "Por fim, o programa imprime o vetor intercalado resultante."
   ]
  },
  {
   "cell_type": "markdown",
   "id": "cfd7269d",
   "metadata": {},
   "source": [
    "## 12) Foram anotadas as idades e alturas de 30 alunos. Faça um Programa que determine quantos alunos com mais de 13 anos possuem altura inferior à média de altura desses alunos"
   ]
  },
  {
   "cell_type": "code",
   "execution_count": null,
   "id": "7010a72d",
   "metadata": {},
   "outputs": [],
   "source": [
    "idades = []\n",
    "alturas = []\n",
    "soma_alturas = 0\n",
    "qtd_alunos = 0\n",
    "\n",
    "for i in range(30):\n",
    "    idade = int(input(\"Digite a idade do aluno: \"))\n",
    "    altura = float(input(\"Digite a altura do aluno: \"))\n",
    "\n",
    "    idades.append(idade)\n",
    "    alturas.append(altura)\n",
    "\n",
    "    if idade > 13:\n",
    "        soma_alturas += altura\n",
    "        qtd_alunos += 1\n",
    "\n",
    "media_alturas = soma_alturas / qtd_alunos\n",
    "\n",
    "qtd_alunos_inferiores = 0\n",
    "\n",
    "for i in range(qtd_alunos):\n",
    "    if alturas[i] < media_alturas:\n",
    "        qtd_alunos_inferiores += 1\n",
    "\n",
    "print(f\"{qtd_alunos_inferiores} alunos com mais de 13 anos possuem altura inferior à média de altura dos alunos.\")"
   ]
  },
  {
   "cell_type": "markdown",
   "id": "234667ef",
   "metadata": {},
   "source": [
    "<h1 align=center>Explicação</h1>"
   ]
  },
  {
   "cell_type": "markdown",
   "id": "accd882a",
   "metadata": {},
   "source": [
    "O programa começa criando duas listas vazias, idades e alturas, para armazenar as idades e alturas dos alunos. Em seguida, o programa utiliza um loop for para solicitar que o usuário digite a idade e altura de cada um dos 30 alunos. A cada iteração, o programa adiciona a idade e a altura do aluno nas respectivas listas e, caso o aluno tenha mais de 13 anos, adiciona a altura dele a uma soma de alturas e incrementa uma variável de contagem de alunos.\n",
    "\n",
    "Depois disso, o programa calcula a média de altura dos alunos com mais de 13 anos, dividindo a soma de alturas pela quantidade de alunos com mais de 13 anos.\n",
    "\n",
    "Em seguida, o programa utiliza outro loop for para iterar sobre os alunos com mais de 13 anos e verificar quantos deles possuem altura inferior à média de altura calculada anteriormente. Para isso, o programa incrementa uma variável de contagem sempre que encontra um aluno que atenda a essas condições.\n",
    "\n",
    "Por fim, o programa imprime o número de alunos com mais de 13 anos e altura inferior à média de altura dos alunos."
   ]
  },
  {
   "cell_type": "markdown",
   "id": "d2268d51",
   "metadata": {},
   "source": [
    "## 13)  Faça um programa que receba a temperatura média de cada mês do ano e armazene-as em uma lista. Após isto, calcule a média anual das temperaturas e mostre todas as temperaturas acima da média anual, e em que mês elas ocorreram (mostrar o mês por extenso: 1 – Janeiro, 2 – Fevereiro, . . . )."
   ]
  },
  {
   "cell_type": "code",
   "execution_count": 9,
   "id": "e9210bd7",
   "metadata": {},
   "outputs": [
    {
     "name": "stdout",
     "output_type": "stream",
     "text": [
      "Digite a temperatura média de Janeiro: 35\n",
      "Digite a temperatura média de Fevereiro: 32\n",
      "Digite a temperatura média de Março: 29\n",
      "Digite a temperatura média de Abril: 40\n",
      "Digite a temperatura média de Maio: 25\n",
      "Digite a temperatura média de Junho: 31\n",
      "Digite a temperatura média de Julho: 36\n",
      "Digite a temperatura média de Agosto: 39\n",
      "Digite a temperatura média de Setembro: 29\n",
      "Digite a temperatura média de Outubro: 40\n",
      "Digite a temperatura média de Novembro: 40\n",
      "Digite a temperatura média de Dezembro: 40\n",
      "Média anual de temperatura: 34.67ºC\n",
      "Meses com temperatura acima da média anual:\n",
      "Janeiro: 35.00ºC\n",
      "Abril: 40.00ºC\n",
      "Julho: 36.00ºC\n",
      "Agosto: 39.00ºC\n",
      "Outubro: 40.00ºC\n",
      "Novembro: 40.00ºC\n",
      "Dezembro: 40.00ºC\n"
     ]
    }
   ],
   "source": [
    "temperaturas = []\n",
    "meses = [\"Janeiro\", \"Fevereiro\", \"Março\", \"Abril\", \"Maio\", \"Junho\", \"Julho\", \"Agosto\", \"Setembro\", \"Outubro\", \"Novembro\", \"Dezembro\"]\n",
    "\n",
    "for i in range(12):\n",
    "    temperatura = float(input(f\"Digite a temperatura média de {meses[i]}: \"))\n",
    "    temperaturas.append(temperatura)\n",
    "\n",
    "media_anual = sum(temperaturas) / len(temperaturas)\n",
    "\n",
    "print(f\"Média anual de temperatura: {media_anual:.2f}ºC\")\n",
    "print(\"Meses com temperatura acima da média anual:\")\n",
    "\n",
    "for i in range(12):\n",
    "    if temperaturas[i] > media_anual:\n",
    "        print(f\"{meses[i]}: {temperaturas[i]:.2f}ºC\")"
   ]
  },
  {
   "cell_type": "markdown",
   "id": "12eadd03",
   "metadata": {},
   "source": [
    "<h1 align=center>Explicação</h1>"
   ]
  },
  {
   "cell_type": "markdown",
   "id": "8e767ea2",
   "metadata": {},
   "source": [
    "O programa começa criando uma lista vazia temperaturas para armazenar as temperaturas médias de cada mês do ano, e uma lista meses com os nomes dos meses, para exibir posteriormente em qual mês ocorreram as temperaturas acima da média anual.\n",
    "\n",
    "Em seguida, o programa utiliza um loop for para solicitar que o usuário digite a temperatura média de cada um dos 12 meses do ano. A cada iteração, o programa adiciona a temperatura média do mês na lista temperaturas.\n",
    "\n",
    "Depois disso, o programa calcula a média anual das temperaturas, somando todos os elementos da lista temperaturas e dividindo pela quantidade de elementos.\n",
    "\n",
    "Em seguida, o programa imprime a média anual das temperaturas e inicia outro loop for para verificar em quais meses a temperatura média foi superior à média anual calculada anteriormente. A cada iteração, o programa verifica se a temperatura média do mês atual é maior do que a média anual e, se for, imprime o nome do mês e a temperatura média.\n",
    "\n",
    "Por fim, o programa exibe na tela os meses em que a temperatura média foi superior à média anual, mostrando o nome do mês e a temperatura média."
   ]
  },
  {
   "cell_type": "markdown",
   "id": "324698aa",
   "metadata": {},
   "source": [
    "## 14) Utilizando listas faça um programa que faça 5 perguntas para uma pessoa sobre um crime. As perguntas são:\n",
    "\n",
    "<ul>\n",
    "<li>a. \"Telefonou para a vítima?\"</li>\n",
    "<li>b. \"Esteve no local do crime?\"</li>\n",
    "<li>c. \"Mora perto da vítima?\"</li>\n",
    "<li>d. \"Devia para a vítima?\"</li>\n",
    "<li>e. \"Já trabalhou com a vítima?\"</li>\n",
    "</ul>\n",
    "\n",
    "### O programa deve no final emitir uma classificação sobre a participação da pessoa no crime. Se a pessoa responder positivamente a 2 questões ela deve ser classificada como \"Suspeita\", entre 3 e 4 como \"Cúmplice\" e 5 como \"Assassino\". Caso contrário, ele será classificado como \"Inocente\"."
   ]
  },
  {
   "cell_type": "code",
   "execution_count": 10,
   "id": "b48400bb",
   "metadata": {},
   "outputs": [
    {
     "name": "stdout",
     "output_type": "stream",
     "text": [
      "Telefonou para a vítima? (sim/não) sim\n",
      "Esteve no local do crime? (sim/não) não\n",
      "Mora perto da vítima? (sim/não) sim\n",
      "Devia para a vítima? (sim/não) sim\n",
      "Já trabalhou com a vítima? (sim/não) sim\n",
      "Você é cúmplice do crime.\n"
     ]
    }
   ],
   "source": [
    "respostas = []\n",
    "suspeita = 0\n",
    "\n",
    "respostas.append(input(\"Telefonou para a vítima? (sim/não) \"))\n",
    "respostas.append(input(\"Esteve no local do crime? (sim/não) \"))\n",
    "respostas.append(input(\"Mora perto da vítima? (sim/não) \"))\n",
    "respostas.append(input(\"Devia para a vítima? (sim/não) \"))\n",
    "respostas.append(input(\"Já trabalhou com a vítima? (sim/não) \"))\n",
    "\n",
    "for resposta in respostas:\n",
    "    if resposta == \"sim\":\n",
    "        suspeita += 1\n",
    "\n",
    "if suspeita == 2:\n",
    "    print(\"Você é suspeito(a) do crime.\")\n",
    "elif suspeita >= 3 and suspeita <= 4:\n",
    "    print(\"Você é cúmplice do crime.\")\n",
    "elif suspeita == 5:\n",
    "    print(\"Você é o(a) assassino(a)!\")\n",
    "else:\n",
    "    print(\"Você é inocente.\") "
   ]
  },
  {
   "cell_type": "markdown",
   "id": "5cc3d4d0",
   "metadata": {},
   "source": [
    "<h1 align=center>Explicação</h1>"
   ]
  },
  {
   "cell_type": "markdown",
   "id": "8c4e7ff5",
   "metadata": {},
   "source": [
    "O programa começa criando uma lista vazia respostas para armazenar as respostas da pessoa às 5 perguntas sobre o crime.\n",
    "\n",
    "Em seguida, o programa utiliza um loop for para percorrer a lista de respostas e contar quantas vezes a pessoa respondeu \"sim\". Para cada resposta \"sim\", o programa incrementa uma variável suspeita.\n",
    "\n",
    "Depois disso, o programa utiliza uma série de condicionais para classificar a pessoa de acordo com as respostas dadas. Se a pessoa respondeu \"sim\" a exatamente 2 perguntas, ela é classificada como \"Suspeita\". Se respondeu \"sim\" a 3 ou 4 perguntas, ela é classificada como \"Cúmplice\". Se respondeu \"sim\" a todas as perguntas, ela é classificada como \"Assassino\". Se não respondeu \"sim\" a nenhuma pergunta, ela é classificada como \"Inocente\".\n",
    "\n",
    "Por fim, o programa exibe na tela a classificação da pessoa de acordo com as respostas dadas.\n",
    "\n",
    "\n",
    "\n",
    "\n",
    "\n",
    "\n"
   ]
  },
  {
   "cell_type": "markdown",
   "id": "97c4f340",
   "metadata": {},
   "source": [
    "## 15) Faça um programa que leia um número indeterminado de valores, correspondentes a notas,encerrando a entrada de dados quando for informado um valor igual a -1 (que não deve serarmazenado). Após esta entrada de dados, faça:\n",
    "<ul>\n",
    "\n",
    "\n",
    "\n",
    "\n",
    "\n",
    "\n",
    "\n",
    "\n",
    "<ul>\n",
    "<li>a. Mostre a quantidade de valores que foram lidos;</li>\n",
    "<li>b. Exiba todos os valores na ordem em que foram informados, um ao lado do outro;</li>\n",
    "<li>c. Exiba todos os valores na ordem inversa à que foram informados, um abaixo do outro;</li>\n",
    "<li>c. Exiba todos os valores na ordem inversa à que foram informados, um abaixo do outro;</li>\n",
    "<li>d. Calcule e mostre a soma dos valores;</li>\n",
    "<li>e. Calcule e mostre a média dos valores;</li>\n",
    "<li>f. Calcule e mostre a quantidade de valores acima da média calculada;</li>\n",
    "<li>g. Calcule e mostre a quantidade de valores abaixo de sete;</li>\n",
    "<li>h. Encerre o programa com uma mensagem;</li>\n",
    "</ul>"
   ]
  },
  {
   "cell_type": "code",
   "execution_count": 13,
   "id": "5f92da48",
   "metadata": {},
   "outputs": [
    {
     "name": "stdout",
     "output_type": "stream",
     "text": [
      "Digite uma nota (-1 para encerrar): 10\n",
      "Digite uma nota (-1 para encerrar): 10\n",
      "Digite uma nota (-1 para encerrar): 5\n",
      "Digite uma nota (-1 para encerrar): 10\n",
      "Digite uma nota (-1 para encerrar): 9\n",
      "Digite uma nota (-1 para encerrar): 5\n",
      "Digite uma nota (-1 para encerrar): -1\n",
      "\n",
      "Quantidade de valores lidos: 6\n",
      "Valores informados, um ao lado do outro: \n",
      "10.0 10.0 5.0 10.0 9.0 5.0\n",
      "Valores informados, um abaixo do outro: \n",
      "5.0\n",
      "9.0\n",
      "10.0\n",
      "5.0\n",
      "10.0\n",
      "10.0\n",
      "Soma dos valores: 49.0\n",
      "Média dos valores: 8.17\n",
      "Quantidade de valores acima da média: 4\n",
      "Quantidade de valores abaixo de 7: 2\n",
      "Programa encerrado.\n"
     ]
    }
   ],
   "source": [
    "notas = []\n",
    "valor = 0\n",
    "while valor != -1:\n",
    "    valor = float(input(\"Digite uma nota (-1 para encerrar): \"))\n",
    "    if valor != -1:\n",
    "        notas.append(valor)\n",
    "\n",
    "qtd_notas = len(notas)\n",
    "soma_notas = sum(notas)\n",
    "media_notas = soma_notas / qtd_notas\n",
    "\n",
    "print(f\"\\nQuantidade de valores lidos: {qtd_notas}\")\n",
    "print(\"Valores informados, um ao lado do outro: \")\n",
    "print(*notas, sep=\" \")\n",
    "print(\"Valores informados, um abaixo do outro: \")\n",
    "print(\"\\n\".join(map(str, notas[::-1])))\n",
    "\n",
    "print(f\"Soma dos valores: {soma_notas}\")\n",
    "print(f\"Média dos valores: {media_notas:.2f}\")\n",
    "\n",
    "acima_media = sum(1 for nota in notas if nota > media_notas)\n",
    "print(f\"Quantidade de valores acima da média: {acima_media}\")\n",
    "\n",
    "abaixo_sete = sum(1 for nota in notas if nota < 7)\n",
    "print(f\"Quantidade de valores abaixo de 7: {abaixo_sete}\")\n",
    "\n",
    "print(\"Programa encerrado.\")"
   ]
  },
  {
   "cell_type": "markdown",
   "id": "16f8d552",
   "metadata": {},
   "source": [
    "<h1 align=center>Explicação</h1>"
   ]
  },
  {
   "cell_type": "markdown",
   "id": "f8ac404e",
   "metadata": {},
   "source": [
    "O programa começa criando uma lista vazia notas para armazenar as notas lidas e inicializa uma variável valor com o valor 0.\n",
    "\n",
    "Em seguida, o programa entra em um loop while que continua executando enquanto valor for diferente de -1. Dentro do loop, o programa pede para o usuário digitar uma nota e a adiciona à lista notas, desde que o valor digitado não seja -1.\n",
    "\n",
    "Após a entrada de dados, o programa utiliza diversas funções de lista para realizar operações com as notas lidas. Ele calcula a quantidade de notas lidas, a soma das notas, a média das notas, a quantidade de notas acima da média e a quantidade de notas abaixo de 7.\n",
    "\n",
    "Por fim, o programa exibe na tela todas as informações calculadas, bem como uma mensagem de encerramento do programa."
   ]
  },
  {
   "cell_type": "markdown",
   "id": "bebfaed2",
   "metadata": {},
   "source": [
    "## 16) Utilize uma lista para resolver o problema a seguir. Uma empresa paga seus vendedores combase em comissões. O vendedor recebe 200 por semana mais 9 por cento de suas vendas brutas daquela semana. Por exemplo, um vendedor que teve vendas brutas de 3000 em uma semana recebe 200 mais 9 por cento de 3000, ou seja, um total de 470. Escreva um programa (usando um array de contadores) que determine quantos vendedores receberam salários nos seguintes intervalos de valores:\n",
    "\n",
    "\n",
    "\n",
    "- a. $200 - $299\n",
    "\n",
    "- b. $300 - $399\n",
    "\n",
    "- c. $400 - $499\n",
    "\n",
    "- d. $500 - $599\n",
    "\n",
    "- e. $600 - $699\n",
    "\n",
    "- f. $700 - $799\n",
    "\n",
    "- g. $800 - $899\n",
    "\n",
    "- h. $900 - $999\n",
    "\n",
    "- i. $1000 em diante\n",
    "\n",
    "\n",
    "Desafio: Crie uma fórmula para chegar na posição da lista a partir do salário, sem fazer\n",
    "vários ifs aninhados."
   ]
  },
  {
   "cell_type": "code",
   "execution_count": 26,
   "id": "9dcaddf7",
   "metadata": {},
   "outputs": [
    {
     "name": "stdout",
     "output_type": "stream",
     "text": [
      "$200 - $299: 1\n",
      "$300 - $399: 1\n",
      "$400 - $499: 1\n",
      "$500 - $599: 2\n",
      "$600 - $699: 2\n",
      "$700 - $799: 0\n",
      "$800 - $899: 1\n",
      "$900 - $999: 1\n",
      "$1000 - $1099: 1\n",
      "$1000 em diante: 0\n"
     ]
    }
   ],
   "source": [
    "salarios = [500, 350, 420, 800, 1000, 650, 270, 930, 670, 550]\n",
    "\n",
    "contadores = [0] * 10\n",
    "\n",
    "for salario in salarios:\n",
    "    posicao = (salario - 200) // 100\n",
    "    if posicao < 0:\n",
    "        posicao = 0\n",
    "    elif posicao > 9:\n",
    "        posicao = 9\n",
    "    contadores[posicao] += 1\n",
    "\n",
    "for i in range(len(contadores)):\n",
    "    if i == 9:\n",
    "        print(\"$1000 em diante:\", contadores[i])\n",
    "    else:\n",
    "        print(\"$%d - $%d:\" % (200 + i*100, 299 + i*100), contadores[i])"
   ]
  },
  {
   "cell_type": "markdown",
   "id": "7ee2d197",
   "metadata": {},
   "source": [
    "<h1 align=center>Explicação</h1>"
   ]
  },
  {
   "cell_type": "markdown",
   "id": "3927311a",
   "metadata": {},
   "source": [
    "Neste exemplo, a lista de salários é inicializada com valores aleatórios para fins de demonstração. A variável contadores é inicializada com 10 elementos iguais a zero, correspondendo a cada intervalo de valores. Em seguida, é feita uma iteração sobre os salários da lista, calculando a posição do contador correspondente e incrementando-o em seguida.\n",
    "\n",
    "Por fim, é feita uma iteração sobre os contadores, imprimindo o intervalo de valores correspondente e a quantidade de vendedores que receberam salários dentro daquele intervalo. Note que o último intervalo de valores é tratado de forma especial, pois não possui um limite superior definido.\n",
    "\n",
    "\n",
    "\n",
    "\n"
   ]
  },
  {
   "cell_type": "markdown",
   "id": "1434eb47",
   "metadata": {},
   "source": [
    "## 17) Em uma competição de salto em distância cada atleta tem direito a cinco saltos. O resultado do atleta será determinado pela média dos cinco valores restantes. Você deve fazer um programa que receba o nome e as cinco distâncias alcançadas pelo atleta em seus saltos e depois informe o nome, os saltos e a média dos saltos. O programa deve ser encerrado quando não for informado o nome do atleta. A saída do programa deve ser conforme o exemplo abaixo:\n",
    "\n",
    "<img src=\"https://i.imgur.com/OIktEHr.png\">"
   ]
  },
  {
   "cell_type": "code",
   "execution_count": 1,
   "id": "efe160eb",
   "metadata": {},
   "outputs": [
    {
     "name": "stdout",
     "output_type": "stream",
     "text": [
      "Digite o nome do atleta (ou 'sair' para encerrar): paulo\n",
      "Digite a distância do 1º salto (em metros): 3\n",
      "Digite a distância do 2º salto (em metros): 6\n",
      "Digite a distância do 3º salto (em metros): 4\n",
      "Digite a distância do 4º salto (em metros): 5\n",
      "Digite a distância do 5º salto (em metros): 3.6\n",
      "Resultado final:\n",
      "Atleta: paulo\n",
      "Saltos: 3.0 m - 6.0 m - 4.0 m - 5.0 m - 3.6 m\n",
      "Média dos saltos: 4.3 m\n",
      "Digite o nome do atleta (ou 'sair' para encerrar): sair\n"
     ]
    }
   ],
   "source": [
    "while True:\n",
    "    nome = input(\"Digite o nome do atleta (ou 'sair' para encerrar): \")\n",
    "    if nome.lower() == 'sair':\n",
    "        break\n",
    "\n",
    "    saltos = []\n",
    "    for i in range(1, 6):\n",
    "        salto = float(input(f\"Digite a distância do {i}º salto (em metros): \"))\n",
    "        saltos.append(salto)\n",
    "\n",
    "    media = sum(saltos) / 5\n",
    "\n",
    "    print(\"Resultado final:\")\n",
    "    print(f\"Atleta: {nome}\")\n",
    "    print(\"Saltos:\", \" - \".join([f\"{s:.1f} m\" for s in saltos]))\n",
    "    print(f\"Média dos saltos: {media:.1f} m\")"
   ]
  },
  {
   "cell_type": "markdown",
   "id": "f77d30da",
   "metadata": {},
   "source": [
    "<h1 align=center>Explicação</h1>"
   ]
  },
  {
   "cell_type": "markdown",
   "id": "dfcdc96e",
   "metadata": {},
   "source": [
    "O laço while é utilizado para repetir o processo de leitura dos dados de cada atleta até que seja digitado o comando 'sair'.\n",
    "Dentro do laço, o nome do atleta é lido usando a função input.\n",
    "Em seguida, é criada uma lista vazia saltos que será usada para armazenar as distâncias dos saltos.\n",
    "Um laço for é utilizado para ler a distância dos cinco saltos. Dentro do laço, é usada a função float para converter a string digitada pelo usuário em um número decimal.\n",
    "Depois de ler os cinco saltos, é calculada a média dos valores utilizando a função sum para somar os elementos da lista saltos e dividindo o resultado por 5.\n",
    "Por fim, são impressos na tela os resultados usando a função print, formatando as strings conforme necessário. A função join é utilizada para criar uma string com os elementos da lista saltos, separados por \" - \". A notação :.1f é usada para formatar números decimais com uma casa decimal."
   ]
  },
  {
   "cell_type": "markdown",
   "id": "4928cbc7",
   "metadata": {},
   "source": [
    "## 18) Uma grande emissora de televisão quer fazer uma enquete entre os seus telespectadores para saber qual o melhor jogador após cada jogo. Para isto, faz-se necessário o desenvolvimento de um programa, que será utilizado pelas telefonistas, para a computação dos votos. Sua equipe foi contratada para desenvolver este programa, utilizando a linguagem de programação C++. Para computar cada voto, a telefonista digitará um número, entre 1 e 23, correspondente ao número da camisa do jogador. Um número de jogador igual zero, indica que a votação foi encerrada. Se um número inválido for digitado, o programa deve ignorá-lo, mostrando uma breve mensagem de aviso, e voltando a pedir outro número. Após o final da votação, o programa deverá exibir:\n",
    "\n",
    "- a. O total de votos computados;\n",
    "\n",
    "- b. Os númeos e respectivos votos de todos os jogadores que receberam votos;\n",
    "\n",
    "- c. O percentual de votos de cada um destes jogadores;\n",
    "\n",
    "- d. O número do jogador escolhido como o melhor jogador da partida, juntamente com o número de votos e o percentual de votos dados a ele;\n",
    "\n",
    "<br>\n",
    "\n",
    "<p> Observe que os votos inválidos e o zero final não devem ser computados como\n",
    "votos. O resultado aparece ordenado pelo número do jogador. O programa\n",
    "deve fazer uso de arrays. O programa deverá executar o cálculo do percentual\n",
    "de cada jogador através de uma função. Esta função receberá dois\n",
    "parâmetros: o número de votos de um jogador e o total de votos. A função\n",
    "calculará o percentual e retornará o valor calculado. Abaixo segue uma tela de\n",
    "exemplo. O disposição das informações deve ser o mais próxima possível ao\n",
    "exemplo. Os dados são fictícios e podem mudar a cada execução do\n",
    "programa. Ao final, o programa deve ainda gravar os dados referentes ao\n",
    "resultado da votação em um arquivo texto no disco, obedecendo a mesma\n",
    "disposição apresentada na tela.\n",
    "</p>\n",
    "\n",
    "<img src=\"https://i.imgur.com/NcYxg2x.png\">\n",
    "\n",
    "<br>\n",
    "\n",
    "<img src=\"https://i.imgur.com/Nx1pn1P.png\">"
   ]
  },
  {
   "cell_type": "code",
   "execution_count": 2,
   "id": "57e8ac52",
   "metadata": {
    "scrolled": false
   },
   "outputs": [
    {
     "name": "stdout",
     "output_type": "stream",
     "text": [
      "Enquete: Quem foi o melhor jogador? \n",
      "Número do jogador (0=fim): 2\n",
      "Número do jogador (0=fim): 5\n",
      "Número do jogador (0=fim): 8\n",
      "Número do jogador (0=fim): 1\n",
      "Número do jogador (0=fim): 2\n",
      "Número do jogador (0=fim): 3\n",
      "Número do jogador (0=fim): 4\n",
      "Número do jogador (0=fim): 6\n",
      "Número do jogador (0=fim): 7\n",
      "Número do jogador (0=fim): 0\n",
      "Resultado da votação:\n",
      "Foram computados 9 votos.\n",
      "Jogador   Votos   %\n",
      " 1         1     11.1%\n",
      " 2         2     22.2%\n",
      " 3         1     11.1%\n",
      " 4         1     11.1%\n",
      " 5         1     11.1%\n",
      " 6         1     11.1%\n",
      " 7         1     11.1%\n",
      " 8         1     11.1%\n",
      "O melhor jogador foi o número 2, com 2 votos, correspondendo a 22.2% do total de votos.\n"
     ]
    }
   ],
   "source": [
    "def calcular_percentual(votos_jogador, total_votos):\n",
    "    return votos_jogador / total_votos * 100\n",
    "\n",
    "votos = [0] * 24  # cria uma lista com 24 elementos, inicializados com zero\n",
    "total_votos = 0\n",
    "numero_jogador = int(input(\"Enquete: Quem foi o melhor jogador? \\nNúmero do jogador (0=fim): \"))\n",
    "while numero_jogador != 0:\n",
    "    if 1 <= numero_jogador <= 23:\n",
    "        votos[numero_jogador] += 1\n",
    "        total_votos += 1\n",
    "    else:\n",
    "        print(\"Informe um valor entre 1 e 23 ou 0 para sair!\")\n",
    "    numero_jogador = int(input(\"Número do jogador (0=fim): \"))\n",
    "\n",
    "print(\"Resultado da votação:\")\n",
    "print(\"Foram computados {} votos.\".format(total_votos))\n",
    "print(\"Jogador   Votos   %\")\n",
    "melhor_jogador = 1\n",
    "votos_melhor_jogador = 0\n",
    "for i in range(1, 24):\n",
    "    if votos[i] > 0:\n",
    "        percentual = calcular_percentual(votos[i], total_votos)\n",
    "        print(\"{:2}        {:2}     {:.1f}%\".format(i, votos[i], percentual))\n",
    "        if votos[i] > votos_melhor_jogador:\n",
    "            melhor_jogador = i\n",
    "            votos_melhor_jogador = votos[i]\n",
    "\n",
    "percentual_melhor_jogador = calcular_percentual(votos_melhor_jogador, total_votos)\n",
    "print(\"O melhor jogador foi o número {}, com {} votos, correspondendo a {:.1f}% do total de votos.\".format(melhor_jogador, votos_melhor_jogador, percentual_melhor_jogador))\n",
    "\n",
    "# Gravando os resultados em arquivo texto\n",
    "with open(\"resultados_enquete.txt\", \"w\") as arquivo:\n",
    "    arquivo.write(\"Resultado da votação:\\n\")\n",
    "    arquivo.write(\"Foram computados {} votos.\\n\".format(total_votos))\n",
    "    arquivo.write(\"Jogador   Votos   %\\n\")\n",
    "    for i in range(1, 24):\n",
    "        if votos[i] > 0:\n",
    "            percentual = calcular_percentual(votos[i], total_votos)\n",
    "            arquivo.write(\"{:2}        {:2}     {:.1f}%\\n\".format(i, votos[i], percentual))\n",
    "    arquivo.write(\"O melhor jogador foi o número {}, com {} votos, correspondendo a {:.1f}% do total de votos.\".format(melhor_jogador, votos_melhor_jogador, percentual_melhor_jogador))"
   ]
  },
  {
   "cell_type": "markdown",
   "id": "027e3251",
   "metadata": {},
   "source": [
    "<h1 align=center>Explicação</h1>"
   ]
  },
  {
   "cell_type": "markdown",
   "id": "d7276cb7",
   "metadata": {},
   "source": [
    "Este código realiza a leitura dos votos dos telespectadores e armazena em um array. Em seguida, realiza o cálculo do total de votos, o número de votos de cada jogador e o percentual de votos de cada um deles. Ao final, é exibido na tela os resultados da votação e é gravado em um arquivo de texto os mesmos resultados."
   ]
  },
  {
   "cell_type": "markdown",
   "id": "8003f256",
   "metadata": {},
   "source": [
    "## 19) Uma empresa de pesquisas precisa tabular os resultados da seguinte enquete feita a um grande quantidade de organizações:\n",
    "\n",
    "<img src=\"https://i.imgur.com/McqEyhE.png\">\n",
    "\n",
    "### Você foi contratado para desenvolver um programa que leia o resultado da enquete e informe ao final o resultado da mesma. O programa deverá ler os valores até ser informado o valor 0, que encerra a entrada dos dados. Não deverão ser aceitos valores além dos válidos para o programa (0 a 6). Os valores referentes a cada uma das opções devem ser armazenados num vetor. Após os dados terem sido completamente informados, o programa deverá calcular a percentual de cada um dos concorrentes e informar o vencedor da enquete. O formato da saída foi dado pela empresa, e é o seguinte:\n",
    "\n",
    "<img src=\"https://i.imgur.com/9ObjKgD.png\">"
   ]
  },
  {
   "cell_type": "code",
   "execution_count": 4,
   "id": "3035962b",
   "metadata": {},
   "outputs": [
    {
     "name": "stdout",
     "output_type": "stream",
     "text": [
      "Digite o número do sistema operacional (1 a 6) ou 0 para encerrar a votação: 1\n",
      "Digite o número do sistema operacional (1 a 6) ou 0 para encerrar a votação: 6\n",
      "Digite o número do sistema operacional (1 a 6) ou 0 para encerrar a votação: 4\n",
      "Digite o número do sistema operacional (1 a 6) ou 0 para encerrar a votação: 4\n",
      "Digite o número do sistema operacional (1 a 6) ou 0 para encerrar a votação: 4\n",
      "Digite o número do sistema operacional (1 a 6) ou 0 para encerrar a votação: 5\n",
      "Digite o número do sistema operacional (1 a 6) ou 0 para encerrar a votação: 4\n",
      "Digite o número do sistema operacional (1 a 6) ou 0 para encerrar a votação: 1\n",
      "Digite o número do sistema operacional (1 a 6) ou 0 para encerrar a votação: 2\n",
      "Digite o número do sistema operacional (1 a 6) ou 0 para encerrar a votação: 3\n",
      "Digite o número do sistema operacional (1 a 6) ou 0 para encerrar a votação: 5\n",
      "Digite o número do sistema operacional (1 a 6) ou 0 para encerrar a votação: 4\n",
      "Digite o número do sistema operacional (1 a 6) ou 0 para encerrar a votação: 0\n",
      "\n",
      "Resultado da votação:\n",
      "\n",
      "Sistema Operacional   Votos   %\n",
      "-------------------   -----   ---\n",
      "Windows Server             2    17%\n",
      "Unix                       1     8%\n",
      "Linux                      1     8%\n",
      "Netware                    5    42%\n",
      "Mac OS                     2    17%\n",
      "Outro                      1     8%\n",
      "-------------------   -----   ---\n",
      "Total                     12\n",
      "\n",
      "O Sistema Operacional mais votado foi o Netware, com 5 votos, correspondendo a 42% dos votos.\n"
     ]
    }
   ],
   "source": [
    "# sistemas_operacionais = [\"Windows Server\", \"Unix\", \"Linux\", \"Netware\", \"Mac OS\", \"Outro\"]\n",
    "votos = [0, 0, 0, 0, 0, 0]\n",
    "\n",
    "while True:\n",
    "    voto = int(input(\"Digite o número do sistema operacional (1 a 6) ou 0 para encerrar a votação: \"))\n",
    "    if voto == 0:\n",
    "        break\n",
    "    elif voto < 1 or voto > 6:\n",
    "        print(\"Opção inválida!\")\n",
    "    else:\n",
    "        votos[voto-1] += 1\n",
    "\n",
    "total_votos = sum(votos)\n",
    "print(\"\\nResultado da votação:\\n\")\n",
    "print(\"Sistema Operacional   Votos   %\")\n",
    "print(\"-------------------   -----   ---\")\n",
    "for i in range(len(sistemas_operacionais)):\n",
    "    percentual = (votos[i] / total_votos) * 100\n",
    "    print(\"{:<20}   {:>5}   {:>3}%\".format(sistemas_operacionais[i], votos[i], round(percentual)))\n",
    "print(\"-------------------   -----   ---\")\n",
    "print(\"{:<20}   {:>5}\".format(\"Total\", total_votos))\n",
    "\n",
    "vencedor = sistemas_operacionais[votos.index(max(votos))]\n",
    "percentual_vencedor = (max(votos) / total_votos) * 100\n",
    "print(\"\\nO Sistema Operacional mais votado foi o {}, com {} votos, correspondendo a {:.0f}% dos votos.\".format(vencedor, max(votos), percentual_vencedor))"
   ]
  },
  {
   "cell_type": "markdown",
   "id": "9ba19aba",
   "metadata": {},
   "source": [
    "<h1 align=center>Explicação</h1>"
   ]
  },
  {
   "cell_type": "markdown",
   "id": "c22055c8",
   "metadata": {},
   "source": [
    "Note que usei a função format() para imprimir os resultados com o formato especificado. A expressão \"{:<20}\".format(s) significa que a string s deve ser impressa com 20 caracteres de largura, alinhada à esquerda (<). A expressão \"{:>5}\".format(n) significa que o número n deve ser impresso com 5 caracteres de largura, alinhado à direita (>). E a expressão \"{:.0f}%\".format(p) significa que o número p deve ser formatado como uma porcentagem, com zero casas decimais."
   ]
  },
  {
   "cell_type": "markdown",
   "id": "675fc465",
   "metadata": {},
   "source": [
    "## 20) As Organizações Tabajara resolveram dar um abono aos seus colaboradores em reconhecimento ao bom resultado alcançado durante o ano que passou. Para isto contratou você para desenvolver a aplicação que servirá como uma projeção de quanto será gasto com o pagamento deste abono\n",
    "\n",
    "<br>\n",
    "\n",
    "<ul>\n",
    "    <strong>\n",
    "      Após reuniões envolvendo a diretoria executiva, a diretoria financeira e os\n",
    "      representantes do sindicato laboral, chegou-se a seguinte forma de cálculo:\n",
    "    </strong> <br>\n",
    "    <br>\n",
    "  <li>a.Cada funcionário receberá o equivalente a 20% do seu salário bruto de\n",
    "    dezembro; a.O piso do abono será de 100 reais, isto é, aqueles funcionários cujo salário\n",
    "    for muito baixo, recebem este valor mínimo; Neste momento, não se deve ter nenhuma\n",
    "    preocupação com colaboradores com tempo menor de casa, descontos, impostos ou\n",
    "    outras particularidades. Seu programa deverá permitir a digitação do salário de um\n",
    "    número indefinido (desconhecido) de salários. Um valor de salário igual a 0 (zero)\n",
    "    encerra a digitação. Após a entrada de todos os dados o programa deverá calcular o\n",
    "    valor do abono concedido a cada colaborador, de acordo com a regra definida acima, <strong>Ao final, o programa\n",
    "      deverá apresentar:</strong>\n",
    "    </li>\n",
    "  <li>O salário de cada funcionário, juntamente com o valor do abono; </li>\n",
    "  <li>O número total de funcionário processados;</li>\n",
    "  <li>O valor total a ser gasto com o pagamento do abono;</li>\n",
    "  <li>O número de funcionário que receberá o valor mínimo de 100 reais;</li>\n",
    "  <li>O maior valor pago como abono; A tela abaixo é um exemplo de execução do\n",
    "    programa, apenas para fins ilustrativos. Os valores podem mudar a cada execução do\n",
    "    programa.</li>\n",
    "</ul>\n",
    "<br>\n",
    "<br>\n",
    "<img src=\"https://i.imgur.com/rZ6APVU.png\">"
   ]
  },
  {
   "cell_type": "code",
   "execution_count": 5,
   "id": "1847315d",
   "metadata": {},
   "outputs": [
    {
     "name": "stdout",
     "output_type": "stream",
     "text": [
      "Projeção de Gastos com Abono\n",
      "============================\n",
      "Salário: 1000\n",
      "R$ 1000.00 - R$ 200.00\n",
      "Salário: 100000\n",
      "R$ 100000.00 - R$ 20000.00\n",
      "Salário: 200000\n",
      "R$ 200000.00 - R$ 40000.00\n",
      "Salário: 0\n",
      "Foram processados 3 colaboradores\n",
      "Total gasto com abonos: R$ 60200.00\n",
      "Valor mínimo pago a 3 colaboradores\n",
      "Maior valor de abono pago: R$ 40000.00\n"
     ]
    }
   ],
   "source": [
    "print(\"Projeção de Gastos com Abono\")\n",
    "print(\"============================\")\n",
    "\n",
    "salario = float(input(\"Salário: \"))\n",
    "num_colaboradores = 0\n",
    "valor_total_abono = 0\n",
    "valor_minimo = 100\n",
    "valor_maximo = 0\n",
    "\n",
    "while salario != 0:\n",
    "    num_colaboradores += 1\n",
    "    abono = salario * 0.2 if salario * 0.2 >= valor_minimo else valor_minimo\n",
    "    valor_total_abono += abono\n",
    "    valor_maximo = abono if abono > valor_maximo else valor_maximo\n",
    "    print(f\"R$ {salario:.2f} - R$ {abono:.2f}\")\n",
    "    salario = float(input(\"Salário: \"))\n",
    "\n",
    "print(f\"Foram processados {num_colaboradores} colaboradores\")\n",
    "print(f\"Total gasto com abonos: R$ {valor_total_abono:.2f}\")\n",
    "print(f\"Valor mínimo pago a {num_colaboradores} colaboradores\")\n",
    "print(f\"Maior valor de abono pago: R$ {valor_maximo:.2f}\")"
   ]
  },
  {
   "cell_type": "markdown",
   "id": "af311ebb",
   "metadata": {},
   "source": [
    "<h1 align=center>Explicação</h1>"
   ]
  },
  {
   "cell_type": "markdown",
   "id": "e24a8609",
   "metadata": {},
   "source": [
    "A primeira parte do código apenas imprime o cabeçalho da aplicação.\n",
    "\n",
    "Na segunda parte do código, é lido o salário do primeiro colaborador.\n",
    "\n",
    "Em seguida, inicia-se um laço while que vai executar enquanto o salário lido for diferente de zero.\n",
    "\n",
    "Dentro desse laço, para cada salário lido, é calculado o valor do abono de acordo com a regra estabelecida no enunciado.\n",
    "\n",
    "O valor do abono é então somado ao valor total gasto com abonos e o valor máximo de abono é atualizado, caso necessário.\n",
    "\n",
    "Por fim, o salário e o valor do abono são impressos na tela.\n",
    "\n",
    "Quando o usuário digita 0 (zero) para o salário, o laço é interrompido e são impressas as informações finais, como o número de colaboradores processados, o valor total gasto com abonos, o número de colaboradores que receberam o valor mínimo de abono e o maior valor de abono pago."
   ]
  },
  {
   "cell_type": "markdown",
   "id": "59b67655",
   "metadata": {},
   "source": [
    "## 21) Faça um programa que carregue uma lista com os modelos de cinco carros (exemplo de modelos: FUSCA, GOL, VECTRA etc). Carregue uma outra lista com o consumo desses carros, isto é, quantos quilômetros cada um desses carros faz com um litro de combustível. Calcule e mostre: \n",
    "\n",
    "<p>\n",
    "** O modelo do carro mais econômico;\n",
    "</p>\n",
    "\n",
    "<p>\n",
    "** Quantos litros de combustível cada um dos carros cadastrados consome para percorrer\n",
    "uma distância de 1000 quilômetros e quanto isto custará, considerando um que a\n",
    "gasolina custe R$ 2,25 o litro. Abaixo segue uma tela de exemplo. O disposição das\n",
    "informações deve ser o mais próxima possível ao exemplo. Os dados são fictícios e\n",
    "podem mudar a cada execução do programa.\n",
    "</p>\n",
    "\n",
    "<img src=\"https://i.imgur.com/HiqZWxf.png\">\n",
    "<br>\n",
    "<img src=\"https://i.imgur.com/NsQy89e.png\">"
   ]
  },
  {
   "cell_type": "code",
   "execution_count": 6,
   "id": "8dc43f7f",
   "metadata": {},
   "outputs": [
    {
     "name": "stdout",
     "output_type": "stream",
     "text": [
      "Comparativo de Consumo de Combustível\n",
      "Veículo 1: \n",
      "Nome: FUSCA\n",
      "Km por litro: 7\n",
      "142.9 litros - R$ 321.43\n",
      "\n",
      "Veículo 2: \n",
      "Nome: GOL\n",
      "Km por litro: 10\n",
      "100.0 litros - R$ 225.00\n",
      "\n",
      "Veículo 3: \n",
      "Nome: UNO\n",
      "Km por litro: 12.5\n",
      "80.0 litros - R$ 180.00\n",
      "\n",
      "Veículo 4: \n",
      "Nome: VECTRA\n",
      "Km por litro: 9\n",
      "111.1 litros - R$ 250.00\n",
      "\n",
      "Veículo 5: \n",
      "Nome: PEUGEOT\n",
      "Km por litro: 14.5\n",
      "69.0 litros - R$ 155.17\n",
      "\n",
      "O menor consumo é do FUSCA.\n"
     ]
    }
   ],
   "source": [
    "carros = [\"FUSCA\", \"GOL\", \"UNO\", \"VECTRA\", \"PEUGEOT\"]\n",
    "consumo = [7, 10, 12.5, 9, 14.5]\n",
    "\n",
    "print(\"Comparativo de Consumo de Combustível\")\n",
    "\n",
    "menor_consumo = consumo[0]\n",
    "indice_menor_consumo = 0\n",
    "\n",
    "for i in range(len(carros)):\n",
    "    print(\"Veículo {}: \".format(i+1))\n",
    "    print(\"Nome: {}\".format(carros[i]))\n",
    "    print(\"Km por litro: {}\".format(consumo[i]))\n",
    "\n",
    "    litros = 1000 / consumo[i]\n",
    "    custo = litros * 2.25\n",
    "\n",
    "    print(\"{:.1f} litros - R$ {:.2f}\".format(litros, custo))\n",
    "    print()\n",
    "\n",
    "    if consumo[i] > 0 and consumo[i] < menor_consumo:\n",
    "        menor_consumo = consumo[i]\n",
    "        indice_menor_consumo = i\n",
    "\n",
    "print(\"O menor consumo é do {}.\".format(carros[indice_menor_consumo]))"
   ]
  },
  {
   "cell_type": "markdown",
   "id": "14078ac8",
   "metadata": {},
   "source": [
    "<h1 align=center>Explicação</h1>"
   ]
  },
  {
   "cell_type": "markdown",
   "id": "8ddd3403",
   "metadata": {},
   "source": [
    "Nesse código, primeiro criei as listas carros e consumo. Em seguida, percorremos a lista de carros e para cada um deles, calculamos o consumo de combustível para percorrer 1000 km e o custo correspondente. Também verificamos se o consumo é menor que o menor consumo encontrado até o momento e, se for, atualizamos o menor consumo e o índice correspondente. Por fim, imprimimos qual é o modelo mais econômico."
   ]
  },
  {
   "cell_type": "markdown",
   "id": "2492feae",
   "metadata": {},
   "source": [
    "## 22) Sua organização acaba de contratar um estagiário para trabalhar no Suporte de Informática, com a intenção de fazer um levantamento nas sucatas encontradas nesta área. A primeira tarefa dele é testar todos os cerca de 200 mouses que se encontram lá, testando e anotando o estado de cada um deles, para verificar o que se pode aproveitar deles\n",
    "\n",
    "- Foi requisitado que você desenvolva um programa para registrar este levantamento. O programa deverá receber um número indeterminado de entradas, cada uma contendo: um número de identificação do mouse o tipo de defeito:\n",
    "\n",
    "- necessita da esfera;\n",
    "\n",
    "- necessita de limpeza; a.necessita troca do cabo ou conector; a.quebrado ou inutilizado Uma identificação igual a zero encerra o programa. Ao final o programa deverá emitir o seguinte relatório:\n",
    "\n",
    "<img src=\"https://i.imgur.com/3mlaqSi.png\">\n"
   ]
  },
  {
   "cell_type": "code",
   "execution_count": 7,
   "id": "feb86496",
   "metadata": {},
   "outputs": [
    {
     "name": "stdout",
     "output_type": "stream",
     "text": [
      "Digite o número de identificação do mouse (0 para sair): 4\n",
      "Digite o código da situação do mouse: 1-necessita da esfera / 2-necessita de limpeza / 3-necessita troca do cabo ou conector / 4-quebrado ou inutilizado: 2\n",
      "Digite o número de identificação do mouse (0 para sair): 4\n",
      "Digite o código da situação do mouse: 1-necessita da esfera / 2-necessita de limpeza / 3-necessita troca do cabo ou conector / 4-quebrado ou inutilizado: 1\n",
      "Digite o número de identificação do mouse (0 para sair): 0\n",
      "Quantidade de mouses: 2\n",
      "Situação\tQuantidade\tPercentual\n",
      "1-necessita da esfera\t1\t\t50.00%\n",
      "2-necessita de limpeza\t1\t\t50.00%\n",
      "3-necessita troca do cabo ou conector\t0\t\t0.00%\n",
      "4-quebrado ou inutilizado\t0\t\t0.00%\n"
     ]
    }
   ],
   "source": [
    "defeitos = {\n",
    "    1: \"necessita da esfera\",\n",
    "    2: \"necessita de limpeza\",\n",
    "    3: \"necessita troca do cabo ou conector\",\n",
    "    4: \"quebrado ou inutilizado\"\n",
    "}\n",
    "\n",
    "quantidades = {\n",
    "    1: 0,\n",
    "    2: 0,\n",
    "    3: 0,\n",
    "    4: 0\n",
    "}\n",
    "\n",
    "total = 0\n",
    "\n",
    "while True:\n",
    "    id_mouse = int(input(\"Digite o número de identificação do mouse (0 para sair): \"))\n",
    "\n",
    "    if id_mouse == 0:\n",
    "        break\n",
    "\n",
    "    situacao = int(input(\"Digite o código da situação do mouse: 1-necessita da esfera / 2-necessita de limpeza / 3-necessita troca do cabo ou conector / 4-quebrado ou inutilizado: \"))\n",
    "\n",
    "    if situacao in defeitos:\n",
    "        quantidades[situacao] += 1\n",
    "        total += 1\n",
    "    else:\n",
    "        print(\"Situação inválida!\")\n",
    "\n",
    "print(\"Quantidade de mouses:\", total)\n",
    "print(\"Situação\\tQuantidade\\tPercentual\")\n",
    "\n",
    "for situacao, quantidade in quantidades.items():\n",
    "    percentual = quantidade / total * 100\n",
    "    print(f\"{situacao}-{defeitos[situacao]}\\t{quantidade}\\t\\t{percentual:.2f}%\")"
   ]
  },
  {
   "cell_type": "markdown",
   "id": "dc126038",
   "metadata": {},
   "source": [
    "<h1 align=center>Explicação</h1>"
   ]
  },
  {
   "cell_type": "markdown",
   "id": "0f1c3a2e",
   "metadata": {},
   "source": [
    "O programa começa definindo dois dicionários: defeitos mapeia os códigos de situação para suas respectivas descrições e quantidades inicia todas as quantidades como zero. Em seguida, o programa entra em um loop que lê as entradas do usuário até que seja digitado 0.\n",
    "\n",
    "Para cada entrada, o programa verifica se o código da situação é válido e incrementa a quantidade correspondente no dicionário quantidades. O total de mouses também é incrementado.\n",
    "\n",
    "Após sair do loop, o programa imprime o cabeçalho do relatório e itera sobre as situações no dicionário quantidades, calculando o percentual de cada uma e imprimindo a linha correspondente do relatório."
   ]
  },
  {
   "cell_type": "markdown",
   "id": "1018e5aa",
   "metadata": {},
   "source": [
    "## 23) A ACME Inc., uma empresa de 500 funcionários, está tendo problemas de espaço em disco no seu servidor de arquivos. Para tentar resolver este problema, o Administrador de Rede precisa saber qual o espaço ocupado pelos usuários, e identificar os usuários com maior espaço ocupado. Através de um programa, baixado da Internet, ele conseguiu gerar o seguinte arquivo, chamado \"usuarios.txt\":\n",
    "\n",
    "<img src=\"https://i.imgur.com/osC9Cbn.png\">\n",
    "\n",
    "<p>Neste arquivo, o nome do usuário possui 15 caracteres. A partir deste arquivo, você deve criar\n",
    "um programa que gere um relatório, chamado \"relatório.txt\", no seguinte formato:\n",
    "</p>\n",
    "\n",
    "<img src=\"https://i.imgur.com/EtC3fjN.png\">"
   ]
  },
  {
   "cell_type": "code",
   "execution_count": 15,
   "id": "ff6fbb4a",
   "metadata": {},
   "outputs": [],
   "source": [
    "def converte_para_mb(bytes):\n",
    "    \"\"\"\n",
    "    Converte o tamanho em bytes para megabytes.\n",
    "    \"\"\"\n",
    "    return bytes / (1024.0 * 1024.0)\n",
    "\n",
    "def calcula_percentual(bytes, total_bytes):\n",
    "    \"\"\"\n",
    "    Calcula o percentual ocupado em relação ao total.\n",
    "    \"\"\"\n",
    "    return (bytes / total_bytes) * 100.0\n",
    "\n",
    "# abre o arquivo de usuários para leitura\n",
    "with open('usuarios.txt', 'r') as arq_entrada:\n",
    "    # inicializa as variáveis\n",
    "    usuarios = []\n",
    "    total_bytes = 0\n",
    "\n",
    "    # percorre cada linha do arquivo\n",
    "    for linha in arq_entrada:\n",
    "        # separa o nome do usuário e o espaço ocupado em disco\n",
    "        nome, bytes_str = linha.strip().split()\n",
    "\n",
    "        # converte o tamanho em disco para megabytes\n",
    "        bytes = int(bytes_str)\n",
    "        mb = converte_para_mb(bytes)\n",
    "\n",
    "        # adiciona o usuário à lista\n",
    "        usuarios.append((nome, mb))\n",
    "\n",
    "        # atualiza o total de espaço ocupado em disco\n",
    "        total_bytes += bytes\n",
    "\n",
    "# ordena os usuários em ordem decrescente de espaço ocupado em disco\n",
    "usuarios = sorted(usuarios, key=lambda x: x[1], reverse=True)\n",
    "\n",
    "# abre o arquivo de relatório para escrita\n",
    "with open('relatorio.txt', 'w') as arq_saida:\n",
    "    # escreve o cabeçalho do relatório\n",
    "    arq_saida.write('ACME Inc. Uso do espaço em disco pelos usuários\\n')\n",
    "    arq_saida.write('-' * 60 + '\\n')\n",
    "    arq_saida.write('{:<5} {:<15} {:<15} {:<10}\\n'.format('Nr.', 'Usuário', 'Espaço utilizado', '% do uso'))\n",
    "    arq_saida.write('-' * 60 + '\\n')\n",
    "\n",
    "    # percorre cada usuário e escreve as informações no arquivo de relatório\n",
    "    for i, (nome, mb) in enumerate(usuarios):\n",
    "        percentual = calcula_percentual(mb, converte_para_mb(total_bytes))\n",
    "        arq_saida.write('{:<5} {:<15} {:<15.2f} MB {:<10.2f}%\\n'.format(i+1, nome, mb, percentual))\n",
    "\n",
    "    # escreve o total e média de espaço ocupado em disco\n",
    "    arq_saida.write('-' * 60 + '\\n')\n",
    "    arq_saida.write('Espaço total ocupado: {:.2f} MB\\n'.format(converte_para_mb(total_bytes)))\n",
    "    arq_saida.write('Espaço médio ocupado: {:.2f} MB\\n'.format(converte_para_mb(total_bytes) / len(usuarios)))\n"
   ]
  },
  {
   "cell_type": "markdown",
   "id": "824240b2",
   "metadata": {},
   "source": [
    "<h1 align=center>Explicação</h1>"
   ]
  },
  {
   "cell_type": "markdown",
   "id": "7edc6dec",
   "metadata": {},
   "source": [
    "O programa lê o arquivo usuarios.txt, converte o tamanho em disco para megabytes, armazena os usuários em uma lista e calcula o total de espaço ocupado em disco. Em seguida, ordena a lista de usuários em ordem decrescente de espaço ocupado em disco e escreve as informações no arquivo relatorio.txt, incluindo o número do usuário, o nome, o espaço utilizado em megabytes e o percentual de uso. Por fim, escreve o total e a média de espaço ocupado em disco"
   ]
  },
  {
   "cell_type": "markdown",
   "id": "05fdc551",
   "metadata": {},
   "source": [
    "## 24) Faça um programa que simule um lançamento de dados. Lance o dado 100 vezes e armazene os resultados em um vetor . Depois, mostre quantas vezes cada valor foi conseguido. Dica: use um vetor de contadores(1-6) e uma função para gerar números aleatórios, simulando os lançamentos dos dados."
   ]
  },
  {
   "cell_type": "code",
   "execution_count": 22,
   "id": "92495284",
   "metadata": {},
   "outputs": [
    {
     "name": "stdout",
     "output_type": "stream",
     "text": [
      "O número 1 foi obtido 20 vezes.\n",
      "O número 2 foi obtido 19 vezes.\n",
      "O número 3 foi obtido 16 vezes.\n",
      "O número 4 foi obtido 12 vezes.\n",
      "O número 5 foi obtido 15 vezes.\n",
      "O número 6 foi obtido 18 vezes.\n"
     ]
    }
   ],
   "source": [
    "import random\n",
    "\n",
    "# Função para gerar um número aleatório entre 1 e 6\n",
    "def lancar_dado():\n",
    "    return random.randint(1, 6)\n",
    "\n",
    "# Inicializa o vetor de contagem com zeros\n",
    "contagem = [0] * 6\n",
    "\n",
    "# Realiza 100 lançamentos de dados e atualiza a contagem\n",
    "for i in range(100):\n",
    "    resultado = lancar_dado()\n",
    "    contagem[resultado-1] += 1\n",
    "\n",
    "# Mostra os resultados\n",
    "for i in range(6):\n",
    "    print(f\"O número {i+1} foi obtido {contagem[i]} vezes.\")"
   ]
  },
  {
   "cell_type": "markdown",
   "id": "d86e44a6",
   "metadata": {},
   "source": [
    "<h1 align=center>Explicação</h1>"
   ]
  },
  {
   "cell_type": "markdown",
   "id": "fd807497",
   "metadata": {},
   "source": [
    "O código é uma implementação em Python que simula um lançamento de dados e armazena os resultados em um vetor. O programa utiliza a biblioteca random para gerar números aleatórios que representam as faces do dado, e armazena esses resultados em um vetor chamado \"dados\".\n",
    "\n",
    "O laço \"for\" é usado para simular o lançamento do dado 100 vezes. A cada iteração, a função \"randint\" é usada para gerar um número aleatório entre 1 e 6, que é adicionado ao vetor \"dados\" na posição correspondente ao número obtido. Por exemplo, se o número aleatório gerado for 3, então o valor na posição 2 do vetor \"dados\" é incrementado em 1.\n",
    "\n",
    "No final, outro laço \"for\" é usado para percorrer o vetor \"dados\" e mostrar a quantidade de vezes que cada valor foi obtido. Isso é feito simplesmente imprimindo o valor da posição do vetor correspondente ao número do dado e a quantidade de vezes que esse valor foi obtido.\n",
    "\n",
    "Em resumo, o programa simula o lançamento de um dado 100 vezes e mostra a frequência com que cada face do dado foi obtida."
   ]
  }
 ],
 "metadata": {
  "kernelspec": {
   "display_name": "Python 3 (ipykernel)",
   "language": "python",
   "name": "python3"
  },
  "language_info": {
   "codemirror_mode": {
    "name": "ipython",
    "version": 3
   },
   "file_extension": ".py",
   "mimetype": "text/x-python",
   "name": "python",
   "nbconvert_exporter": "python",
   "pygments_lexer": "ipython3",
   "version": "3.9.13"
  }
 },
 "nbformat": 4,
 "nbformat_minor": 5
}
